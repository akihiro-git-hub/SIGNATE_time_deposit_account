{
 "cells": [
  {
   "cell_type": "code",
   "execution_count": 87,
   "metadata": {},
   "outputs": [],
   "source": [
    "import numpy as np\n",
    "import pandas as pd\n",
    "import matplotlib.pyplot as plt\n",
    "from matplotlib import gridspec\n",
    "import seaborn as sns\n",
    "import plotly.graph_objects as go\n",
    "import plotly.express as px\n",
    "from sklearn.model_selection import KFold\n",
    "from sklearn.metrics import log_loss, accuracy_score\n",
    "from sklearn.metrics import roc_auc_score, roc_curve\n",
    "from sklearn.preprocessing import LabelEncoder\n",
    "import xgboost as xgb\n",
    "from scipy.stats import zscore\n",
    "from sklearn.preprocessing import StandardScaler\n",
    "from sklearn.preprocessing import LabelEncoder\n",
    "from sklearn.ensemble import RandomForestRegressor\n",
    "from keras.layers import Dense,Dropout\n",
    "from keras.models import Model, Sequential\n",
    "from keras.callbacks import EarlyStopping\n",
    "from sklearn.preprocessing import StandardScaler\n",
    "from sklearn.ensemble import RandomForestRegressor\n",
    "from sklearn.linear_model import LinearRegression, Lasso,Ridge\n",
    "from sklearn.cluster import KMeans\n",
    "from sklearn.neighbors import KNeighborsClassifier\n",
    "from sklearn.ensemble import VotingClassifier\n",
    "from sklearn.model_selection import cross_val_score\n",
    "from keras.layers.advanced_activations import ReLU, PReLU\n",
    "from keras.optimizers import SGD, Adam"
   ]
  },
  {
   "cell_type": "code",
   "execution_count": 88,
   "metadata": {},
   "outputs": [],
   "source": [
    "train = pd.read_csv('train_x_2.csv')\n",
    "train_y = pd.read_csv('C:\\\\Users\\\\odoru\\\\SIGNATE_time_deposit_account\\\\dataset\\\\train_y_xgboost.csv')"
   ]
  },
  {
   "cell_type": "code",
   "execution_count": 91,
   "metadata": {},
   "outputs": [
    {
     "ename": "TypeError",
     "evalue": "fit() got an unexpected keyword argument 'batch_size'",
     "output_type": "error",
     "traceback": [
      "\u001b[1;31m---------------------------------------------------------------------------\u001b[0m",
      "\u001b[1;31mTypeError\u001b[0m                                 Traceback (most recent call last)",
      "\u001b[1;32m<ipython-input-91-ace6982edc9e>\u001b[0m in \u001b[0;36m<module>\u001b[1;34m\u001b[0m\n\u001b[0;32m     14\u001b[0m               metrics=['accuracy'])\n\u001b[0;32m     15\u001b[0m \u001b[0mearly_stopping\u001b[0m \u001b[1;33m=\u001b[0m \u001b[0mEarlyStopping\u001b[0m\u001b[1;33m(\u001b[0m\u001b[0mmonitor\u001b[0m\u001b[1;33m=\u001b[0m\u001b[1;34m'val_loss'\u001b[0m\u001b[1;33m,\u001b[0m \u001b[0mpatience\u001b[0m\u001b[1;33m=\u001b[0m\u001b[1;36m20\u001b[0m\u001b[1;33m,\u001b[0m \u001b[0mrestore_best_weights\u001b[0m\u001b[1;33m=\u001b[0m\u001b[1;32mTrue\u001b[0m\u001b[1;33m)\u001b[0m\u001b[1;33m\u001b[0m\u001b[1;33m\u001b[0m\u001b[0m\n\u001b[1;32m---> 16\u001b[1;33m \u001b[0mhistory\u001b[0m \u001b[1;33m=\u001b[0m \u001b[0mmodel\u001b[0m\u001b[1;33m.\u001b[0m\u001b[0mfit\u001b[0m\u001b[1;33m(\u001b[0m\u001b[0mtr_x\u001b[0m\u001b[1;33m,\u001b[0m\u001b[0mtr_y\u001b[0m\u001b[1;33m,\u001b[0m\u001b[0mbatch_size\u001b[0m\u001b[1;33m=\u001b[0m\u001b[0mbatch_size\u001b[0m\u001b[1;33m,\u001b[0m \u001b[0mepochs\u001b[0m\u001b[1;33m=\u001b[0m\u001b[0mepochs\u001b[0m\u001b[1;33m,\u001b[0m\u001b[0mverbose\u001b[0m\u001b[1;33m=\u001b[0m\u001b[1;36m1\u001b[0m\u001b[1;33m,\u001b[0m\u001b[0mvalidation_data\u001b[0m \u001b[1;33m=\u001b[0m \u001b[1;33m(\u001b[0m\u001b[0mva_x\u001b[0m\u001b[1;33m,\u001b[0m\u001b[0mva_y\u001b[0m\u001b[1;33m)\u001b[0m\u001b[1;33m,\u001b[0m\u001b[0mcallbacks\u001b[0m\u001b[1;33m=\u001b[0m\u001b[1;33m[\u001b[0m\u001b[0mearly_stopping\u001b[0m\u001b[1;33m]\u001b[0m\u001b[1;33m)\u001b[0m\u001b[1;33m\u001b[0m\u001b[1;33m\u001b[0m\u001b[0m\n\u001b[0m",
      "\u001b[1;31mTypeError\u001b[0m: fit() got an unexpected keyword argument 'batch_size'"
     ]
    }
   ],
   "source": [
    "batch_size = 128\n",
    "epochs = 300\n",
    "model1 = Sequential()\n",
    "model1.add(Dropout(0.05, input_shape=(tr_x.shape[1],)))\n",
    "model1.add(Dense(96,activation=PReLU()))\n",
    "model1.add(Dropout(0.1))\n",
    "model1.add(Dense(96,activation=PReLU()))\n",
    "model1.add(Dropout(0.1))\n",
    "model1.add(Dense(96,activation=PReLU()))\n",
    "model1.add(Dropout(0.1))\n",
    "model1.add(Dense(1,activation = 'sigmoid'))\n",
    "model1.compile(loss = 'binary_crossentropy',\n",
    "optimizer = SGD(lr=0.0016590360920686548, decay=1e-6, momentum=0.9, nesterov=True),\n",
    "              metrics=['accuracy'])\n",
    "early_stopping = EarlyStopping(monitor='val_loss', patience=20, restore_best_weights=True)\n",
    "history = model.fit(tr_x,tr_y,batch_size=batch_size, epochs=epochs,verbose=1,validation_data = (va_x,va_y),callbacks=[early_stopping])\n"
   ]
  },
  {
   "cell_type": "code",
   "execution_count": 77,
   "metadata": {},
   "outputs": [],
   "source": [
    "model2 = Model2KMeans()\n",
    "model3 = Model2KNN()\n",
    "\n",
    "estimators = [\n",
    "    ('Kmeans', model2),\n",
    "    ('KNN', model3)\n",
    "]"
   ]
  },
  {
   "cell_type": "code",
   "execution_count": 78,
   "metadata": {},
   "outputs": [
    {
     "ename": "ValueError",
     "evalue": "The estimator Model2KMeans should be a classifier.",
     "output_type": "error",
     "traceback": [
      "\u001b[1;31m---------------------------------------------------------------------------\u001b[0m",
      "\u001b[1;31mValueError\u001b[0m                                Traceback (most recent call last)",
      "\u001b[1;32m<ipython-input-78-fe8c27c19e0b>\u001b[0m in \u001b[0;36m<module>\u001b[1;34m\u001b[0m\n\u001b[0;32m      1\u001b[0m \u001b[0mensumble\u001b[0m \u001b[1;33m=\u001b[0m \u001b[0mVotingClassifier\u001b[0m\u001b[1;33m(\u001b[0m\u001b[0mestimators\u001b[0m\u001b[1;33m)\u001b[0m\u001b[1;33m\u001b[0m\u001b[1;33m\u001b[0m\u001b[0m\n\u001b[1;32m----> 2\u001b[1;33m \u001b[0mensumble\u001b[0m\u001b[1;33m.\u001b[0m\u001b[0mfit\u001b[0m\u001b[1;33m(\u001b[0m\u001b[0mtrain\u001b[0m\u001b[1;33m,\u001b[0m \u001b[0mtrain_y\u001b[0m\u001b[1;33m)\u001b[0m\u001b[1;33m\u001b[0m\u001b[1;33m\u001b[0m\u001b[0m\n\u001b[0m",
      "\u001b[1;32m~\\AppData\\Local\\Programs\\Python\\Python37\\lib\\site-packages\\sklearn\\ensemble\\_voting.py\u001b[0m in \u001b[0;36mfit\u001b[1;34m(self, X, y, sample_weight)\u001b[0m\n\u001b[0;32m    263\u001b[0m         \u001b[0mtransformed_y\u001b[0m \u001b[1;33m=\u001b[0m \u001b[0mself\u001b[0m\u001b[1;33m.\u001b[0m\u001b[0mle_\u001b[0m\u001b[1;33m.\u001b[0m\u001b[0mtransform\u001b[0m\u001b[1;33m(\u001b[0m\u001b[0my\u001b[0m\u001b[1;33m)\u001b[0m\u001b[1;33m\u001b[0m\u001b[1;33m\u001b[0m\u001b[0m\n\u001b[0;32m    264\u001b[0m \u001b[1;33m\u001b[0m\u001b[0m\n\u001b[1;32m--> 265\u001b[1;33m         \u001b[1;32mreturn\u001b[0m \u001b[0msuper\u001b[0m\u001b[1;33m(\u001b[0m\u001b[1;33m)\u001b[0m\u001b[1;33m.\u001b[0m\u001b[0mfit\u001b[0m\u001b[1;33m(\u001b[0m\u001b[0mX\u001b[0m\u001b[1;33m,\u001b[0m \u001b[0mtransformed_y\u001b[0m\u001b[1;33m,\u001b[0m \u001b[0msample_weight\u001b[0m\u001b[1;33m)\u001b[0m\u001b[1;33m\u001b[0m\u001b[1;33m\u001b[0m\u001b[0m\n\u001b[0m\u001b[0;32m    266\u001b[0m \u001b[1;33m\u001b[0m\u001b[0m\n\u001b[0;32m    267\u001b[0m     \u001b[1;32mdef\u001b[0m \u001b[0mpredict\u001b[0m\u001b[1;33m(\u001b[0m\u001b[0mself\u001b[0m\u001b[1;33m,\u001b[0m \u001b[0mX\u001b[0m\u001b[1;33m)\u001b[0m\u001b[1;33m:\u001b[0m\u001b[1;33m\u001b[0m\u001b[1;33m\u001b[0m\u001b[0m\n",
      "\u001b[1;32m~\\AppData\\Local\\Programs\\Python\\Python37\\lib\\site-packages\\sklearn\\ensemble\\_voting.py\u001b[0m in \u001b[0;36mfit\u001b[1;34m(self, X, y, sample_weight)\u001b[0m\n\u001b[0;32m     63\u001b[0m     \u001b[1;32mdef\u001b[0m \u001b[0mfit\u001b[0m\u001b[1;33m(\u001b[0m\u001b[0mself\u001b[0m\u001b[1;33m,\u001b[0m \u001b[0mX\u001b[0m\u001b[1;33m,\u001b[0m \u001b[0my\u001b[0m\u001b[1;33m,\u001b[0m \u001b[0msample_weight\u001b[0m\u001b[1;33m=\u001b[0m\u001b[1;32mNone\u001b[0m\u001b[1;33m)\u001b[0m\u001b[1;33m:\u001b[0m\u001b[1;33m\u001b[0m\u001b[1;33m\u001b[0m\u001b[0m\n\u001b[0;32m     64\u001b[0m         \u001b[1;34m\"\"\"Get common fit operations.\"\"\"\u001b[0m\u001b[1;33m\u001b[0m\u001b[1;33m\u001b[0m\u001b[0m\n\u001b[1;32m---> 65\u001b[1;33m         \u001b[0mnames\u001b[0m\u001b[1;33m,\u001b[0m \u001b[0mclfs\u001b[0m \u001b[1;33m=\u001b[0m \u001b[0mself\u001b[0m\u001b[1;33m.\u001b[0m\u001b[0m_validate_estimators\u001b[0m\u001b[1;33m(\u001b[0m\u001b[1;33m)\u001b[0m\u001b[1;33m\u001b[0m\u001b[1;33m\u001b[0m\u001b[0m\n\u001b[0m\u001b[0;32m     66\u001b[0m \u001b[1;33m\u001b[0m\u001b[0m\n\u001b[0;32m     67\u001b[0m         if (self.weights is not None and\n",
      "\u001b[1;32m~\\AppData\\Local\\Programs\\Python\\Python37\\lib\\site-packages\\sklearn\\ensemble\\_base.py\u001b[0m in \u001b[0;36m_validate_estimators\u001b[1;34m(self)\u001b[0m\n\u001b[0;32m    251\u001b[0m                 raise ValueError(\n\u001b[0;32m    252\u001b[0m                     \"The estimator {} should be a {}.\".format(\n\u001b[1;32m--> 253\u001b[1;33m                         \u001b[0mest\u001b[0m\u001b[1;33m.\u001b[0m\u001b[0m__class__\u001b[0m\u001b[1;33m.\u001b[0m\u001b[0m__name__\u001b[0m\u001b[1;33m,\u001b[0m \u001b[0mis_estimator_type\u001b[0m\u001b[1;33m.\u001b[0m\u001b[0m__name__\u001b[0m\u001b[1;33m[\u001b[0m\u001b[1;36m3\u001b[0m\u001b[1;33m:\u001b[0m\u001b[1;33m]\u001b[0m\u001b[1;33m\u001b[0m\u001b[1;33m\u001b[0m\u001b[0m\n\u001b[0m\u001b[0;32m    254\u001b[0m                     )\n\u001b[0;32m    255\u001b[0m                 )\n",
      "\u001b[1;31mValueError\u001b[0m: The estimator Model2KMeans should be a classifier."
     ]
    }
   ],
   "source": [
    "ensumble = VotingClassifier(estimators)\n",
    "ensumble.fit(train, train_y)"
   ]
  },
  {
   "cell_type": "code",
   "execution_count": 55,
   "metadata": {},
   "outputs": [
    {
     "ename": "TypeError",
     "evalue": "Cannot clone object '<models.Model1NN2 object at 0x000001D0A30D2438>' (type <class 'models.Model1NN2'>): it does not seem to be a scikit-learn estimator as it does not implement a 'get_params' method.",
     "output_type": "error",
     "traceback": [
      "\u001b[1;31m---------------------------------------------------------------------------\u001b[0m",
      "\u001b[1;31mEmpty\u001b[0m                                     Traceback (most recent call last)",
      "\u001b[1;32m~\\AppData\\Local\\Programs\\Python\\Python37\\lib\\site-packages\\joblib\\parallel.py\u001b[0m in \u001b[0;36mdispatch_one_batch\u001b[1;34m(self, iterator)\u001b[0m\n\u001b[0;32m    807\u001b[0m             \u001b[1;32mtry\u001b[0m\u001b[1;33m:\u001b[0m\u001b[1;33m\u001b[0m\u001b[1;33m\u001b[0m\u001b[0m\n\u001b[1;32m--> 808\u001b[1;33m                 \u001b[0mtasks\u001b[0m \u001b[1;33m=\u001b[0m \u001b[0mself\u001b[0m\u001b[1;33m.\u001b[0m\u001b[0m_ready_batches\u001b[0m\u001b[1;33m.\u001b[0m\u001b[0mget\u001b[0m\u001b[1;33m(\u001b[0m\u001b[0mblock\u001b[0m\u001b[1;33m=\u001b[0m\u001b[1;32mFalse\u001b[0m\u001b[1;33m)\u001b[0m\u001b[1;33m\u001b[0m\u001b[1;33m\u001b[0m\u001b[0m\n\u001b[0m\u001b[0;32m    809\u001b[0m             \u001b[1;32mexcept\u001b[0m \u001b[0mqueue\u001b[0m\u001b[1;33m.\u001b[0m\u001b[0mEmpty\u001b[0m\u001b[1;33m:\u001b[0m\u001b[1;33m\u001b[0m\u001b[1;33m\u001b[0m\u001b[0m\n",
      "\u001b[1;32m~\\AppData\\Local\\Programs\\Python\\Python37\\lib\\queue.py\u001b[0m in \u001b[0;36mget\u001b[1;34m(self, block, timeout)\u001b[0m\n\u001b[0;32m    166\u001b[0m                 \u001b[1;32mif\u001b[0m \u001b[1;32mnot\u001b[0m \u001b[0mself\u001b[0m\u001b[1;33m.\u001b[0m\u001b[0m_qsize\u001b[0m\u001b[1;33m(\u001b[0m\u001b[1;33m)\u001b[0m\u001b[1;33m:\u001b[0m\u001b[1;33m\u001b[0m\u001b[1;33m\u001b[0m\u001b[0m\n\u001b[1;32m--> 167\u001b[1;33m                     \u001b[1;32mraise\u001b[0m \u001b[0mEmpty\u001b[0m\u001b[1;33m\u001b[0m\u001b[1;33m\u001b[0m\u001b[0m\n\u001b[0m\u001b[0;32m    168\u001b[0m             \u001b[1;32melif\u001b[0m \u001b[0mtimeout\u001b[0m \u001b[1;32mis\u001b[0m \u001b[1;32mNone\u001b[0m\u001b[1;33m:\u001b[0m\u001b[1;33m\u001b[0m\u001b[1;33m\u001b[0m\u001b[0m\n",
      "\u001b[1;31mEmpty\u001b[0m: ",
      "\nDuring handling of the above exception, another exception occurred:\n",
      "\u001b[1;31mTypeError\u001b[0m                                 Traceback (most recent call last)",
      "\u001b[1;32m<ipython-input-55-bef351b289d0>\u001b[0m in \u001b[0;36m<module>\u001b[1;34m\u001b[0m\n\u001b[0;32m      1\u001b[0m \u001b[1;32mfor\u001b[0m \u001b[0mmodel\u001b[0m \u001b[1;33m,\u001b[0m \u001b[0mlabel\u001b[0m \u001b[1;32min\u001b[0m \u001b[0mzip\u001b[0m\u001b[1;33m(\u001b[0m\u001b[1;33m[\u001b[0m\u001b[0mmodel1\u001b[0m\u001b[1;33m,\u001b[0m\u001b[0mmodel2\u001b[0m\u001b[1;33m,\u001b[0m\u001b[0mmodel3\u001b[0m\u001b[1;33m,\u001b[0m\u001b[0mensumble\u001b[0m\u001b[1;33m]\u001b[0m\u001b[1;33m,\u001b[0m \u001b[1;33m[\u001b[0m\u001b[1;34m'NN'\u001b[0m\u001b[1;33m,\u001b[0m\u001b[1;34m'K-means'\u001b[0m\u001b[1;33m,\u001b[0m \u001b[1;34m'KNN'\u001b[0m\u001b[1;33m,\u001b[0m\u001b[1;34m'ensumble'\u001b[0m\u001b[1;33m]\u001b[0m\u001b[1;33m)\u001b[0m\u001b[1;33m:\u001b[0m\u001b[1;33m\u001b[0m\u001b[1;33m\u001b[0m\u001b[0m\n\u001b[1;32m----> 2\u001b[1;33m     \u001b[0mscores\u001b[0m \u001b[1;33m=\u001b[0m \u001b[0mcross_val_score\u001b[0m\u001b[1;33m(\u001b[0m\u001b[0mmodel\u001b[0m\u001b[1;33m,\u001b[0m \u001b[0mtrain\u001b[0m\u001b[1;33m,\u001b[0m \u001b[0mtrain_y\u001b[0m\u001b[1;33m,\u001b[0m \u001b[0mcv\u001b[0m\u001b[1;33m=\u001b[0m\u001b[1;36m5\u001b[0m\u001b[1;33m,\u001b[0m \u001b[0mscoring\u001b[0m\u001b[1;33m=\u001b[0m\u001b[1;34m'accuracy'\u001b[0m \u001b[1;33m)\u001b[0m\u001b[1;33m\u001b[0m\u001b[1;33m\u001b[0m\u001b[0m\n\u001b[0m\u001b[0;32m      3\u001b[0m     \u001b[0mprint\u001b[0m\u001b[1;33m(\u001b[0m\u001b[1;34mf'loss_score {scores.mean} : std +/- {scores.std()}, [{label}]'\u001b[0m\u001b[1;33m)\u001b[0m\u001b[1;33m\u001b[0m\u001b[1;33m\u001b[0m\u001b[0m\n",
      "\u001b[1;32m~\\AppData\\Local\\Programs\\Python\\Python37\\lib\\site-packages\\sklearn\\utils\\validation.py\u001b[0m in \u001b[0;36minner_f\u001b[1;34m(*args, **kwargs)\u001b[0m\n\u001b[0;32m     71\u001b[0m                           FutureWarning)\n\u001b[0;32m     72\u001b[0m         \u001b[0mkwargs\u001b[0m\u001b[1;33m.\u001b[0m\u001b[0mupdate\u001b[0m\u001b[1;33m(\u001b[0m\u001b[1;33m{\u001b[0m\u001b[0mk\u001b[0m\u001b[1;33m:\u001b[0m \u001b[0marg\u001b[0m \u001b[1;32mfor\u001b[0m \u001b[0mk\u001b[0m\u001b[1;33m,\u001b[0m \u001b[0marg\u001b[0m \u001b[1;32min\u001b[0m \u001b[0mzip\u001b[0m\u001b[1;33m(\u001b[0m\u001b[0msig\u001b[0m\u001b[1;33m.\u001b[0m\u001b[0mparameters\u001b[0m\u001b[1;33m,\u001b[0m \u001b[0margs\u001b[0m\u001b[1;33m)\u001b[0m\u001b[1;33m}\u001b[0m\u001b[1;33m)\u001b[0m\u001b[1;33m\u001b[0m\u001b[1;33m\u001b[0m\u001b[0m\n\u001b[1;32m---> 73\u001b[1;33m         \u001b[1;32mreturn\u001b[0m \u001b[0mf\u001b[0m\u001b[1;33m(\u001b[0m\u001b[1;33m**\u001b[0m\u001b[0mkwargs\u001b[0m\u001b[1;33m)\u001b[0m\u001b[1;33m\u001b[0m\u001b[1;33m\u001b[0m\u001b[0m\n\u001b[0m\u001b[0;32m     74\u001b[0m     \u001b[1;32mreturn\u001b[0m \u001b[0minner_f\u001b[0m\u001b[1;33m\u001b[0m\u001b[1;33m\u001b[0m\u001b[0m\n\u001b[0;32m     75\u001b[0m \u001b[1;33m\u001b[0m\u001b[0m\n",
      "\u001b[1;32m~\\AppData\\Local\\Programs\\Python\\Python37\\lib\\site-packages\\sklearn\\model_selection\\_validation.py\u001b[0m in \u001b[0;36mcross_val_score\u001b[1;34m(estimator, X, y, groups, scoring, cv, n_jobs, verbose, fit_params, pre_dispatch, error_score)\u001b[0m\n\u001b[0;32m    404\u001b[0m                                 \u001b[0mfit_params\u001b[0m\u001b[1;33m=\u001b[0m\u001b[0mfit_params\u001b[0m\u001b[1;33m,\u001b[0m\u001b[1;33m\u001b[0m\u001b[1;33m\u001b[0m\u001b[0m\n\u001b[0;32m    405\u001b[0m                                 \u001b[0mpre_dispatch\u001b[0m\u001b[1;33m=\u001b[0m\u001b[0mpre_dispatch\u001b[0m\u001b[1;33m,\u001b[0m\u001b[1;33m\u001b[0m\u001b[1;33m\u001b[0m\u001b[0m\n\u001b[1;32m--> 406\u001b[1;33m                                 error_score=error_score)\n\u001b[0m\u001b[0;32m    407\u001b[0m     \u001b[1;32mreturn\u001b[0m \u001b[0mcv_results\u001b[0m\u001b[1;33m[\u001b[0m\u001b[1;34m'test_score'\u001b[0m\u001b[1;33m]\u001b[0m\u001b[1;33m\u001b[0m\u001b[1;33m\u001b[0m\u001b[0m\n\u001b[0;32m    408\u001b[0m \u001b[1;33m\u001b[0m\u001b[0m\n",
      "\u001b[1;32m~\\AppData\\Local\\Programs\\Python\\Python37\\lib\\site-packages\\sklearn\\utils\\validation.py\u001b[0m in \u001b[0;36minner_f\u001b[1;34m(*args, **kwargs)\u001b[0m\n\u001b[0;32m     71\u001b[0m                           FutureWarning)\n\u001b[0;32m     72\u001b[0m         \u001b[0mkwargs\u001b[0m\u001b[1;33m.\u001b[0m\u001b[0mupdate\u001b[0m\u001b[1;33m(\u001b[0m\u001b[1;33m{\u001b[0m\u001b[0mk\u001b[0m\u001b[1;33m:\u001b[0m \u001b[0marg\u001b[0m \u001b[1;32mfor\u001b[0m \u001b[0mk\u001b[0m\u001b[1;33m,\u001b[0m \u001b[0marg\u001b[0m \u001b[1;32min\u001b[0m \u001b[0mzip\u001b[0m\u001b[1;33m(\u001b[0m\u001b[0msig\u001b[0m\u001b[1;33m.\u001b[0m\u001b[0mparameters\u001b[0m\u001b[1;33m,\u001b[0m \u001b[0margs\u001b[0m\u001b[1;33m)\u001b[0m\u001b[1;33m}\u001b[0m\u001b[1;33m)\u001b[0m\u001b[1;33m\u001b[0m\u001b[1;33m\u001b[0m\u001b[0m\n\u001b[1;32m---> 73\u001b[1;33m         \u001b[1;32mreturn\u001b[0m \u001b[0mf\u001b[0m\u001b[1;33m(\u001b[0m\u001b[1;33m**\u001b[0m\u001b[0mkwargs\u001b[0m\u001b[1;33m)\u001b[0m\u001b[1;33m\u001b[0m\u001b[1;33m\u001b[0m\u001b[0m\n\u001b[0m\u001b[0;32m     74\u001b[0m     \u001b[1;32mreturn\u001b[0m \u001b[0minner_f\u001b[0m\u001b[1;33m\u001b[0m\u001b[1;33m\u001b[0m\u001b[0m\n\u001b[0;32m     75\u001b[0m \u001b[1;33m\u001b[0m\u001b[0m\n",
      "\u001b[1;32m~\\AppData\\Local\\Programs\\Python\\Python37\\lib\\site-packages\\sklearn\\model_selection\\_validation.py\u001b[0m in \u001b[0;36mcross_validate\u001b[1;34m(estimator, X, y, groups, scoring, cv, n_jobs, verbose, fit_params, pre_dispatch, return_train_score, return_estimator, error_score)\u001b[0m\n\u001b[0;32m    246\u001b[0m             \u001b[0mreturn_times\u001b[0m\u001b[1;33m=\u001b[0m\u001b[1;32mTrue\u001b[0m\u001b[1;33m,\u001b[0m \u001b[0mreturn_estimator\u001b[0m\u001b[1;33m=\u001b[0m\u001b[0mreturn_estimator\u001b[0m\u001b[1;33m,\u001b[0m\u001b[1;33m\u001b[0m\u001b[1;33m\u001b[0m\u001b[0m\n\u001b[0;32m    247\u001b[0m             error_score=error_score)\n\u001b[1;32m--> 248\u001b[1;33m         for train, test in cv.split(X, y, groups))\n\u001b[0m\u001b[0;32m    249\u001b[0m \u001b[1;33m\u001b[0m\u001b[0m\n\u001b[0;32m    250\u001b[0m     \u001b[0mzipped_scores\u001b[0m \u001b[1;33m=\u001b[0m \u001b[0mlist\u001b[0m\u001b[1;33m(\u001b[0m\u001b[0mzip\u001b[0m\u001b[1;33m(\u001b[0m\u001b[1;33m*\u001b[0m\u001b[0mscores\u001b[0m\u001b[1;33m)\u001b[0m\u001b[1;33m)\u001b[0m\u001b[1;33m\u001b[0m\u001b[1;33m\u001b[0m\u001b[0m\n",
      "\u001b[1;32m~\\AppData\\Local\\Programs\\Python\\Python37\\lib\\site-packages\\joblib\\parallel.py\u001b[0m in \u001b[0;36m__call__\u001b[1;34m(self, iterable)\u001b[0m\n\u001b[0;32m   1027\u001b[0m             \u001b[1;31m# remaining jobs.\u001b[0m\u001b[1;33m\u001b[0m\u001b[1;33m\u001b[0m\u001b[1;33m\u001b[0m\u001b[0m\n\u001b[0;32m   1028\u001b[0m             \u001b[0mself\u001b[0m\u001b[1;33m.\u001b[0m\u001b[0m_iterating\u001b[0m \u001b[1;33m=\u001b[0m \u001b[1;32mFalse\u001b[0m\u001b[1;33m\u001b[0m\u001b[1;33m\u001b[0m\u001b[0m\n\u001b[1;32m-> 1029\u001b[1;33m             \u001b[1;32mif\u001b[0m \u001b[0mself\u001b[0m\u001b[1;33m.\u001b[0m\u001b[0mdispatch_one_batch\u001b[0m\u001b[1;33m(\u001b[0m\u001b[0miterator\u001b[0m\u001b[1;33m)\u001b[0m\u001b[1;33m:\u001b[0m\u001b[1;33m\u001b[0m\u001b[1;33m\u001b[0m\u001b[0m\n\u001b[0m\u001b[0;32m   1030\u001b[0m                 \u001b[0mself\u001b[0m\u001b[1;33m.\u001b[0m\u001b[0m_iterating\u001b[0m \u001b[1;33m=\u001b[0m \u001b[0mself\u001b[0m\u001b[1;33m.\u001b[0m\u001b[0m_original_iterator\u001b[0m \u001b[1;32mis\u001b[0m \u001b[1;32mnot\u001b[0m \u001b[1;32mNone\u001b[0m\u001b[1;33m\u001b[0m\u001b[1;33m\u001b[0m\u001b[0m\n\u001b[0;32m   1031\u001b[0m \u001b[1;33m\u001b[0m\u001b[0m\n",
      "\u001b[1;32m~\\AppData\\Local\\Programs\\Python\\Python37\\lib\\site-packages\\joblib\\parallel.py\u001b[0m in \u001b[0;36mdispatch_one_batch\u001b[1;34m(self, iterator)\u001b[0m\n\u001b[0;32m    817\u001b[0m                 \u001b[0mbig_batch_size\u001b[0m \u001b[1;33m=\u001b[0m \u001b[0mbatch_size\u001b[0m \u001b[1;33m*\u001b[0m \u001b[0mn_jobs\u001b[0m\u001b[1;33m\u001b[0m\u001b[1;33m\u001b[0m\u001b[0m\n\u001b[0;32m    818\u001b[0m \u001b[1;33m\u001b[0m\u001b[0m\n\u001b[1;32m--> 819\u001b[1;33m                 \u001b[0mislice\u001b[0m \u001b[1;33m=\u001b[0m \u001b[0mlist\u001b[0m\u001b[1;33m(\u001b[0m\u001b[0mitertools\u001b[0m\u001b[1;33m.\u001b[0m\u001b[0mislice\u001b[0m\u001b[1;33m(\u001b[0m\u001b[0miterator\u001b[0m\u001b[1;33m,\u001b[0m \u001b[0mbig_batch_size\u001b[0m\u001b[1;33m)\u001b[0m\u001b[1;33m)\u001b[0m\u001b[1;33m\u001b[0m\u001b[1;33m\u001b[0m\u001b[0m\n\u001b[0m\u001b[0;32m    820\u001b[0m                 \u001b[1;32mif\u001b[0m \u001b[0mlen\u001b[0m\u001b[1;33m(\u001b[0m\u001b[0mislice\u001b[0m\u001b[1;33m)\u001b[0m \u001b[1;33m==\u001b[0m \u001b[1;36m0\u001b[0m\u001b[1;33m:\u001b[0m\u001b[1;33m\u001b[0m\u001b[1;33m\u001b[0m\u001b[0m\n\u001b[0;32m    821\u001b[0m                     \u001b[1;32mreturn\u001b[0m \u001b[1;32mFalse\u001b[0m\u001b[1;33m\u001b[0m\u001b[1;33m\u001b[0m\u001b[0m\n",
      "\u001b[1;32m~\\AppData\\Local\\Programs\\Python\\Python37\\lib\\site-packages\\sklearn\\model_selection\\_validation.py\u001b[0m in \u001b[0;36m<genexpr>\u001b[1;34m(.0)\u001b[0m\n\u001b[0;32m    246\u001b[0m             \u001b[0mreturn_times\u001b[0m\u001b[1;33m=\u001b[0m\u001b[1;32mTrue\u001b[0m\u001b[1;33m,\u001b[0m \u001b[0mreturn_estimator\u001b[0m\u001b[1;33m=\u001b[0m\u001b[0mreturn_estimator\u001b[0m\u001b[1;33m,\u001b[0m\u001b[1;33m\u001b[0m\u001b[1;33m\u001b[0m\u001b[0m\n\u001b[0;32m    247\u001b[0m             error_score=error_score)\n\u001b[1;32m--> 248\u001b[1;33m         for train, test in cv.split(X, y, groups))\n\u001b[0m\u001b[0;32m    249\u001b[0m \u001b[1;33m\u001b[0m\u001b[0m\n\u001b[0;32m    250\u001b[0m     \u001b[0mzipped_scores\u001b[0m \u001b[1;33m=\u001b[0m \u001b[0mlist\u001b[0m\u001b[1;33m(\u001b[0m\u001b[0mzip\u001b[0m\u001b[1;33m(\u001b[0m\u001b[1;33m*\u001b[0m\u001b[0mscores\u001b[0m\u001b[1;33m)\u001b[0m\u001b[1;33m)\u001b[0m\u001b[1;33m\u001b[0m\u001b[1;33m\u001b[0m\u001b[0m\n",
      "\u001b[1;32m~\\AppData\\Local\\Programs\\Python\\Python37\\lib\\site-packages\\sklearn\\utils\\validation.py\u001b[0m in \u001b[0;36minner_f\u001b[1;34m(*args, **kwargs)\u001b[0m\n\u001b[0;32m     71\u001b[0m                           FutureWarning)\n\u001b[0;32m     72\u001b[0m         \u001b[0mkwargs\u001b[0m\u001b[1;33m.\u001b[0m\u001b[0mupdate\u001b[0m\u001b[1;33m(\u001b[0m\u001b[1;33m{\u001b[0m\u001b[0mk\u001b[0m\u001b[1;33m:\u001b[0m \u001b[0marg\u001b[0m \u001b[1;32mfor\u001b[0m \u001b[0mk\u001b[0m\u001b[1;33m,\u001b[0m \u001b[0marg\u001b[0m \u001b[1;32min\u001b[0m \u001b[0mzip\u001b[0m\u001b[1;33m(\u001b[0m\u001b[0msig\u001b[0m\u001b[1;33m.\u001b[0m\u001b[0mparameters\u001b[0m\u001b[1;33m,\u001b[0m \u001b[0margs\u001b[0m\u001b[1;33m)\u001b[0m\u001b[1;33m}\u001b[0m\u001b[1;33m)\u001b[0m\u001b[1;33m\u001b[0m\u001b[1;33m\u001b[0m\u001b[0m\n\u001b[1;32m---> 73\u001b[1;33m         \u001b[1;32mreturn\u001b[0m \u001b[0mf\u001b[0m\u001b[1;33m(\u001b[0m\u001b[1;33m**\u001b[0m\u001b[0mkwargs\u001b[0m\u001b[1;33m)\u001b[0m\u001b[1;33m\u001b[0m\u001b[1;33m\u001b[0m\u001b[0m\n\u001b[0m\u001b[0;32m     74\u001b[0m     \u001b[1;32mreturn\u001b[0m \u001b[0minner_f\u001b[0m\u001b[1;33m\u001b[0m\u001b[1;33m\u001b[0m\u001b[0m\n\u001b[0;32m     75\u001b[0m \u001b[1;33m\u001b[0m\u001b[0m\n",
      "\u001b[1;32m~\\AppData\\Local\\Programs\\Python\\Python37\\lib\\site-packages\\sklearn\\base.py\u001b[0m in \u001b[0;36mclone\u001b[1;34m(estimator, safe)\u001b[0m\n\u001b[0;32m     80\u001b[0m                                 \u001b[1;34m\"estimator as it does not implement a \"\u001b[0m\u001b[1;33m\u001b[0m\u001b[1;33m\u001b[0m\u001b[0m\n\u001b[0;32m     81\u001b[0m                                 \u001b[1;34m\"'get_params' method.\"\u001b[0m\u001b[1;33m\u001b[0m\u001b[1;33m\u001b[0m\u001b[0m\n\u001b[1;32m---> 82\u001b[1;33m                                 % (repr(estimator), type(estimator)))\n\u001b[0m\u001b[0;32m     83\u001b[0m \u001b[1;33m\u001b[0m\u001b[0m\n\u001b[0;32m     84\u001b[0m     \u001b[0mklass\u001b[0m \u001b[1;33m=\u001b[0m \u001b[0mestimator\u001b[0m\u001b[1;33m.\u001b[0m\u001b[0m__class__\u001b[0m\u001b[1;33m\u001b[0m\u001b[1;33m\u001b[0m\u001b[0m\n",
      "\u001b[1;31mTypeError\u001b[0m: Cannot clone object '<models.Model1NN2 object at 0x000001D0A30D2438>' (type <class 'models.Model1NN2'>): it does not seem to be a scikit-learn estimator as it does not implement a 'get_params' method."
     ]
    }
   ],
   "source": [
    "for model , label in zip([model1,model2,model3,ensumble], ['NN','K-means', 'KNN','ensumble']):\n",
    "    scores = cross_val_score(model, train, train_y, cv=5, scoring='accuracy' )\n",
    "    print(f'loss_score {scores.mean} : std +/- {scores.std()}, [{label}]')\n"
   ]
  },
  {
   "cell_type": "code",
   "execution_count": 56,
   "metadata": {},
   "outputs": [],
   "source": [
    "scaler = StandardScaler()\n",
    "scaler.fit_transform(train)\n",
    "\n",
    "kf = KFold(n_splits=4, shuffle=True, random_state=71)\n",
    "tr_idx, va_idx = list(kf.split(train))[0]\n",
    "tr_x, va_x = train.iloc[tr_idx], train.iloc[va_idx]\n",
    "tr_y, va_y = train_y.iloc[tr_idx], train_y.iloc[va_idx]"
   ]
  },
  {
   "cell_type": "code",
   "execution_count": 64,
   "metadata": {
    "scrolled": true
   },
   "outputs": [
    {
     "name": "stdout",
     "output_type": "stream",
     "text": [
      "Epoch 1/300\n",
      "159/159 [==============================] - 1s 5ms/step - loss: 0.4158 - accuracy: 0.8868 - val_loss: 0.2318 - val_accuracy: 0.9345\n",
      "Epoch 2/300\n",
      "159/159 [==============================] - 1s 5ms/step - loss: 0.2263 - accuracy: 0.9276 - val_loss: 0.1989 - val_accuracy: 0.9328\n",
      "Epoch 3/300\n",
      "159/159 [==============================] - 1s 4ms/step - loss: 0.2141 - accuracy: 0.9274 - val_loss: 0.1975 - val_accuracy: 0.9318\n",
      "Epoch 4/300\n",
      "159/159 [==============================] - 1s 4ms/step - loss: 0.2107 - accuracy: 0.9285 - val_loss: 0.1972 - val_accuracy: 0.9323\n",
      "Epoch 5/300\n",
      "159/159 [==============================] - 1s 4ms/step - loss: 0.2117 - accuracy: 0.9285 - val_loss: 0.1972 - val_accuracy: 0.9323\n",
      "Epoch 6/300\n",
      "159/159 [==============================] - 1s 4ms/step - loss: 0.2115 - accuracy: 0.9286 - val_loss: 0.1972 - val_accuracy: 0.9325\n",
      "Epoch 7/300\n",
      "159/159 [==============================] - 1s 4ms/step - loss: 0.2112 - accuracy: 0.9284 - val_loss: 0.1970 - val_accuracy: 0.9331\n",
      "Epoch 8/300\n",
      "159/159 [==============================] - 1s 5ms/step - loss: 0.2114 - accuracy: 0.9284 - val_loss: 0.1968 - val_accuracy: 0.9331\n",
      "Epoch 9/300\n",
      "159/159 [==============================] - 1s 5ms/step - loss: 0.2107 - accuracy: 0.9292 - val_loss: 0.1969 - val_accuracy: 0.9334\n",
      "Epoch 10/300\n",
      "159/159 [==============================] - 1s 4ms/step - loss: 0.2109 - accuracy: 0.9291 - val_loss: 0.1970 - val_accuracy: 0.9331\n",
      "Epoch 11/300\n",
      "159/159 [==============================] - 1s 4ms/step - loss: 0.2114 - accuracy: 0.9287 - val_loss: 0.1969 - val_accuracy: 0.9336\n",
      "Epoch 12/300\n",
      "159/159 [==============================] - 1s 4ms/step - loss: 0.2099 - accuracy: 0.9293 - val_loss: 0.1969 - val_accuracy: 0.9330\n",
      "Epoch 13/300\n",
      "159/159 [==============================] - 1s 4ms/step - loss: 0.2114 - accuracy: 0.9297 - val_loss: 0.1969 - val_accuracy: 0.9331\n",
      "Epoch 14/300\n",
      "159/159 [==============================] - 1s 4ms/step - loss: 0.2103 - accuracy: 0.9292 - val_loss: 0.1968 - val_accuracy: 0.9331\n",
      "Epoch 15/300\n",
      "159/159 [==============================] - 1s 4ms/step - loss: 0.2089 - accuracy: 0.9293 - val_loss: 0.1968 - val_accuracy: 0.9334\n",
      "Epoch 16/300\n",
      "159/159 [==============================] - 1s 4ms/step - loss: 0.2108 - accuracy: 0.9282 - val_loss: 0.1968 - val_accuracy: 0.9333\n",
      "Epoch 17/300\n",
      "159/159 [==============================] - 1s 5ms/step - loss: 0.2097 - accuracy: 0.9296 - val_loss: 0.1969 - val_accuracy: 0.9334\n",
      "Epoch 18/300\n",
      "159/159 [==============================] - 1s 4ms/step - loss: 0.2095 - accuracy: 0.9299 - val_loss: 0.1969 - val_accuracy: 0.9333\n",
      "Epoch 19/300\n",
      "159/159 [==============================] - 1s 4ms/step - loss: 0.2106 - accuracy: 0.9290 - val_loss: 0.1968 - val_accuracy: 0.9334\n",
      "Epoch 20/300\n",
      "159/159 [==============================] - 1s 4ms/step - loss: 0.2095 - accuracy: 0.9295 - val_loss: 0.1968 - val_accuracy: 0.9331\n",
      "Epoch 21/300\n",
      "159/159 [==============================] - 1s 4ms/step - loss: 0.2090 - accuracy: 0.9294 - val_loss: 0.1968 - val_accuracy: 0.9331\n",
      "Epoch 22/300\n",
      "159/159 [==============================] - 1s 4ms/step - loss: 0.2093 - accuracy: 0.9296 - val_loss: 0.1968 - val_accuracy: 0.9334\n",
      "Epoch 23/300\n",
      "159/159 [==============================] - 1s 4ms/step - loss: 0.2095 - accuracy: 0.9299 - val_loss: 0.1968 - val_accuracy: 0.9334\n",
      "Epoch 24/300\n",
      "159/159 [==============================] - 1s 4ms/step - loss: 0.2090 - accuracy: 0.9298 - val_loss: 0.1968 - val_accuracy: 0.9333\n",
      "Epoch 25/300\n",
      "159/159 [==============================] - 1s 4ms/step - loss: 0.2089 - accuracy: 0.9295 - val_loss: 0.1968 - val_accuracy: 0.9330\n",
      "Epoch 26/300\n",
      "159/159 [==============================] - 1s 4ms/step - loss: 0.2085 - accuracy: 0.9292 - val_loss: 0.1969 - val_accuracy: 0.9336\n",
      "Epoch 27/300\n",
      "159/159 [==============================] - 1s 4ms/step - loss: 0.2099 - accuracy: 0.9298 - val_loss: 0.1968 - val_accuracy: 0.9331\n",
      "Epoch 28/300\n",
      "159/159 [==============================] - 1s 4ms/step - loss: 0.2102 - accuracy: 0.9299 - val_loss: 0.1967 - val_accuracy: 0.9333\n",
      "Epoch 29/300\n",
      "159/159 [==============================] - 1s 4ms/step - loss: 0.2100 - accuracy: 0.9297 - val_loss: 0.1968 - val_accuracy: 0.9333\n",
      "Epoch 30/300\n",
      "159/159 [==============================] - 1s 4ms/step - loss: 0.2088 - accuracy: 0.9298 - val_loss: 0.1967 - val_accuracy: 0.9334\n",
      "Epoch 31/300\n",
      "159/159 [==============================] - 1s 4ms/step - loss: 0.2096 - accuracy: 0.9298 - val_loss: 0.1966 - val_accuracy: 0.9330\n",
      "Epoch 32/300\n",
      "159/159 [==============================] - 1s 4ms/step - loss: 0.2090 - accuracy: 0.9297 - val_loss: 0.1966 - val_accuracy: 0.9331\n",
      "Epoch 33/300\n",
      "159/159 [==============================] - 1s 4ms/step - loss: 0.2095 - accuracy: 0.9290 - val_loss: 0.1967 - val_accuracy: 0.9334\n",
      "Epoch 34/300\n",
      "159/159 [==============================] - 1s 4ms/step - loss: 0.2082 - accuracy: 0.9296 - val_loss: 0.1967 - val_accuracy: 0.9333\n",
      "Epoch 35/300\n",
      "159/159 [==============================] - 1s 4ms/step - loss: 0.2094 - accuracy: 0.9293 - val_loss: 0.1966 - val_accuracy: 0.9334\n",
      "Epoch 36/300\n",
      "159/159 [==============================] - 1s 4ms/step - loss: 0.2100 - accuracy: 0.9297 - val_loss: 0.1966 - val_accuracy: 0.9333\n",
      "Epoch 37/300\n",
      "159/159 [==============================] - 1s 4ms/step - loss: 0.2090 - accuracy: 0.9292 - val_loss: 0.1965 - val_accuracy: 0.9333\n",
      "Epoch 38/300\n",
      "159/159 [==============================] - 1s 4ms/step - loss: 0.2073 - accuracy: 0.9302 - val_loss: 0.1966 - val_accuracy: 0.9331\n",
      "Epoch 39/300\n",
      "159/159 [==============================] - 1s 4ms/step - loss: 0.2082 - accuracy: 0.9296 - val_loss: 0.1966 - val_accuracy: 0.9333\n",
      "Epoch 40/300\n",
      "159/159 [==============================] - 1s 4ms/step - loss: 0.2082 - accuracy: 0.9301 - val_loss: 0.1966 - val_accuracy: 0.9333\n",
      "Epoch 41/300\n",
      "159/159 [==============================] - 1s 4ms/step - loss: 0.2085 - accuracy: 0.9298 - val_loss: 0.1965 - val_accuracy: 0.9331\n",
      "Epoch 42/300\n",
      "159/159 [==============================] - 1s 5ms/step - loss: 0.2084 - accuracy: 0.9292 - val_loss: 0.1965 - val_accuracy: 0.9333\n",
      "Epoch 43/300\n",
      "159/159 [==============================] - 1s 4ms/step - loss: 0.2083 - accuracy: 0.9290 - val_loss: 0.1966 - val_accuracy: 0.9333\n",
      "Epoch 44/300\n",
      "159/159 [==============================] - 1s 4ms/step - loss: 0.2081 - accuracy: 0.9302 - val_loss: 0.1966 - val_accuracy: 0.9330\n",
      "Epoch 45/300\n",
      "159/159 [==============================] - 1s 4ms/step - loss: 0.2080 - accuracy: 0.9299 - val_loss: 0.1966 - val_accuracy: 0.9333\n",
      "Epoch 46/300\n",
      "159/159 [==============================] - 1s 5ms/step - loss: 0.2084 - accuracy: 0.9299 - val_loss: 0.1965 - val_accuracy: 0.9333\n",
      "Epoch 47/300\n",
      "159/159 [==============================] - 1s 4ms/step - loss: 0.2088 - accuracy: 0.9299 - val_loss: 0.1965 - val_accuracy: 0.9331\n",
      "Epoch 48/300\n",
      "159/159 [==============================] - 1s 4ms/step - loss: 0.2082 - accuracy: 0.9301 - val_loss: 0.1965 - val_accuracy: 0.9331\n",
      "Epoch 49/300\n",
      "159/159 [==============================] - 1s 4ms/step - loss: 0.2076 - accuracy: 0.9303 - val_loss: 0.1965 - val_accuracy: 0.9333\n",
      "Epoch 50/300\n",
      "159/159 [==============================] - 1s 4ms/step - loss: 0.2086 - accuracy: 0.9298 - val_loss: 0.1965 - val_accuracy: 0.9334\n",
      "Epoch 51/300\n",
      "159/159 [==============================] - 1s 4ms/step - loss: 0.2090 - accuracy: 0.9294 - val_loss: 0.1965 - val_accuracy: 0.9336\n",
      "Epoch 52/300\n",
      "159/159 [==============================] - 1s 4ms/step - loss: 0.2074 - accuracy: 0.9297 - val_loss: 0.1965 - val_accuracy: 0.9330\n",
      "Epoch 53/300\n",
      "159/159 [==============================] - 1s 4ms/step - loss: 0.2080 - accuracy: 0.9300 - val_loss: 0.1965 - val_accuracy: 0.9330\n",
      "Epoch 54/300\n",
      "159/159 [==============================] - 1s 4ms/step - loss: 0.2082 - accuracy: 0.9302 - val_loss: 0.1965 - val_accuracy: 0.9331\n",
      "Epoch 55/300\n",
      "159/159 [==============================] - 1s 4ms/step - loss: 0.2077 - accuracy: 0.9297 - val_loss: 0.1965 - val_accuracy: 0.9331\n",
      "Epoch 56/300\n",
      "159/159 [==============================] - 1s 4ms/step - loss: 0.2076 - accuracy: 0.9301 - val_loss: 0.1965 - val_accuracy: 0.9330\n",
      "Epoch 57/300\n",
      "159/159 [==============================] - 1s 4ms/step - loss: 0.2087 - accuracy: 0.9301 - val_loss: 0.1964 - val_accuracy: 0.9330\n"
     ]
    },
    {
     "name": "stdout",
     "output_type": "stream",
     "text": [
      "Epoch 58/300\n",
      "159/159 [==============================] - 1s 4ms/step - loss: 0.2077 - accuracy: 0.9303 - val_loss: 0.1964 - val_accuracy: 0.9330\n",
      "Epoch 59/300\n",
      "159/159 [==============================] - 1s 4ms/step - loss: 0.2081 - accuracy: 0.9305 - val_loss: 0.1965 - val_accuracy: 0.9333\n",
      "Epoch 60/300\n",
      "159/159 [==============================] - 1s 5ms/step - loss: 0.2079 - accuracy: 0.9300 - val_loss: 0.1964 - val_accuracy: 0.9331\n",
      "Epoch 61/300\n",
      "159/159 [==============================] - 1s 4ms/step - loss: 0.2072 - accuracy: 0.9306 - val_loss: 0.1964 - val_accuracy: 0.9331\n",
      "Epoch 62/300\n",
      "159/159 [==============================] - 1s 4ms/step - loss: 0.2078 - accuracy: 0.9306 - val_loss: 0.1965 - val_accuracy: 0.9334\n",
      "Epoch 63/300\n",
      "159/159 [==============================] - 1s 4ms/step - loss: 0.2082 - accuracy: 0.9292 - val_loss: 0.1965 - val_accuracy: 0.9340\n",
      "Epoch 64/300\n",
      "159/159 [==============================] - 1s 4ms/step - loss: 0.2082 - accuracy: 0.9299 - val_loss: 0.1965 - val_accuracy: 0.9337\n",
      "Epoch 65/300\n",
      "159/159 [==============================] - 1s 4ms/step - loss: 0.2071 - accuracy: 0.9299 - val_loss: 0.1965 - val_accuracy: 0.9339\n",
      "Epoch 66/300\n",
      "159/159 [==============================] - 1s 4ms/step - loss: 0.2078 - accuracy: 0.9305 - val_loss: 0.1965 - val_accuracy: 0.9336\n",
      "Epoch 67/300\n",
      "159/159 [==============================] - 1s 4ms/step - loss: 0.2085 - accuracy: 0.9303 - val_loss: 0.1964 - val_accuracy: 0.9333\n",
      "Epoch 68/300\n",
      "159/159 [==============================] - 1s 4ms/step - loss: 0.2081 - accuracy: 0.9300 - val_loss: 0.1964 - val_accuracy: 0.9328\n",
      "Epoch 69/300\n",
      "159/159 [==============================] - 1s 4ms/step - loss: 0.2070 - accuracy: 0.9303 - val_loss: 0.1964 - val_accuracy: 0.9336\n",
      "Epoch 70/300\n",
      "159/159 [==============================] - 1s 4ms/step - loss: 0.2081 - accuracy: 0.9300 - val_loss: 0.1964 - val_accuracy: 0.9336\n",
      "Epoch 71/300\n",
      "159/159 [==============================] - 1s 4ms/step - loss: 0.2080 - accuracy: 0.9295 - val_loss: 0.1964 - val_accuracy: 0.9346\n",
      "Epoch 72/300\n",
      "159/159 [==============================] - 1s 4ms/step - loss: 0.2069 - accuracy: 0.9296 - val_loss: 0.1964 - val_accuracy: 0.9343\n",
      "Epoch 73/300\n",
      "159/159 [==============================] - 1s 4ms/step - loss: 0.2080 - accuracy: 0.9300 - val_loss: 0.1964 - val_accuracy: 0.9342\n",
      "Epoch 74/300\n",
      "159/159 [==============================] - 1s 4ms/step - loss: 0.2078 - accuracy: 0.9298 - val_loss: 0.1963 - val_accuracy: 0.9333\n",
      "Epoch 75/300\n",
      "159/159 [==============================] - 1s 4ms/step - loss: 0.2074 - accuracy: 0.9296 - val_loss: 0.1963 - val_accuracy: 0.9336\n",
      "Epoch 76/300\n",
      "159/159 [==============================] - 1s 4ms/step - loss: 0.2079 - accuracy: 0.9301 - val_loss: 0.1963 - val_accuracy: 0.9330\n",
      "Epoch 77/300\n",
      "159/159 [==============================] - 1s 4ms/step - loss: 0.2081 - accuracy: 0.9301 - val_loss: 0.1963 - val_accuracy: 0.9334\n",
      "Epoch 78/300\n",
      "159/159 [==============================] - 1s 4ms/step - loss: 0.2072 - accuracy: 0.9303 - val_loss: 0.1964 - val_accuracy: 0.9342\n",
      "Epoch 79/300\n",
      "159/159 [==============================] - 1s 4ms/step - loss: 0.2067 - accuracy: 0.9308 - val_loss: 0.1963 - val_accuracy: 0.9331\n",
      "Epoch 80/300\n",
      "159/159 [==============================] - 1s 4ms/step - loss: 0.2071 - accuracy: 0.9301 - val_loss: 0.1963 - val_accuracy: 0.9331\n",
      "Epoch 81/300\n",
      "159/159 [==============================] - 1s 4ms/step - loss: 0.2075 - accuracy: 0.9299 - val_loss: 0.1963 - val_accuracy: 0.9342\n",
      "Epoch 82/300\n",
      "159/159 [==============================] - 1s 4ms/step - loss: 0.2075 - accuracy: 0.9304 - val_loss: 0.1963 - val_accuracy: 0.9340\n",
      "Epoch 83/300\n",
      "159/159 [==============================] - 1s 4ms/step - loss: 0.2074 - accuracy: 0.9297 - val_loss: 0.1963 - val_accuracy: 0.9339\n",
      "Epoch 84/300\n",
      "159/159 [==============================] - 1s 4ms/step - loss: 0.2081 - accuracy: 0.9294 - val_loss: 0.1963 - val_accuracy: 0.9343\n",
      "Epoch 85/300\n",
      "159/159 [==============================] - 1s 4ms/step - loss: 0.2075 - accuracy: 0.9296 - val_loss: 0.1963 - val_accuracy: 0.9336\n",
      "Epoch 86/300\n",
      "159/159 [==============================] - 1s 4ms/step - loss: 0.2080 - accuracy: 0.9301 - val_loss: 0.1963 - val_accuracy: 0.9336\n",
      "Epoch 87/300\n",
      "159/159 [==============================] - 1s 4ms/step - loss: 0.2069 - accuracy: 0.9305 - val_loss: 0.1963 - val_accuracy: 0.9337\n",
      "Epoch 88/300\n",
      "159/159 [==============================] - 1s 4ms/step - loss: 0.2071 - accuracy: 0.9306 - val_loss: 0.1963 - val_accuracy: 0.9333\n",
      "Epoch 89/300\n",
      "159/159 [==============================] - 1s 4ms/step - loss: 0.2078 - accuracy: 0.9298 - val_loss: 0.1963 - val_accuracy: 0.9340\n",
      "Epoch 90/300\n",
      "159/159 [==============================] - 1s 4ms/step - loss: 0.2074 - accuracy: 0.9297 - val_loss: 0.1963 - val_accuracy: 0.9333\n",
      "Epoch 91/300\n",
      "159/159 [==============================] - 1s 4ms/step - loss: 0.2064 - accuracy: 0.9305 - val_loss: 0.1963 - val_accuracy: 0.9331\n",
      "Epoch 92/300\n",
      "159/159 [==============================] - 1s 4ms/step - loss: 0.2083 - accuracy: 0.9300 - val_loss: 0.1962 - val_accuracy: 0.9336\n",
      "Epoch 93/300\n",
      "159/159 [==============================] - 1s 4ms/step - loss: 0.2073 - accuracy: 0.9301 - val_loss: 0.1962 - val_accuracy: 0.9333\n",
      "Epoch 94/300\n",
      "159/159 [==============================] - 1s 4ms/step - loss: 0.2078 - accuracy: 0.9302 - val_loss: 0.1963 - val_accuracy: 0.9340\n",
      "Epoch 95/300\n",
      "159/159 [==============================] - 1s 4ms/step - loss: 0.2070 - accuracy: 0.9300 - val_loss: 0.1963 - val_accuracy: 0.9336\n",
      "Epoch 96/300\n",
      "159/159 [==============================] - 1s 4ms/step - loss: 0.2077 - accuracy: 0.9299 - val_loss: 0.1962 - val_accuracy: 0.9337\n",
      "Epoch 97/300\n",
      "159/159 [==============================] - 1s 4ms/step - loss: 0.2076 - accuracy: 0.9303 - val_loss: 0.1962 - val_accuracy: 0.9340\n",
      "Epoch 98/300\n",
      "159/159 [==============================] - 1s 4ms/step - loss: 0.2065 - accuracy: 0.9304 - val_loss: 0.1962 - val_accuracy: 0.9337\n",
      "Epoch 99/300\n",
      "159/159 [==============================] - 1s 4ms/step - loss: 0.2074 - accuracy: 0.9297 - val_loss: 0.1962 - val_accuracy: 0.9336\n",
      "Epoch 100/300\n",
      "159/159 [==============================] - 1s 4ms/step - loss: 0.2071 - accuracy: 0.9304 - val_loss: 0.1962 - val_accuracy: 0.9337\n",
      "Epoch 101/300\n",
      "159/159 [==============================] - 1s 4ms/step - loss: 0.2075 - accuracy: 0.9304 - val_loss: 0.1962 - val_accuracy: 0.9348\n",
      "Epoch 102/300\n",
      "159/159 [==============================] - 1s 5ms/step - loss: 0.2075 - accuracy: 0.9301 - val_loss: 0.1963 - val_accuracy: 0.9340\n",
      "Epoch 103/300\n",
      "159/159 [==============================] - 1s 4ms/step - loss: 0.2074 - accuracy: 0.9295 - val_loss: 0.1962 - val_accuracy: 0.9339\n",
      "Epoch 104/300\n",
      "159/159 [==============================] - 1s 5ms/step - loss: 0.2071 - accuracy: 0.9304 - val_loss: 0.1962 - val_accuracy: 0.9345\n",
      "Epoch 105/300\n",
      "159/159 [==============================] - 1s 4ms/step - loss: 0.2065 - accuracy: 0.9305 - val_loss: 0.1963 - val_accuracy: 0.9339\n",
      "Epoch 106/300\n",
      "159/159 [==============================] - 1s 5ms/step - loss: 0.2073 - accuracy: 0.9300 - val_loss: 0.1962 - val_accuracy: 0.9342\n",
      "Epoch 107/300\n",
      "159/159 [==============================] - 1s 7ms/step - loss: 0.2076 - accuracy: 0.9304 - val_loss: 0.1962 - val_accuracy: 0.9340\n",
      "Epoch 108/300\n",
      "159/159 [==============================] - 1s 5ms/step - loss: 0.2068 - accuracy: 0.9305 - val_loss: 0.1962 - val_accuracy: 0.9330\n",
      "Epoch 109/300\n",
      "159/159 [==============================] - 1s 4ms/step - loss: 0.2075 - accuracy: 0.9293 - val_loss: 0.1962 - val_accuracy: 0.9337\n",
      "Epoch 110/300\n",
      "159/159 [==============================] - 1s 4ms/step - loss: 0.2075 - accuracy: 0.9299 - val_loss: 0.1962 - val_accuracy: 0.9337\n",
      "Epoch 111/300\n",
      "159/159 [==============================] - 1s 4ms/step - loss: 0.2072 - accuracy: 0.9306 - val_loss: 0.1963 - val_accuracy: 0.9343\n",
      "Epoch 112/300\n",
      "159/159 [==============================] - 1s 5ms/step - loss: 0.2078 - accuracy: 0.9301 - val_loss: 0.1963 - val_accuracy: 0.9345\n",
      "Epoch 113/300\n",
      "159/159 [==============================] - 1s 5ms/step - loss: 0.2074 - accuracy: 0.9305 - val_loss: 0.1962 - val_accuracy: 0.9340\n",
      "Epoch 114/300\n",
      "159/159 [==============================] - 1s 4ms/step - loss: 0.2080 - accuracy: 0.9311 - val_loss: 0.1962 - val_accuracy: 0.9348\n"
     ]
    },
    {
     "name": "stdout",
     "output_type": "stream",
     "text": [
      "Epoch 115/300\n",
      "159/159 [==============================] - 1s 4ms/step - loss: 0.2069 - accuracy: 0.9304 - val_loss: 0.1962 - val_accuracy: 0.9339\n",
      "Epoch 116/300\n",
      "159/159 [==============================] - 1s 5ms/step - loss: 0.2075 - accuracy: 0.9302 - val_loss: 0.1962 - val_accuracy: 0.9345\n",
      "Epoch 117/300\n",
      "159/159 [==============================] - 1s 5ms/step - loss: 0.2067 - accuracy: 0.9307 - val_loss: 0.1963 - val_accuracy: 0.9345\n",
      "Epoch 118/300\n",
      "159/159 [==============================] - 1s 4ms/step - loss: 0.2072 - accuracy: 0.9297 - val_loss: 0.1962 - val_accuracy: 0.9340\n",
      "Epoch 119/300\n",
      "159/159 [==============================] - 1s 4ms/step - loss: 0.2070 - accuracy: 0.9305 - val_loss: 0.1962 - val_accuracy: 0.9340\n",
      "Epoch 120/300\n",
      "159/159 [==============================] - 1s 4ms/step - loss: 0.2069 - accuracy: 0.9300 - val_loss: 0.1963 - val_accuracy: 0.9342\n"
     ]
    }
   ],
   "source": [
    "model1 = Model1NN2()\n",
    "model1.fit(tr_x, tr_y, va_x, va_y)"
   ]
  },
  {
   "cell_type": "code",
   "execution_count": 65,
   "metadata": {},
   "outputs": [
    {
     "name": "stdout",
     "output_type": "stream",
     "text": [
      "WARNING:tensorflow:From C:\\Users\\odoru\\SIGNATE_time_deposit_account\\models.py:157: Sequential.predict_proba (from tensorflow.python.keras.engine.sequential) is deprecated and will be removed after 2021-01-01.\n",
      "Instructions for updating:\n",
      "Please use `model.predict()` instead.\n",
      "[0.09780324 0.05634835 0.0491572  ... 0.01541224 0.12120495 0.06028082]\n"
     ]
    }
   ],
   "source": [
    "pre = model1.predict(tr_x)\n",
    "print(pre)"
   ]
  },
  {
   "cell_type": "code",
   "execution_count": 58,
   "metadata": {},
   "outputs": [
    {
     "name": "stdout",
     "output_type": "stream",
     "text": [
      "2.5133170640810607\n"
     ]
    }
   ],
   "source": [
    "model2 = Model2KMeans()\n",
    "model2.fit(tr_x, tr_y, va_x, va_y)\n",
    "pred = model2.predict(va_x)\n",
    "loss = log_loss(va_y, pred)\n",
    "print(loss)"
   ]
  },
  {
   "cell_type": "code",
   "execution_count": 59,
   "metadata": {},
   "outputs": [],
   "source": [
    "class Model2KNN:\n",
    "\n",
    "  def __init__(self):\n",
    "    self.model = None\n",
    "    self.scaler = None\n",
    "\n",
    "  def fit(self, tr_x, tr_y, va_x, va_y):\n",
    "    self.scaler = StandardScaler()\n",
    "    self.scaler.fit(tr_x)\n",
    "    tr_x = self.scaler.transform(tr_x)\n",
    "    self.model = KNeighborsClassifier(n_neighbors=32)\n",
    "    self.model.fit(tr_x, tr_y)\n",
    "\n",
    "  def predict(self,x):\n",
    "    self.scaler.transform(x)\n",
    "    pred = self.model.predict(x)\n",
    "    return pred"
   ]
  },
  {
   "cell_type": "code",
   "execution_count": 60,
   "metadata": {},
   "outputs": [
    {
     "name": "stderr",
     "output_type": "stream",
     "text": [
      "C:\\Users\\odoru\\AppData\\Local\\Programs\\Python\\Python37\\lib\\site-packages\\ipykernel_launcher.py:12: DataConversionWarning: A column-vector y was passed when a 1d array was expected. Please change the shape of y to (n_samples, ), for example using ravel().\n",
      "  if sys.path[0] == '':\n"
     ]
    },
    {
     "name": "stdout",
     "output_type": "stream",
     "text": [
      "2.5693790853188174\n"
     ]
    }
   ],
   "source": [
    "model3 = Model2KNN()\n",
    "model3.fit(tr_x, tr_y, va_x, va_y)\n",
    "pred = model3.predict(va_x)\n",
    "loss = log_loss(va_y, pred)\n",
    "print(loss)"
   ]
  },
  {
   "cell_type": "code",
   "execution_count": null,
   "metadata": {},
   "outputs": [],
   "source": []
  }
 ],
 "metadata": {
  "kernelspec": {
   "display_name": "Python 3.7.1 64-bit",
   "language": "python",
   "name": "python37164bit745322e800af484d9e7663a15d4e0767"
  },
  "language_info": {
   "codemirror_mode": {
    "name": "ipython",
    "version": 3
   },
   "file_extension": ".py",
   "mimetype": "text/x-python",
   "name": "python",
   "nbconvert_exporter": "python",
   "pygments_lexer": "ipython3",
   "version": "3.7.1"
  }
 },
 "nbformat": 4,
 "nbformat_minor": 4
}
