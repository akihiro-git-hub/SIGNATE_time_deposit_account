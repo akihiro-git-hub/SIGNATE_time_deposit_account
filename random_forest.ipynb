{
 "cells": [
  {
   "cell_type": "code",
   "execution_count": 60,
   "metadata": {},
   "outputs": [],
   "source": [
    "import numpy as np\n",
    "import pandas as pd\n",
    "import matplotlib.pyplot as plt\n",
    "from matplotlib import gridspec\n",
    "import seaborn as sns\n",
    "import plotly.graph_objects as go\n",
    "import plotly.express as px\n",
    "from sklearn.model_selection import KFold\n",
    "from sklearn.metrics import log_loss\n",
    "from sklearn.metrics import roc_auc_score, roc_curve\n",
    "from sklearn.preprocessing import LabelEncoder\n",
    "from sklearn.ensemble import RandomForestRegressor"
   ]
  },
  {
   "cell_type": "code",
   "execution_count": 61,
   "metadata": {},
   "outputs": [],
   "source": [
    "train = pd.read_csv('C:\\\\Users\\\\odoru\\\\SIGNATE_time_deposit_account\\\\train.csv')\n",
    "test = pd.read_csv('C:\\\\Users\\\\odoru\\\\SIGNATE_time_deposit_account\\\\test.csv')\n",
    "submit = pd.read_csv('C:\\\\Users\\\\odoru\\\\SIGNATE_time_deposit_account\\\\head_submit_sample.csv')"
   ]
  },
  {
   "cell_type": "code",
   "execution_count": 62,
   "metadata": {},
   "outputs": [],
   "source": [
    "#score列の作成\n",
    "train['score'] = np.zeros(train.shape[0])\n",
    "\n",
    "\n",
    "#個人ローン\n",
    "#学習データ\n",
    "loan_none = train.loc[train['loan'] == 'no']\n",
    "index = loan_none.index.values\n",
    "index = list(index)\n",
    "\n",
    "for i in index:\n",
    "    train.iloc[i,18] = 1\n",
    "    \n",
    "\n",
    "\n",
    "#住宅ローン\n",
    "housing_none = train.loc[train['housing'] == 'no']\n",
    "index = housing_none.index.values\n",
    "index = list(index)\n",
    "\n",
    "score_values = housing_none['score'].values\n",
    "score_values = score_values + 1\n",
    "score_values = list(score_values)\n",
    "\n",
    "for i in score_values:\n",
    "    train.loc[train['housing']=='no','score'] = i\n",
    "\n",
    "\n",
    "\n",
    "#債務不履行\n",
    "default = train.loc[train['default'] == 'yes']\n",
    "\n",
    "\n",
    "score_values = default['score'].values\n",
    "score_values = score_values - 3\n",
    "score_values = list(score_values)\n",
    "\n",
    "for i in score_values:\n",
    "    train.loc[train['default']=='yes','score'] = i\n",
    "\n",
    "\n",
    "\n",
    "\n",
    "\n",
    "#経営者\n",
    "management = train.loc[train['job'] == 'management']\n",
    "\n",
    "\n",
    "score_values = management['score'].values\n",
    "score_values = score_values + 1\n",
    "score_values = list(score_values)\n",
    "\n",
    "for i in score_values:\n",
    "    train.loc[train['job']=='management','score'] = i\n",
    "    \n",
    "\n",
    "\n",
    "#管理者\n",
    "admin = train.loc[train['job'] == 'admin.']\n",
    "\n",
    "\n",
    "score_values = admin['score'].values\n",
    "score_values = score_values + 1\n",
    "score_values = list(score_values)\n",
    "\n",
    "for i in score_values:\n",
    "    train.loc[train['job']=='admin.','score'] = i\n",
    "    \n",
    "\n",
    "\n",
    "\n",
    "#学生\n",
    "student = train.loc[train['job'] == 'student']\n",
    "\n",
    "\n",
    "score_values = student['score'].values\n",
    "score_values = score_values + 1\n",
    "score_values = list(score_values)\n",
    "\n",
    "for i in score_values:\n",
    "    train.loc[train['job']=='student','score'] = i\n",
    "    \n",
    "\n",
    "\n",
    "\n",
    "\n",
    "#失業者\n",
    "unemployed = train.loc[train['job'] == 'unemployed']\n",
    "\n",
    "\n",
    "score_values = unemployed['score'].values\n",
    "score_values = score_values + 1\n",
    "score_values = list(score_values)\n",
    "\n",
    "for i in score_values:\n",
    "    train.loc[train['job']=='unemployed','score'] = i\n",
    "    \n",
    "train.loc[train['job'] == 'unemployed']\n",
    "\n",
    "\n",
    "\n",
    "\n",
    "#定年退職者\n",
    "retired = train.loc[train['job'] == 'retired']\n",
    "\n",
    "\n",
    "score_values = retired['score'].values\n",
    "score_values = score_values + 1\n",
    "score_values = list(score_values)\n",
    "\n",
    "for i in score_values:\n",
    "    train.loc[train['job']=='retired','score'] = i"
   ]
  },
  {
   "cell_type": "code",
   "execution_count": 63,
   "metadata": {},
   "outputs": [],
   "source": [
    "#テストデータ\n",
    "#score列の作成\n",
    "test['score'] = np.zeros(test.shape[0])\n",
    "\n",
    "#個人ローン\n",
    "loan_none = test.loc[test['loan'] == 'no']\n",
    "index = loan_none.index.values\n",
    "index = list(index)\n",
    "\n",
    "for i in index:\n",
    "    test.iloc[i,17] = 1\n",
    "\n",
    "\n",
    "\n",
    "#住宅ローン\n",
    "housing_none = test.loc[test['housing'] == 'no']\n",
    "\n",
    "score_values = housing_none['score'].values\n",
    "score_values = score_values + 1\n",
    "score_values = list(score_values)\n",
    "\n",
    "for i in score_values:\n",
    "    test.loc[test['housing']=='no','score'] = i\n",
    "\n",
    "\n",
    "\n",
    "#債務不履行\n",
    "default = test.loc[test['default'] == 'yes']\n",
    "\n",
    "\n",
    "score_values = default['score'].values\n",
    "score_values = score_values - 3\n",
    "score_values = list(score_values)\n",
    "\n",
    "for i in score_values:\n",
    "    test.loc[test['default']=='yes','score'] = i\n",
    "\n",
    "\n",
    "\n",
    "\n",
    "\n",
    "#経営者\n",
    "management = test.loc[test['job'] == 'management']\n",
    "\n",
    "\n",
    "score_values = management['score'].values\n",
    "score_values = score_values + 1\n",
    "score_values = list(score_values)\n",
    "\n",
    "for i in score_values:\n",
    "    test.loc[test['job']=='management','score'] = i\n",
    "    \n",
    "\n",
    "\n",
    "#管理者\n",
    "admin = test.loc[test['job'] == 'admin.']\n",
    "\n",
    "\n",
    "score_values = admin['score'].values\n",
    "score_values = score_values + 1\n",
    "score_values = list(score_values)\n",
    "\n",
    "for i in score_values:\n",
    "    test.loc[test['job']=='admin.','score'] = i\n",
    "    \n",
    "\n",
    "\n",
    "\n",
    "#学生\n",
    "student = test.loc[test['job'] == 'student']\n",
    "\n",
    "\n",
    "score_values = student['score'].values\n",
    "score_values = score_values + 1\n",
    "score_values = list(score_values)\n",
    "\n",
    "for i in score_values:\n",
    "    test.loc[test['job']=='student','score'] = i\n",
    "    \n",
    "\n",
    "\n",
    "\n",
    "\n",
    "#失業者\n",
    "unemployed = test.loc[test['job'] == 'unemployed']\n",
    "\n",
    "\n",
    "score_values = unemployed['score'].values\n",
    "score_values = score_values + 1\n",
    "score_values = list(score_values)\n",
    "\n",
    "for i in score_values:\n",
    "    test.loc[test['job']=='unemployed','score'] = i\n",
    "    \n",
    "\n",
    "\n",
    "\n",
    "#定年退職者\n",
    "retired = test.loc[test['job'] == 'retired']\n",
    "\n",
    "\n",
    "score_values = retired['score'].values\n",
    "score_values = score_values + 1\n",
    "score_values = list(score_values)\n",
    "\n",
    "for i in score_values:\n",
    "    test.loc[test['job']=='retired','score'] = i\n",
    "    \n"
   ]
  },
  {
   "cell_type": "code",
   "execution_count": 64,
   "metadata": {},
   "outputs": [],
   "source": [
    "#jobの欠損値処理\n",
    "test.replace({'job': {'unknown':'blue-collar'}}, inplace=True)\n",
    "\n",
    "#totalカラムの追加\n",
    "#before = train.previous.values\n",
    "#carent = train.campaign.values\n",
    "##total = before + carent\n",
    "#train['total'] = total\n",
    "\n",
    "#before = test.previous.values\n",
    "#carent = test.campaign.values\n",
    "#total = before + carent\n",
    "#test['total'] = total\n",
    "\n",
    "\n",
    "#各データセットの作成\n",
    "#train_x1 = train.iloc[:,1:17]\n",
    "#train_x2 = train.iloc[:,18:]\n",
    "#train_x = pd.concat([train_x1,train_x2], axis=1)\n",
    "train_x =train.iloc[:,1:17]\n",
    "train_x['score'] = train['score']\n",
    "train_y = train['y']\n",
    "test_x = test.iloc[:,1:]"
   ]
  },
  {
   "cell_type": "code",
   "execution_count": 65,
   "metadata": {},
   "outputs": [],
   "source": [
    "cat_cols = ['job','marital','education','default','housing','loan','contact','month','poutcome']\n",
    "#LabelEncording\n",
    "for c in cat_cols:\n",
    "    le = LabelEncoder()\n",
    "    le.fit(train_x[c])\n",
    "    train_x[c] = le.transform(train_x[c])\n",
    "    test_x[c] = le.transform(test_x[c])\n",
    "\n",
    "\n",
    "\n",
    "\n",
    "#hold out 法\n",
    "kf = KFold(n_splits=4, shuffle=True, random_state=71)\n",
    "tr_idx, va_idx = list(kf.split(train_x))[0]\n",
    "tr_x,va_x = train_x.iloc[tr_idx], train_x.iloc[va_idx]\n",
    "tr_y,va_y = train_y.iloc[tr_idx], train_y.iloc[va_idx] "
   ]
  },
  {
   "cell_type": "code",
   "execution_count": 68,
   "metadata": {},
   "outputs": [
    {
     "name": "stdout",
     "output_type": "stream",
     "text": [
      "2.3348765128231124\n"
     ]
    }
   ],
   "source": [
    "clf = RandomForestRegressor(random_state=42)\n",
    "clf.fit(tr_x, tr_y)\n",
    "va_pred = clf.predict(va_x)\n",
    "score = log_loss(va_y,y_pred)\n",
    "print(score)"
   ]
  },
  {
   "cell_type": "code",
   "execution_count": 69,
   "metadata": {},
   "outputs": [
    {
     "data": {
      "image/png": "[encoded data removed]",
      "text/plain": [
       "<Figure size 432x288 with 1 Axes>"
      ]
     },
     "metadata": {
      "needs_background": "light"
     },
     "output_type": "display_data"
    }
   ],
   "source": [
    "fig = plt.figure()\n",
    "\n",
    "fpr,tpr,thresholds = roc_curve(va_y,va_pred)\n",
    "auc_score = roc_auc_score(va_y,va_pred)\n",
    "\n",
    "plt.plot(fpr,tpr)\n",
    "plt.xlabel('False Positive Rate')\n",
    "plt.ylabel('True Positive Rate')\n",
    "plt.title(f'ROC curve/AUC Score : {auc_score}')\n",
    "\n",
    "plt.grid(True)"
   ]
  },
  {
   "cell_type": "code",
   "execution_count": 70,
   "metadata": {},
   "outputs": [],
   "source": [
    "test_prd = clf.predict(test_x)"
   ]
  },
  {
   "cell_type": "code",
   "execution_count": 71,
   "metadata": {},
   "outputs": [
    {
     "data": {
      "text/plain": [
       "0            0\n",
       "1            1\n",
       "2            2\n",
       "3            3\n",
       "4            4\n",
       "         ...  \n",
       "18045    18045\n",
       "18046    18046\n",
       "18047    18047\n",
       "18048    18048\n",
       "18049    18049\n",
       "Name: id, Length: 18050, dtype: int64"
      ]
     },
     "execution_count": 71,
     "metadata": {},
     "output_type": "execute_result"
    }
   ],
   "source": [
    "test['id']"
   ]
  },
  {
   "cell_type": "code",
   "execution_count": 72,
   "metadata": {},
   "outputs": [
    {
     "data": {
      "text/plain": [
       "18050"
      ]
     },
     "execution_count": 72,
     "metadata": {},
     "output_type": "execute_result"
    }
   ],
   "source": [
    "len(test_prd)"
   ]
  },
  {
   "cell_type": "code",
   "execution_count": 73,
   "metadata": {},
   "outputs": [],
   "source": [
    "ramdom_forest = test['id']\n",
    "ramdom_forest = pd.DataFrame(ramdom_forest)"
   ]
  },
  {
   "cell_type": "code",
   "execution_count": 74,
   "metadata": {},
   "outputs": [],
   "source": [
    "ramdom_forest['y'] = test_prd"
   ]
  },
  {
   "cell_type": "code",
   "execution_count": 77,
   "metadata": {},
   "outputs": [],
   "source": [
    "ramdom_forest.to_csv('ramdom_forest.csv')"
   ]
  },
  {
   "cell_type": "code",
   "execution_count": null,
   "metadata": {},
   "outputs": [],
   "source": []
  },
  {
   "cell_type": "code",
   "execution_count": null,
   "metadata": {},
   "outputs": [],
   "source": []
  }
 ],
 "metadata": {
  "kernelspec": {
   "display_name": "Python 3.7.1 64-bit",
   "language": "python",
   "name": "python37164bit745322e800af484d9e7663a15d4e0767"
  },
  "language_info": {
   "codemirror_mode": {
    "name": "ipython",
    "version": 3
   },
   "file_extension": ".py",
   "mimetype": "text/x-python",
   "name": "python",
   "nbconvert_exporter": "python",
   "pygments_lexer": "ipython3",
   "version": "3.7.1"
  }
 },
 "nbformat": 4,
 "nbformat_minor": 4
}
