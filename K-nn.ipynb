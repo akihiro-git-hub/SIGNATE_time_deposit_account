{
 "cells": [
  {
   "cell_type": "code",
   "execution_count": 35,
   "metadata": {},
   "outputs": [],
   "source": [
    "import pandas as pd\n",
    "import numpy as np\n",
    "from sklearn.cluster import KMeans\n",
    "from sklearn.metrics import log_loss, accuracy_score\n",
    "from sklearn.metrics import roc_auc_score, roc_curve\n",
    "import numpy as np\n",
    "import pandas as pd\n",
    "import matplotlib.pyplot as plt\n",
    "from matplotlib import gridspec\n",
    "import seaborn as sns\n",
    "import plotly.graph_objects as go\n",
    "import plotly.express as px\n",
    "from sklearn.model_selection import KFold, train_test_split\n",
    "from sklearn.metrics import log_loss, accuracy_score\n",
    "from sklearn.metrics import roc_auc_score, roc_curve\n",
    "from sklearn.preprocessing import LabelEncoder\n",
    "import xgboost as xgb\n",
    "from scipy.stats import zscore\n",
    "from sklearn.preprocessing import StandardScaler\n",
    "from sklearn.preprocessing import LabelEncoder\n",
    "from sklearn.ensemble import RandomForestRegressor\n",
    "from keras.layers import Dense,Dropout\n",
    "from keras.models import Model, Sequential\n",
    "from keras.callbacks import EarlyStopping\n",
    "from sklearn.preprocessing import StandardScaler\n",
    "from sklearn.ensemble import RandomForestRegressor\n",
    "from sklearn.linear_model import LinearRegression, Lasso,Ridge\n",
    "from sklearn.neighbors import KNeighborsClassifier\n",
    "from keras.optimizers import SGD, Adam\n",
    "from keras.layers.advanced_activations import ReLU, PReLU"
   ]
  },
  {
   "cell_type": "code",
   "execution_count": 14,
   "metadata": {},
   "outputs": [],
   "source": [
    "train = pd.read_csv('train_x_2.csv')\n",
    "train_y = pd.read_csv('C:\\\\Users\\\\odoru\\\\SIGNATE_time_deposit_account\\\\dataset\\\\train_y_xgboost.csv')"
   ]
  },
  {
   "cell_type": "code",
   "execution_count": 11,
   "metadata": {},
   "outputs": [],
   "source": [
    "X_train, X_test, Y_train, Y_test = train_test_split(train, train_y, random_state=0)"
   ]
  },
  {
   "cell_type": "code",
   "execution_count": 17,
   "metadata": {},
   "outputs": [],
   "source": [
    "scaler = StandardScaler()\n",
    "scaler.fit_transform(train)\n",
    "\n",
    "kf = KFold(n_splits=4, shuffle=True, random_state=71)\n",
    "tr_idx, va_idx = list(kf.split(train))[0]\n",
    "tr_x,va_x = train.iloc[tr_idx], train.iloc[va_idx]\n",
    "tr_y,va_y = train_y.iloc[tr_idx], train_y.iloc[va_idx] "
   ]
  },
  {
   "cell_type": "code",
   "execution_count": 20,
   "metadata": {},
   "outputs": [
    {
     "name": "stderr",
     "output_type": "stream",
     "text": [
      "C:\\Users\\odoru\\AppData\\Local\\Programs\\Python\\Python37\\lib\\site-packages\\ipykernel_launcher.py:5: DataConversionWarning: A column-vector y was passed when a 1d array was expected. Please change the shape of y to (n_samples, ), for example using ravel().\n",
      "  \"\"\"\n"
     ]
    },
    {
     "name": "stdout",
     "output_type": "stream",
     "text": [
      "1 :score: 3.8031357388609837\n"
     ]
    },
    {
     "name": "stderr",
     "output_type": "stream",
     "text": [
      "C:\\Users\\odoru\\AppData\\Local\\Programs\\Python\\Python37\\lib\\site-packages\\ipykernel_launcher.py:5: DataConversionWarning: A column-vector y was passed when a 1d array was expected. Please change the shape of y to (n_samples, ), for example using ravel().\n",
      "  \"\"\"\n"
     ]
    },
    {
     "name": "stdout",
     "output_type": "stream",
     "text": [
      "2 :score: 2.6152707685274277\n"
     ]
    },
    {
     "name": "stderr",
     "output_type": "stream",
     "text": [
      "C:\\Users\\odoru\\AppData\\Local\\Programs\\Python\\Python37\\lib\\site-packages\\ipykernel_launcher.py:5: DataConversionWarning: A column-vector y was passed when a 1d array was expected. Please change the shape of y to (n_samples, ), for example using ravel().\n",
      "  \"\"\"\n"
     ]
    },
    {
     "name": "stdout",
     "output_type": "stream",
     "text": [
      "3 :score: 2.9160632949093626\n"
     ]
    },
    {
     "name": "stderr",
     "output_type": "stream",
     "text": [
      "C:\\Users\\odoru\\AppData\\Local\\Programs\\Python\\Python37\\lib\\site-packages\\ipykernel_launcher.py:5: DataConversionWarning: A column-vector y was passed when a 1d array was expected. Please change the shape of y to (n_samples, ), for example using ravel().\n",
      "  \"\"\"\n"
     ]
    },
    {
     "name": "stdout",
     "output_type": "stream",
     "text": [
      "4 :score: 2.543899009246811\n"
     ]
    },
    {
     "name": "stderr",
     "output_type": "stream",
     "text": [
      "C:\\Users\\odoru\\AppData\\Local\\Programs\\Python\\Python37\\lib\\site-packages\\ipykernel_launcher.py:5: DataConversionWarning: A column-vector y was passed when a 1d array was expected. Please change the shape of y to (n_samples, ), for example using ravel().\n",
      "  \"\"\"\n"
     ]
    },
    {
     "name": "stdout",
     "output_type": "stream",
     "text": [
      "5 :score: 2.7121390089048183\n"
     ]
    },
    {
     "name": "stderr",
     "output_type": "stream",
     "text": [
      "C:\\Users\\odoru\\AppData\\Local\\Programs\\Python\\Python37\\lib\\site-packages\\ipykernel_launcher.py:5: DataConversionWarning: A column-vector y was passed when a 1d array was expected. Please change the shape of y to (n_samples, ), for example using ravel().\n",
      "  \"\"\"\n"
     ]
    },
    {
     "name": "stdout",
     "output_type": "stream",
     "text": [
      "6 :score: 2.457232028599926\n"
     ]
    },
    {
     "name": "stderr",
     "output_type": "stream",
     "text": [
      "C:\\Users\\odoru\\AppData\\Local\\Programs\\Python\\Python37\\lib\\site-packages\\ipykernel_launcher.py:5: DataConversionWarning: A column-vector y was passed when a 1d array was expected. Please change the shape of y to (n_samples, ), for example using ravel().\n",
      "  \"\"\"\n"
     ]
    },
    {
     "name": "stdout",
     "output_type": "stream",
     "text": [
      "7 :score: 2.513312933319429\n"
     ]
    },
    {
     "name": "stderr",
     "output_type": "stream",
     "text": [
      "C:\\Users\\odoru\\AppData\\Local\\Programs\\Python\\Python37\\lib\\site-packages\\ipykernel_launcher.py:5: DataConversionWarning: A column-vector y was passed when a 1d array was expected. Please change the shape of y to (n_samples, ), for example using ravel().\n",
      "  \"\"\"\n",
      "C:\\Users\\odoru\\AppData\\Local\\Programs\\Python\\Python37\\lib\\site-packages\\ipykernel_launcher.py:5: DataConversionWarning: A column-vector y was passed when a 1d array was expected. Please change the shape of y to (n_samples, ), for example using ravel().\n",
      "  \"\"\"\n"
     ]
    },
    {
     "name": "stdout",
     "output_type": "stream",
     "text": [
      "8 :score: 2.390957299520854\n",
      "9 :score: 2.396057752353466\n"
     ]
    },
    {
     "name": "stderr",
     "output_type": "stream",
     "text": [
      "C:\\Users\\odoru\\AppData\\Local\\Programs\\Python\\Python37\\lib\\site-packages\\ipykernel_launcher.py:5: DataConversionWarning: A column-vector y was passed when a 1d array was expected. Please change the shape of y to (n_samples, ), for example using ravel().\n",
      "  \"\"\"\n"
     ]
    },
    {
     "name": "stdout",
     "output_type": "stream",
     "text": [
      "10 :score: 2.3603692172235373\n"
     ]
    },
    {
     "name": "stderr",
     "output_type": "stream",
     "text": [
      "C:\\Users\\odoru\\AppData\\Local\\Programs\\Python\\Python37\\lib\\site-packages\\ipykernel_launcher.py:5: DataConversionWarning: A column-vector y was passed when a 1d array was expected. Please change the shape of y to (n_samples, ), for example using ravel().\n",
      "  \"\"\"\n"
     ]
    },
    {
     "name": "stdout",
     "output_type": "stream",
     "text": [
      "11 :score: 2.3960571622446616\n"
     ]
    },
    {
     "name": "stderr",
     "output_type": "stream",
     "text": [
      "C:\\Users\\odoru\\AppData\\Local\\Programs\\Python\\Python37\\lib\\site-packages\\ipykernel_launcher.py:5: DataConversionWarning: A column-vector y was passed when a 1d array was expected. Please change the shape of y to (n_samples, ), for example using ravel().\n",
      "  \"\"\"\n"
     ]
    },
    {
     "name": "stdout",
     "output_type": "stream",
     "text": [
      "12 :score: 2.3297811349262196\n"
     ]
    },
    {
     "name": "stderr",
     "output_type": "stream",
     "text": [
      "C:\\Users\\odoru\\AppData\\Local\\Programs\\Python\\Python37\\lib\\site-packages\\ipykernel_launcher.py:5: DataConversionWarning: A column-vector y was passed when a 1d array was expected. Please change the shape of y to (n_samples, ), for example using ravel().\n",
      "  \"\"\"\n"
     ]
    },
    {
     "name": "stdout",
     "output_type": "stream",
     "text": [
      "13 :score: 2.3807631210960025\n"
     ]
    },
    {
     "name": "stderr",
     "output_type": "stream",
     "text": [
      "C:\\Users\\odoru\\AppData\\Local\\Programs\\Python\\Python37\\lib\\site-packages\\ipykernel_launcher.py:5: DataConversionWarning: A column-vector y was passed when a 1d array was expected. Please change the shape of y to (n_samples, ), for example using ravel().\n",
      "  \"\"\"\n"
     ]
    },
    {
     "name": "stdout",
     "output_type": "stream",
     "text": [
      "14 :score: 2.334879345345374\n"
     ]
    },
    {
     "name": "stderr",
     "output_type": "stream",
     "text": [
      "C:\\Users\\odoru\\AppData\\Local\\Programs\\Python\\Python37\\lib\\site-packages\\ipykernel_launcher.py:5: DataConversionWarning: A column-vector y was passed when a 1d array was expected. Please change the shape of y to (n_samples, ), for example using ravel().\n",
      "  \"\"\"\n"
     ]
    },
    {
     "name": "stdout",
     "output_type": "stream",
     "text": [
      "15 :score: 2.350174566711642\n"
     ]
    },
    {
     "name": "stderr",
     "output_type": "stream",
     "text": [
      "C:\\Users\\odoru\\AppData\\Local\\Programs\\Python\\Python37\\lib\\site-packages\\ipykernel_launcher.py:5: DataConversionWarning: A column-vector y was passed when a 1d array was expected. Please change the shape of y to (n_samples, ), for example using ravel().\n",
      "  \"\"\"\n"
     ]
    },
    {
     "name": "stdout",
     "output_type": "stream",
     "text": [
      "16 :score: 2.3144868577340394\n"
     ]
    },
    {
     "name": "stderr",
     "output_type": "stream",
     "text": [
      "C:\\Users\\odoru\\AppData\\Local\\Programs\\Python\\Python37\\lib\\site-packages\\ipykernel_launcher.py:5: DataConversionWarning: A column-vector y was passed when a 1d array was expected. Please change the shape of y to (n_samples, ), for example using ravel().\n",
      "  \"\"\"\n"
     ]
    },
    {
     "name": "stdout",
     "output_type": "stream",
     "text": [
      "17 :score: 2.3144881559734096\n"
     ]
    },
    {
     "name": "stderr",
     "output_type": "stream",
     "text": [
      "C:\\Users\\odoru\\AppData\\Local\\Programs\\Python\\Python37\\lib\\site-packages\\ipykernel_launcher.py:5: DataConversionWarning: A column-vector y was passed when a 1d array was expected. Please change the shape of y to (n_samples, ), for example using ravel().\n",
      "  \"\"\"\n"
     ]
    },
    {
     "name": "stdout",
     "output_type": "stream",
     "text": [
      "18 :score: 2.2889963957470716\n"
     ]
    },
    {
     "name": "stderr",
     "output_type": "stream",
     "text": [
      "C:\\Users\\odoru\\AppData\\Local\\Programs\\Python\\Python37\\lib\\site-packages\\ipykernel_launcher.py:5: DataConversionWarning: A column-vector y was passed when a 1d array was expected. Please change the shape of y to (n_samples, ), for example using ravel().\n",
      "  \"\"\"\n"
     ]
    },
    {
     "name": "stdout",
     "output_type": "stream",
     "text": [
      "19 :score: 2.314487683886366\n"
     ]
    },
    {
     "name": "stderr",
     "output_type": "stream",
     "text": [
      "C:\\Users\\odoru\\AppData\\Local\\Programs\\Python\\Python37\\lib\\site-packages\\ipykernel_launcher.py:5: DataConversionWarning: A column-vector y was passed when a 1d array was expected. Please change the shape of y to (n_samples, ), for example using ravel().\n",
      "  \"\"\"\n"
     ]
    },
    {
     "name": "stdout",
     "output_type": "stream",
     "text": [
      "20 :score: 2.2940946061662264\n"
     ]
    },
    {
     "name": "stderr",
     "output_type": "stream",
     "text": [
      "C:\\Users\\odoru\\AppData\\Local\\Programs\\Python\\Python37\\lib\\site-packages\\ipykernel_launcher.py:5: DataConversionWarning: A column-vector y was passed when a 1d array was expected. Please change the shape of y to (n_samples, ), for example using ravel().\n",
      "  \"\"\"\n"
     ]
    },
    {
     "name": "stdout",
     "output_type": "stream",
     "text": [
      "21 :score: 2.3450761202489656\n"
     ]
    },
    {
     "name": "stderr",
     "output_type": "stream",
     "text": [
      "C:\\Users\\odoru\\AppData\\Local\\Programs\\Python\\Python37\\lib\\site-packages\\ipykernel_launcher.py:5: DataConversionWarning: A column-vector y was passed when a 1d array was expected. Please change the shape of y to (n_samples, ), for example using ravel().\n",
      "  \"\"\"\n"
     ]
    },
    {
     "name": "stdout",
     "output_type": "stream",
     "text": [
      "22 :score: 2.283898303349678\n"
     ]
    },
    {
     "name": "stderr",
     "output_type": "stream",
     "text": [
      "C:\\Users\\odoru\\AppData\\Local\\Programs\\Python\\Python37\\lib\\site-packages\\ipykernel_launcher.py:5: DataConversionWarning: A column-vector y was passed when a 1d array was expected. Please change the shape of y to (n_samples, ), for example using ravel().\n",
      "  \"\"\"\n"
     ]
    },
    {
     "name": "stdout",
     "output_type": "stream",
     "text": [
      "23 :score: 2.3297819610785457\n"
     ]
    },
    {
     "name": "stderr",
     "output_type": "stream",
     "text": [
      "C:\\Users\\odoru\\AppData\\Local\\Programs\\Python\\Python37\\lib\\site-packages\\ipykernel_launcher.py:5: DataConversionWarning: A column-vector y was passed when a 1d array was expected. Please change the shape of y to (n_samples, ), for example using ravel().\n",
      "  \"\"\"\n"
     ]
    },
    {
     "name": "stdout",
     "output_type": "stream",
     "text": [
      "24 :score: 2.294094488144465\n"
     ]
    },
    {
     "name": "stderr",
     "output_type": "stream",
     "text": [
      "C:\\Users\\odoru\\AppData\\Local\\Programs\\Python\\Python37\\lib\\site-packages\\ipykernel_launcher.py:5: DataConversionWarning: A column-vector y was passed when a 1d array was expected. Please change the shape of y to (n_samples, ), for example using ravel().\n",
      "  \"\"\"\n"
     ]
    },
    {
     "name": "stdout",
     "output_type": "stream",
     "text": [
      "25 :score: 2.319585776283759\n"
     ]
    },
    {
     "name": "stderr",
     "output_type": "stream",
     "text": [
      "C:\\Users\\odoru\\AppData\\Local\\Programs\\Python\\Python37\\lib\\site-packages\\ipykernel_launcher.py:5: DataConversionWarning: A column-vector y was passed when a 1d array was expected. Please change the shape of y to (n_samples, ), for example using ravel().\n",
      "  \"\"\"\n"
     ]
    },
    {
     "name": "stdout",
     "output_type": "stream",
     "text": [
      "26 :score: 2.2991922264765763\n"
     ]
    },
    {
     "name": "stderr",
     "output_type": "stream",
     "text": [
      "C:\\Users\\odoru\\AppData\\Local\\Programs\\Python\\Python37\\lib\\site-packages\\ipykernel_launcher.py:5: DataConversionWarning: A column-vector y was passed when a 1d array was expected. Please change the shape of y to (n_samples, ), for example using ravel().\n",
      "  \"\"\"\n"
     ]
    },
    {
     "name": "stdout",
     "output_type": "stream",
     "text": [
      "27 :score: 2.304291145026296\n"
     ]
    },
    {
     "name": "stderr",
     "output_type": "stream",
     "text": [
      "C:\\Users\\odoru\\AppData\\Local\\Programs\\Python\\Python37\\lib\\site-packages\\ipykernel_launcher.py:5: DataConversionWarning: A column-vector y was passed when a 1d array was expected. Please change the shape of y to (n_samples, ), for example using ravel().\n",
      "  \"\"\"\n"
     ]
    },
    {
     "name": "stdout",
     "output_type": "stream",
     "text": [
      "28 :score: 2.288996513768833\n"
     ]
    },
    {
     "name": "stderr",
     "output_type": "stream",
     "text": [
      "C:\\Users\\odoru\\AppData\\Local\\Programs\\Python\\Python37\\lib\\site-packages\\ipykernel_launcher.py:5: DataConversionWarning: A column-vector y was passed when a 1d array was expected. Please change the shape of y to (n_samples, ), for example using ravel().\n",
      "  \"\"\"\n"
     ]
    },
    {
     "name": "stdout",
     "output_type": "stream",
     "text": [
      "29 :score: 2.2889968678341153\n"
     ]
    },
    {
     "name": "stderr",
     "output_type": "stream",
     "text": [
      "C:\\Users\\odoru\\AppData\\Local\\Programs\\Python\\Python37\\lib\\site-packages\\ipykernel_launcher.py:5: DataConversionWarning: A column-vector y was passed when a 1d array was expected. Please change the shape of y to (n_samples, ), for example using ravel().\n",
      "  \"\"\"\n"
     ]
    },
    {
     "name": "stdout",
     "output_type": "stream",
     "text": [
      "30 :score: 2.263506287825387\n"
     ]
    },
    {
     "name": "stderr",
     "output_type": "stream",
     "text": [
      "C:\\Users\\odoru\\AppData\\Local\\Programs\\Python\\Python37\\lib\\site-packages\\ipykernel_launcher.py:5: DataConversionWarning: A column-vector y was passed when a 1d array was expected. Please change the shape of y to (n_samples, ), for example using ravel().\n",
      "  \"\"\"\n"
     ]
    },
    {
     "name": "stdout",
     "output_type": "stream",
     "text": [
      "31 :score: 2.2686048523098243\n"
     ]
    },
    {
     "name": "stderr",
     "output_type": "stream",
     "text": [
      "C:\\Users\\odoru\\AppData\\Local\\Programs\\Python\\Python37\\lib\\site-packages\\ipykernel_launcher.py:5: DataConversionWarning: A column-vector y was passed when a 1d array was expected. Please change the shape of y to (n_samples, ), for example using ravel().\n",
      "  \"\"\"\n"
     ]
    },
    {
     "name": "stdout",
     "output_type": "stream",
     "text": [
      "32 :score: 2.2635061698036263\n"
     ]
    },
    {
     "name": "stderr",
     "output_type": "stream",
     "text": [
      "C:\\Users\\odoru\\AppData\\Local\\Programs\\Python\\Python37\\lib\\site-packages\\ipykernel_launcher.py:5: DataConversionWarning: A column-vector y was passed when a 1d array was expected. Please change the shape of y to (n_samples, ), for example using ravel().\n",
      "  \"\"\"\n"
     ]
    },
    {
     "name": "stdout",
     "output_type": "stream",
     "text": [
      "33 :score: 2.3144873298210826\n"
     ]
    },
    {
     "name": "stderr",
     "output_type": "stream",
     "text": [
      "C:\\Users\\odoru\\AppData\\Local\\Programs\\Python\\Python37\\lib\\site-packages\\ipykernel_launcher.py:5: DataConversionWarning: A column-vector y was passed when a 1d array was expected. Please change the shape of y to (n_samples, ), for example using ravel().\n",
      "  \"\"\"\n"
     ]
    },
    {
     "name": "stdout",
     "output_type": "stream",
     "text": [
      "34 :score: 2.309388765336646\n"
     ]
    },
    {
     "name": "stderr",
     "output_type": "stream",
     "text": [
      "C:\\Users\\odoru\\AppData\\Local\\Programs\\Python\\Python37\\lib\\site-packages\\ipykernel_launcher.py:5: DataConversionWarning: A column-vector y was passed when a 1d array was expected. Please change the shape of y to (n_samples, ), for example using ravel().\n",
      "  \"\"\"\n"
     ]
    },
    {
     "name": "stdout",
     "output_type": "stream",
     "text": [
      "35 :score: 2.3144876838863655\n"
     ]
    },
    {
     "name": "stderr",
     "output_type": "stream",
     "text": [
      "C:\\Users\\odoru\\AppData\\Local\\Programs\\Python\\Python37\\lib\\site-packages\\ipykernel_launcher.py:5: DataConversionWarning: A column-vector y was passed when a 1d array was expected. Please change the shape of y to (n_samples, ), for example using ravel().\n",
      "  \"\"\"\n"
     ]
    },
    {
     "name": "stdout",
     "output_type": "stream",
     "text": [
      "36 :score: 2.3195849501314325\n"
     ]
    },
    {
     "name": "stderr",
     "output_type": "stream",
     "text": [
      "C:\\Users\\odoru\\AppData\\Local\\Programs\\Python\\Python37\\lib\\site-packages\\ipykernel_launcher.py:5: DataConversionWarning: A column-vector y was passed when a 1d array was expected. Please change the shape of y to (n_samples, ), for example using ravel().\n",
      "  \"\"\"\n"
     ]
    },
    {
     "name": "stdout",
     "output_type": "stream",
     "text": [
      "37 :score: 2.3246835146158698\n"
     ]
    },
    {
     "name": "stderr",
     "output_type": "stream",
     "text": [
      "C:\\Users\\odoru\\AppData\\Local\\Programs\\Python\\Python37\\lib\\site-packages\\ipykernel_launcher.py:5: DataConversionWarning: A column-vector y was passed when a 1d array was expected. Please change the shape of y to (n_samples, ), for example using ravel().\n",
      "  \"\"\"\n"
     ]
    },
    {
     "name": "stdout",
     "output_type": "stream",
     "text": [
      "38 :score: 2.3246829245070653\n"
     ]
    },
    {
     "name": "stderr",
     "output_type": "stream",
     "text": [
      "C:\\Users\\odoru\\AppData\\Local\\Programs\\Python\\Python37\\lib\\site-packages\\ipykernel_launcher.py:5: DataConversionWarning: A column-vector y was passed when a 1d array was expected. Please change the shape of y to (n_samples, ), for example using ravel().\n",
      "  \"\"\"\n"
     ]
    },
    {
     "name": "stdout",
     "output_type": "stream",
     "text": [
      "39 :score: 2.334879345345374\n"
     ]
    },
    {
     "name": "stderr",
     "output_type": "stream",
     "text": [
      "C:\\Users\\odoru\\AppData\\Local\\Programs\\Python\\Python37\\lib\\site-packages\\ipykernel_launcher.py:5: DataConversionWarning: A column-vector y was passed when a 1d array was expected. Please change the shape of y to (n_samples, ), for example using ravel().\n",
      "  \"\"\"\n"
     ]
    },
    {
     "name": "stdout",
     "output_type": "stream",
     "text": [
      "40 :score: 2.2991922264765763\n"
     ]
    },
    {
     "name": "stderr",
     "output_type": "stream",
     "text": [
      "C:\\Users\\odoru\\AppData\\Local\\Programs\\Python\\Python37\\lib\\site-packages\\ipykernel_launcher.py:5: DataConversionWarning: A column-vector y was passed when a 1d array was expected. Please change the shape of y to (n_samples, ), for example using ravel().\n",
      "  \"\"\"\n"
     ]
    },
    {
     "name": "stdout",
     "output_type": "stream",
     "text": [
      "41 :score: 2.329781016904459\n"
     ]
    },
    {
     "name": "stderr",
     "output_type": "stream",
     "text": [
      "C:\\Users\\odoru\\AppData\\Local\\Programs\\Python\\Python37\\lib\\site-packages\\ipykernel_launcher.py:5: DataConversionWarning: A column-vector y was passed when a 1d array was expected. Please change the shape of y to (n_samples, ), for example using ravel().\n",
      "  \"\"\"\n"
     ]
    },
    {
     "name": "stdout",
     "output_type": "stream",
     "text": [
      "42 :score: 2.329780662839176\n"
     ]
    },
    {
     "name": "stderr",
     "output_type": "stream",
     "text": [
      "C:\\Users\\odoru\\AppData\\Local\\Programs\\Python\\Python37\\lib\\site-packages\\ipykernel_launcher.py:5: DataConversionWarning: A column-vector y was passed when a 1d array was expected. Please change the shape of y to (n_samples, ), for example using ravel().\n",
      "  \"\"\"\n"
     ]
    },
    {
     "name": "stdout",
     "output_type": "stream",
     "text": [
      "43 :score: 2.324683278572348\n"
     ]
    },
    {
     "name": "stderr",
     "output_type": "stream",
     "text": [
      "C:\\Users\\odoru\\AppData\\Local\\Programs\\Python\\Python37\\lib\\site-packages\\ipykernel_launcher.py:5: DataConversionWarning: A column-vector y was passed when a 1d array was expected. Please change the shape of y to (n_samples, ), for example using ravel().\n",
      "  \"\"\"\n"
     ]
    },
    {
     "name": "stdout",
     "output_type": "stream",
     "text": [
      "44 :score: 2.3195844780443893\n"
     ]
    },
    {
     "name": "stderr",
     "output_type": "stream",
     "text": [
      "C:\\Users\\odoru\\AppData\\Local\\Programs\\Python\\Python37\\lib\\site-packages\\ipykernel_launcher.py:5: DataConversionWarning: A column-vector y was passed when a 1d array was expected. Please change the shape of y to (n_samples, ), for example using ravel().\n",
      "  \"\"\"\n"
     ]
    },
    {
     "name": "stdout",
     "output_type": "stream",
     "text": [
      "45 :score: 2.339977201699246\n"
     ]
    },
    {
     "name": "stderr",
     "output_type": "stream",
     "text": [
      "C:\\Users\\odoru\\AppData\\Local\\Programs\\Python\\Python37\\lib\\site-packages\\ipykernel_launcher.py:5: DataConversionWarning: A column-vector y was passed when a 1d array was expected. Please change the shape of y to (n_samples, ), for example using ravel().\n",
      "  \"\"\"\n"
     ]
    },
    {
     "name": "stdout",
     "output_type": "stream",
     "text": [
      "46 :score: 2.3246825704417824\n"
     ]
    },
    {
     "name": "stderr",
     "output_type": "stream",
     "text": [
      "C:\\Users\\odoru\\AppData\\Local\\Programs\\Python\\Python37\\lib\\site-packages\\ipykernel_launcher.py:5: DataConversionWarning: A column-vector y was passed when a 1d array was expected. Please change the shape of y to (n_samples, ), for example using ravel().\n",
      "  \"\"\"\n"
     ]
    },
    {
     "name": "stdout",
     "output_type": "stream",
     "text": [
      "47 :score: 2.3399770836774847\n"
     ]
    },
    {
     "name": "stderr",
     "output_type": "stream",
     "text": [
      "C:\\Users\\odoru\\AppData\\Local\\Programs\\Python\\Python37\\lib\\site-packages\\ipykernel_launcher.py:5: DataConversionWarning: A column-vector y was passed when a 1d array was expected. Please change the shape of y to (n_samples, ), for example using ravel().\n",
      "  \"\"\"\n"
     ]
    },
    {
     "name": "stdout",
     "output_type": "stream",
     "text": [
      "48 :score: 2.329780662839176\n"
     ]
    },
    {
     "name": "stderr",
     "output_type": "stream",
     "text": [
      "C:\\Users\\odoru\\AppData\\Local\\Programs\\Python\\Python37\\lib\\site-packages\\ipykernel_launcher.py:5: DataConversionWarning: A column-vector y was passed when a 1d array was expected. Please change the shape of y to (n_samples, ), for example using ravel().\n",
      "  \"\"\"\n"
     ]
    },
    {
     "name": "stdout",
     "output_type": "stream",
     "text": [
      "49 :score: 2.3348789912800916\n"
     ]
    }
   ],
   "source": [
    "list_nn = []\n",
    "list_score = []\n",
    "for k in range(1, 50):\n",
    "    knc = KNeighborsClassifier(n_neighbors=k)\n",
    "    knc.fit(tr_x, tr_y)\n",
    "    \n",
    "    va_pred = knc.predict(va_x)\n",
    "    \n",
    "    score = log_loss(va_y, va_pred)\n",
    "    print(f'{k} :score: {score}')\n",
    "    \n",
    "    list_nn.append(k)\n",
    "    list_score.append(score)"
   ]
  },
  {
   "cell_type": "code",
   "execution_count": 24,
   "metadata": {},
   "outputs": [
    {
     "data": {
      "text/plain": [
       "2.2635061698036263"
      ]
     },
     "execution_count": 24,
     "metadata": {},
     "output_type": "execute_result"
    }
   ],
   "source": [
    "min(list_score)"
   ]
  },
  {
   "cell_type": "code",
   "execution_count": 21,
   "metadata": {},
   "outputs": [
    {
     "data": {
      "text/plain": [
       "Text(0, 0.5, 'score')"
      ]
     },
     "execution_count": 21,
     "metadata": {},
     "output_type": "execute_result"
    },
    {
     "data": {
      "image/png": "[encoded data removed]",
      "text/plain": [
       "<Figure size 432x288 with 1 Axes>"
      ]
     },
     "metadata": {
      "needs_background": "light"
     },
     "output_type": "display_data"
    }
   ],
   "source": [
    "plt.plot(list_nn, list_score)\n",
    "plt.xlabel('n_neighbors')\n",
    "plt.ylabel('score')"
   ]
  },
  {
   "cell_type": "code",
   "execution_count": 12,
   "metadata": {},
   "outputs": [
    {
     "name": "stderr",
     "output_type": "stream",
     "text": [
      "C:\\Users\\odoru\\AppData\\Local\\Programs\\Python\\Python37\\lib\\site-packages\\ipykernel_launcher.py:5: DataConversionWarning: A column-vector y was passed when a 1d array was expected. Please change the shape of y to (n_samples, ), for example using ravel().\n",
      "  \"\"\"\n"
     ]
    },
    {
     "name": "stdout",
     "output_type": "stream",
     "text": [
      "1 :score: 3.8541173709654832\n"
     ]
    },
    {
     "name": "stderr",
     "output_type": "stream",
     "text": [
      "C:\\Users\\odoru\\AppData\\Local\\Programs\\Python\\Python37\\lib\\site-packages\\ipykernel_launcher.py:5: DataConversionWarning: A column-vector y was passed when a 1d array was expected. Please change the shape of y to (n_samples, ), for example using ravel().\n",
      "  \"\"\"\n"
     ]
    },
    {
     "name": "stdout",
     "output_type": "stream",
     "text": [
      "2 :score: 2.441938695581833\n"
     ]
    },
    {
     "name": "stderr",
     "output_type": "stream",
     "text": [
      "C:\\Users\\odoru\\AppData\\Local\\Programs\\Python\\Python37\\lib\\site-packages\\ipykernel_launcher.py:5: DataConversionWarning: A column-vector y was passed when a 1d array was expected. Please change the shape of y to (n_samples, ), for example using ravel().\n",
      "  \"\"\"\n"
     ]
    },
    {
     "name": "stdout",
     "output_type": "stream",
     "text": [
      "3 :score: 2.788613463431504\n"
     ]
    },
    {
     "name": "stderr",
     "output_type": "stream",
     "text": [
      "C:\\Users\\odoru\\AppData\\Local\\Programs\\Python\\Python37\\lib\\site-packages\\ipykernel_launcher.py:5: DataConversionWarning: A column-vector y was passed when a 1d array was expected. Please change the shape of y to (n_samples, ), for example using ravel().\n",
      "  \"\"\"\n"
     ]
    },
    {
     "name": "stdout",
     "output_type": "stream",
     "text": [
      "4 :score: 2.2940956683620746\n"
     ]
    },
    {
     "name": "stderr",
     "output_type": "stream",
     "text": [
      "C:\\Users\\odoru\\AppData\\Local\\Programs\\Python\\Python37\\lib\\site-packages\\ipykernel_launcher.py:5: DataConversionWarning: A column-vector y was passed when a 1d array was expected. Please change the shape of y to (n_samples, ), for example using ravel().\n",
      "  \"\"\"\n"
     ]
    },
    {
     "name": "stdout",
     "output_type": "stream",
     "text": [
      "5 :score: 2.4725310266625433\n"
     ]
    },
    {
     "name": "stderr",
     "output_type": "stream",
     "text": [
      "C:\\Users\\odoru\\AppData\\Local\\Programs\\Python\\Python37\\lib\\site-packages\\ipykernel_launcher.py:5: DataConversionWarning: A column-vector y was passed when a 1d array was expected. Please change the shape of y to (n_samples, ), for example using ravel().\n",
      "  \"\"\"\n"
     ]
    },
    {
     "name": "stdout",
     "output_type": "stream",
     "text": [
      "6 :score: 2.2737031807507395\n"
     ]
    },
    {
     "name": "stderr",
     "output_type": "stream",
     "text": [
      "C:\\Users\\odoru\\AppData\\Local\\Programs\\Python\\Python37\\lib\\site-packages\\ipykernel_launcher.py:5: DataConversionWarning: A column-vector y was passed when a 1d array was expected. Please change the shape of y to (n_samples, ), for example using ravel().\n",
      "  \"\"\"\n"
     ]
    },
    {
     "name": "stdout",
     "output_type": "stream",
     "text": [
      "7 :score: 2.396059168614597\n"
     ]
    },
    {
     "name": "stderr",
     "output_type": "stream",
     "text": [
      "C:\\Users\\odoru\\AppData\\Local\\Programs\\Python\\Python37\\lib\\site-packages\\ipykernel_launcher.py:5: DataConversionWarning: A column-vector y was passed when a 1d array was expected. Please change the shape of y to (n_samples, ), for example using ravel().\n",
      "  \"\"\"\n"
     ]
    },
    {
     "name": "stdout",
     "output_type": "stream",
     "text": [
      "8 :score: 2.2889971038776373\n"
     ]
    },
    {
     "name": "stderr",
     "output_type": "stream",
     "text": [
      "C:\\Users\\odoru\\AppData\\Local\\Programs\\Python\\Python37\\lib\\site-packages\\ipykernel_launcher.py:5: DataConversionWarning: A column-vector y was passed when a 1d array was expected. Please change the shape of y to (n_samples, ), for example using ravel().\n",
      "  \"\"\"\n"
     ]
    },
    {
     "name": "stdout",
     "output_type": "stream",
     "text": [
      "9 :score: 2.3654697880779096\n"
     ]
    },
    {
     "name": "stderr",
     "output_type": "stream",
     "text": [
      "C:\\Users\\odoru\\AppData\\Local\\Programs\\Python\\Python37\\lib\\site-packages\\ipykernel_launcher.py:5: DataConversionWarning: A column-vector y was passed when a 1d array was expected. Please change the shape of y to (n_samples, ), for example using ravel().\n",
      "  \"\"\"\n"
     ]
    },
    {
     "name": "stdout",
     "output_type": "stream",
     "text": [
      "10 :score: 2.2838988934584825\n"
     ]
    },
    {
     "name": "stderr",
     "output_type": "stream",
     "text": [
      "C:\\Users\\odoru\\AppData\\Local\\Programs\\Python\\Python37\\lib\\site-packages\\ipykernel_launcher.py:5: DataConversionWarning: A column-vector y was passed when a 1d array was expected. Please change the shape of y to (n_samples, ), for example using ravel().\n",
      "  \"\"\"\n"
     ]
    },
    {
     "name": "stdout",
     "output_type": "stream",
     "text": [
      "11 :score: 2.3093902996195377\n"
     ]
    },
    {
     "name": "stderr",
     "output_type": "stream",
     "text": [
      "C:\\Users\\odoru\\AppData\\Local\\Programs\\Python\\Python37\\lib\\site-packages\\ipykernel_launcher.py:5: DataConversionWarning: A column-vector y was passed when a 1d array was expected. Please change the shape of y to (n_samples, ), for example using ravel().\n",
      "  \"\"\"\n"
     ]
    },
    {
     "name": "stdout",
     "output_type": "stream",
     "text": [
      "12 :score: 2.2788006830393286\n"
     ]
    },
    {
     "name": "stderr",
     "output_type": "stream",
     "text": [
      "C:\\Users\\odoru\\AppData\\Local\\Programs\\Python\\Python37\\lib\\site-packages\\ipykernel_launcher.py:5: DataConversionWarning: A column-vector y was passed when a 1d array was expected. Please change the shape of y to (n_samples, ), for example using ravel().\n",
      "  \"\"\"\n"
     ]
    },
    {
     "name": "stdout",
     "output_type": "stream",
     "text": [
      "13 :score: 2.294096140449118\n"
     ]
    },
    {
     "name": "stderr",
     "output_type": "stream",
     "text": [
      "C:\\Users\\odoru\\AppData\\Local\\Programs\\Python\\Python37\\lib\\site-packages\\ipykernel_launcher.py:5: DataConversionWarning: A column-vector y was passed when a 1d array was expected. Please change the shape of y to (n_samples, ), for example using ravel().\n",
      "  \"\"\"\n"
     ]
    },
    {
     "name": "stdout",
     "output_type": "stream",
     "text": [
      "14 :score: 2.2482126007420113\n"
     ]
    },
    {
     "name": "stderr",
     "output_type": "stream",
     "text": [
      "C:\\Users\\odoru\\AppData\\Local\\Programs\\Python\\Python37\\lib\\site-packages\\ipykernel_launcher.py:5: DataConversionWarning: A column-vector y was passed when a 1d array was expected. Please change the shape of y to (n_samples, ), for example using ravel().\n",
      "  \"\"\"\n"
     ]
    },
    {
     "name": "stdout",
     "output_type": "stream",
     "text": [
      "15 :score: 2.2788019812786984\n"
     ]
    },
    {
     "name": "stderr",
     "output_type": "stream",
     "text": [
      "C:\\Users\\odoru\\AppData\\Local\\Programs\\Python\\Python37\\lib\\site-packages\\ipykernel_launcher.py:5: DataConversionWarning: A column-vector y was passed when a 1d array was expected. Please change the shape of y to (n_samples, ), for example using ravel().\n",
      "  \"\"\"\n"
     ]
    },
    {
     "name": "stdout",
     "output_type": "stream",
     "text": [
      "16 :score: 2.253310693139405\n"
     ]
    },
    {
     "name": "stderr",
     "output_type": "stream",
     "text": [
      "C:\\Users\\odoru\\AppData\\Local\\Programs\\Python\\Python37\\lib\\site-packages\\ipykernel_launcher.py:5: DataConversionWarning: A column-vector y was passed when a 1d array was expected. Please change the shape of y to (n_samples, ), for example using ravel().\n",
      "  \"\"\"\n"
     ]
    },
    {
     "name": "stdout",
     "output_type": "stream",
     "text": [
      "17 :score: 2.217625580640542\n"
     ]
    },
    {
     "name": "stderr",
     "output_type": "stream",
     "text": [
      "C:\\Users\\odoru\\AppData\\Local\\Programs\\Python\\Python37\\lib\\site-packages\\ipykernel_launcher.py:5: DataConversionWarning: A column-vector y was passed when a 1d array was expected. Please change the shape of y to (n_samples, ), for example using ravel().\n",
      "  \"\"\"\n"
     ]
    },
    {
     "name": "stdout",
     "output_type": "stream",
     "text": [
      "18 :score: 2.2329184415715915\n"
     ]
    },
    {
     "name": "stderr",
     "output_type": "stream",
     "text": [
      "C:\\Users\\odoru\\AppData\\Local\\Programs\\Python\\Python37\\lib\\site-packages\\ipykernel_launcher.py:5: DataConversionWarning: A column-vector y was passed when a 1d array was expected. Please change the shape of y to (n_samples, ), for example using ravel().\n",
      "  \"\"\"\n"
     ]
    },
    {
     "name": "stdout",
     "output_type": "stream",
     "text": [
      "19 :score: 2.2584094936673638\n"
     ]
    },
    {
     "name": "stderr",
     "output_type": "stream",
     "text": [
      "C:\\Users\\odoru\\AppData\\Local\\Programs\\Python\\Python37\\lib\\site-packages\\ipykernel_launcher.py:5: DataConversionWarning: A column-vector y was passed when a 1d array was expected. Please change the shape of y to (n_samples, ), for example using ravel().\n",
      "  \"\"\"\n"
     ]
    },
    {
     "name": "stdout",
     "output_type": "stream",
     "text": [
      "20 :score: 2.19723214885512\n"
     ]
    },
    {
     "name": "stderr",
     "output_type": "stream",
     "text": [
      "C:\\Users\\odoru\\AppData\\Local\\Programs\\Python\\Python37\\lib\\site-packages\\ipykernel_launcher.py:5: DataConversionWarning: A column-vector y was passed when a 1d array was expected. Please change the shape of y to (n_samples, ), for example using ravel().\n",
      "  \"\"\"\n"
     ]
    },
    {
     "name": "stdout",
     "output_type": "stream",
     "text": [
      "21 :score: 2.227821529391807\n"
     ]
    },
    {
     "name": "stderr",
     "output_type": "stream",
     "text": [
      "C:\\Users\\odoru\\AppData\\Local\\Programs\\Python\\Python37\\lib\\site-packages\\ipykernel_launcher.py:5: DataConversionWarning: A column-vector y was passed when a 1d array was expected. Please change the shape of y to (n_samples, ), for example using ravel().\n",
      "  \"\"\"\n"
     ]
    },
    {
     "name": "stdout",
     "output_type": "stream",
     "text": [
      "22 :score: 2.2176244004229333\n"
     ]
    },
    {
     "name": "stderr",
     "output_type": "stream",
     "text": [
      "C:\\Users\\odoru\\AppData\\Local\\Programs\\Python\\Python37\\lib\\site-packages\\ipykernel_launcher.py:5: DataConversionWarning: A column-vector y was passed when a 1d array was expected. Please change the shape of y to (n_samples, ), for example using ravel().\n",
      "  \"\"\"\n"
     ]
    },
    {
     "name": "stdout",
     "output_type": "stream",
     "text": [
      "23 :score: 2.1972329750074464\n"
     ]
    },
    {
     "name": "stderr",
     "output_type": "stream",
     "text": [
      "C:\\Users\\odoru\\AppData\\Local\\Programs\\Python\\Python37\\lib\\site-packages\\ipykernel_launcher.py:5: DataConversionWarning: A column-vector y was passed when a 1d array was expected. Please change the shape of y to (n_samples, ), for example using ravel().\n",
      "  \"\"\"\n"
     ]
    },
    {
     "name": "stdout",
     "output_type": "stream",
     "text": [
      "24 :score: 2.222722256776805\n"
     ]
    },
    {
     "name": "stderr",
     "output_type": "stream",
     "text": [
      "C:\\Users\\odoru\\AppData\\Local\\Programs\\Python\\Python37\\lib\\site-packages\\ipykernel_launcher.py:5: DataConversionWarning: A column-vector y was passed when a 1d array was expected. Please change the shape of y to (n_samples, ), for example using ravel().\n",
      "  \"\"\"\n"
     ]
    },
    {
     "name": "stdout",
     "output_type": "stream",
     "text": [
      "25 :score: 2.2176247544882157\n"
     ]
    },
    {
     "name": "stderr",
     "output_type": "stream",
     "text": [
      "C:\\Users\\odoru\\AppData\\Local\\Programs\\Python\\Python37\\lib\\site-packages\\ipykernel_launcher.py:5: DataConversionWarning: A column-vector y was passed when a 1d array was expected. Please change the shape of y to (n_samples, ), for example using ravel().\n",
      "  \"\"\"\n"
     ]
    },
    {
     "name": "stdout",
     "output_type": "stream",
     "text": [
      "26 :score: 2.2278202311524375\n"
     ]
    },
    {
     "name": "stderr",
     "output_type": "stream",
     "text": [
      "C:\\Users\\odoru\\AppData\\Local\\Programs\\Python\\Python37\\lib\\site-packages\\ipykernel_launcher.py:5: DataConversionWarning: A column-vector y was passed when a 1d array was expected. Please change the shape of y to (n_samples, ), for example using ravel().\n",
      "  \"\"\"\n"
     ]
    },
    {
     "name": "stdout",
     "output_type": "stream",
     "text": [
      "27 :score: 2.1972325029204027\n"
     ]
    },
    {
     "name": "stderr",
     "output_type": "stream",
     "text": [
      "C:\\Users\\odoru\\AppData\\Local\\Programs\\Python\\Python37\\lib\\site-packages\\ipykernel_launcher.py:5: DataConversionWarning: A column-vector y was passed when a 1d array was expected. Please change the shape of y to (n_samples, ), for example using ravel().\n",
      "  \"\"\"\n"
     ]
    },
    {
     "name": "stdout",
     "output_type": "stream",
     "text": [
      "28 :score: 2.2125260719820177\n"
     ]
    },
    {
     "name": "stderr",
     "output_type": "stream",
     "text": [
      "C:\\Users\\odoru\\AppData\\Local\\Programs\\Python\\Python37\\lib\\site-packages\\ipykernel_launcher.py:5: DataConversionWarning: A column-vector y was passed when a 1d array was expected. Please change the shape of y to (n_samples, ), for example using ravel().\n",
      "  \"\"\"\n"
     ]
    },
    {
     "name": "stdout",
     "output_type": "stream",
     "text": [
      "29 :score: 2.217624872509977\n"
     ]
    },
    {
     "name": "stderr",
     "output_type": "stream",
     "text": [
      "C:\\Users\\odoru\\AppData\\Local\\Programs\\Python\\Python37\\lib\\site-packages\\ipykernel_launcher.py:5: DataConversionWarning: A column-vector y was passed when a 1d array was expected. Please change the shape of y to (n_samples, ), for example using ravel().\n",
      "  \"\"\"\n"
     ]
    },
    {
     "name": "stdout",
     "output_type": "stream",
     "text": [
      "30 :score: 2.2125265440690614\n"
     ]
    }
   ],
   "source": [
    "list_nn = []\n",
    "list_score = []\n",
    "for k in range(1, 31):\n",
    "    knc = KNeighborsClassifier(n_neighbors=k)\n",
    "    knc.fit(X_train, Y_train)\n",
    "    \n",
    "    y_pred = knc.predict(X_test)\n",
    "    \n",
    "    score = log_loss(Y_test, y_pred)\n",
    "    print(f'{k} :score: {score}')\n",
    "    \n",
    "    list_nn.append(k)\n",
    "    list_score.append(score)"
   ]
  },
  {
   "cell_type": "code",
   "execution_count": 13,
   "metadata": {},
   "outputs": [
    {
     "data": {
      "text/plain": [
       "Text(0, 0.5, 'score')"
      ]
     },
     "execution_count": 13,
     "metadata": {},
     "output_type": "execute_result"
    },
    {
     "data": {
      "image/png": "[encoded data removed]",
      "text/plain": [
       "<Figure size 432x288 with 1 Axes>"
      ]
     },
     "metadata": {
      "needs_background": "light"
     },
     "output_type": "display_data"
    }
   ],
   "source": [
    "plt.plot(list_nn, list_score)\n",
    "plt.xlabel('n_neighbors')\n",
    "plt.ylabel('score')"
   ]
  },
  {
   "cell_type": "code",
   "execution_count": null,
   "metadata": {},
   "outputs": [],
   "source": []
  },
  {
   "cell_type": "code",
   "execution_count": 25,
   "metadata": {},
   "outputs": [
    {
     "name": "stderr",
     "output_type": "stream",
     "text": [
      "C:\\Users\\odoru\\AppData\\Local\\Programs\\Python\\Python37\\lib\\site-packages\\ipykernel_launcher.py:14: DataConversionWarning: A column-vector y was passed when a 1d array was expected. Please change the shape of y to (n_samples, ), for example using ravel().\n",
      "  \n"
     ]
    }
   ],
   "source": [
    "train = pd.read_csv('train_x_2.csv')\n",
    "train_y = pd.read_csv('C:\\\\Users\\\\odoru\\\\SIGNATE_time_deposit_account\\\\dataset\\\\train_y_xgboost.csv')\n",
    "\n",
    "scaler = StandardScaler()\n",
    "scaler.fit_transform(train)\n",
    "\n",
    "kf = KFold(n_splits=4, shuffle=True, random_state=71)\n",
    "tr_idx, va_idx = list(kf.split(train))[0]\n",
    "tr_x,va_x = train.iloc[tr_idx], train.iloc[va_idx]\n",
    "tr_y,va_y = train_y.iloc[tr_idx], train_y.iloc[va_idx] \n",
    "\n",
    "\n",
    "knc = KNeighborsClassifier(n_neighbors=32)\n",
    "knc.fit(tr_x, tr_y)\n",
    "val_pred = knc.predict(va_x)\n",
    "    "
   ]
  },
  {
   "cell_type": "code",
   "execution_count": 26,
   "metadata": {},
   "outputs": [
    {
     "data": {
      "image/png": "[encoded data removed]",
      "text/plain": [
       "<Figure size 432x288 with 1 Axes>"
      ]
     },
     "metadata": {
      "needs_background": "light"
     },
     "output_type": "display_data"
    }
   ],
   "source": [
    "fig = plt.figure()\n",
    "\n",
    "fpr,tpr,thresholds = roc_curve(va_y,val_pred)\n",
    "auc_score = roc_auc_score(va_y,val_pred)\n",
    "\n",
    "plt.plot(fpr,tpr)\n",
    "plt.xlabel('False Positive Rate')\n",
    "plt.ylabel('True Positive Rate')\n",
    "plt.title(f'ROC curve/AUC Score : {auc_score}')\n",
    "\n",
    "plt.grid(True)"
   ]
  },
  {
   "cell_type": "code",
   "execution_count": null,
   "metadata": {},
   "outputs": [],
   "source": []
  },
  {
   "cell_type": "code",
   "execution_count": null,
   "metadata": {},
   "outputs": [],
   "source": []
  },
  {
   "cell_type": "code",
   "execution_count": 28,
   "metadata": {
    "scrolled": true
   },
   "outputs": [
    {
     "name": "stdout",
     "output_type": "stream",
     "text": [
      "Epoch 1/100\n",
      "159/159 [==============================] - 1s 5ms/step - loss: 0.2717 - accuracy: 0.9250 - val_loss: 0.2011 - val_accuracy: 0.9314\n",
      "Epoch 2/100\n",
      "159/159 [==============================] - 1s 4ms/step - loss: 0.2111 - accuracy: 0.9292 - val_loss: 0.1985 - val_accuracy: 0.9327\n",
      "Epoch 3/100\n",
      "159/159 [==============================] - 1s 4ms/step - loss: 0.2099 - accuracy: 0.9294 - val_loss: 0.1986 - val_accuracy: 0.9305\n",
      "Epoch 4/100\n",
      "159/159 [==============================] - 1s 4ms/step - loss: 0.2093 - accuracy: 0.9303 - val_loss: 0.1969 - val_accuracy: 0.9340\n",
      "Epoch 5/100\n",
      "159/159 [==============================] - 1s 4ms/step - loss: 0.2088 - accuracy: 0.9300 - val_loss: 0.1965 - val_accuracy: 0.9333\n",
      "Epoch 6/100\n",
      "159/159 [==============================] - 1s 4ms/step - loss: 0.2082 - accuracy: 0.9298 - val_loss: 0.1973 - val_accuracy: 0.9333\n",
      "Epoch 7/100\n",
      "159/159 [==============================] - 1s 4ms/step - loss: 0.2080 - accuracy: 0.9303 - val_loss: 0.1965 - val_accuracy: 0.9328\n",
      "Epoch 8/100\n",
      "159/159 [==============================] - 1s 4ms/step - loss: 0.2077 - accuracy: 0.9308 - val_loss: 0.1979 - val_accuracy: 0.9305\n",
      "Epoch 9/100\n",
      "159/159 [==============================] - 1s 4ms/step - loss: 0.2072 - accuracy: 0.9300 - val_loss: 0.1973 - val_accuracy: 0.9328\n",
      "Epoch 10/100\n",
      "159/159 [==============================] - 1s 5ms/step - loss: 0.2079 - accuracy: 0.9303 - val_loss: 0.1975 - val_accuracy: 0.9309\n",
      "Epoch 11/100\n",
      "159/159 [==============================] - 1s 5ms/step - loss: 0.2072 - accuracy: 0.9303 - val_loss: 0.1981 - val_accuracy: 0.9333\n",
      "Epoch 12/100\n",
      "159/159 [==============================] - 1s 5ms/step - loss: 0.2073 - accuracy: 0.9303 - val_loss: 0.1963 - val_accuracy: 0.9311\n",
      "Epoch 13/100\n",
      "159/159 [==============================] - 1s 4ms/step - loss: 0.2070 - accuracy: 0.9306 - val_loss: 0.1959 - val_accuracy: 0.9321\n",
      "Epoch 14/100\n",
      "159/159 [==============================] - 1s 4ms/step - loss: 0.2062 - accuracy: 0.9303 - val_loss: 0.2016 - val_accuracy: 0.9314\n",
      "Epoch 15/100\n",
      "159/159 [==============================] - 1s 4ms/step - loss: 0.2069 - accuracy: 0.9309 - val_loss: 0.1964 - val_accuracy: 0.9330\n",
      "Epoch 16/100\n",
      "159/159 [==============================] - 1s 5ms/step - loss: 0.2065 - accuracy: 0.9305 - val_loss: 0.1962 - val_accuracy: 0.9331\n",
      "Epoch 17/100\n",
      "159/159 [==============================] - 1s 6ms/step - loss: 0.2066 - accuracy: 0.9304 - val_loss: 0.1973 - val_accuracy: 0.9330\n",
      "Epoch 18/100\n",
      "159/159 [==============================] - 1s 4ms/step - loss: 0.2065 - accuracy: 0.9310 - val_loss: 0.1971 - val_accuracy: 0.9321\n",
      "Epoch 19/100\n",
      "159/159 [==============================] - 1s 4ms/step - loss: 0.2065 - accuracy: 0.9308 - val_loss: 0.1969 - val_accuracy: 0.9321\n",
      "Epoch 20/100\n",
      "159/159 [==============================] - 1s 4ms/step - loss: 0.2061 - accuracy: 0.9314 - val_loss: 0.1984 - val_accuracy: 0.9299\n",
      "Epoch 21/100\n",
      "159/159 [==============================] - 1s 4ms/step - loss: 0.2061 - accuracy: 0.9310 - val_loss: 0.1969 - val_accuracy: 0.9323\n",
      "Epoch 22/100\n",
      "159/159 [==============================] - 1s 4ms/step - loss: 0.2066 - accuracy: 0.9309 - val_loss: 0.1985 - val_accuracy: 0.9336\n",
      "Epoch 23/100\n",
      "159/159 [==============================] - 1s 4ms/step - loss: 0.2063 - accuracy: 0.9306 - val_loss: 0.1966 - val_accuracy: 0.9328\n",
      "Epoch 24/100\n",
      "159/159 [==============================] - 1s 4ms/step - loss: 0.2064 - accuracy: 0.9308 - val_loss: 0.1966 - val_accuracy: 0.9331\n",
      "Epoch 25/100\n",
      "159/159 [==============================] - 1s 4ms/step - loss: 0.2064 - accuracy: 0.9296 - val_loss: 0.1967 - val_accuracy: 0.9324\n",
      "Epoch 26/100\n",
      "159/159 [==============================] - 1s 4ms/step - loss: 0.2059 - accuracy: 0.9311 - val_loss: 0.1967 - val_accuracy: 0.9321\n",
      "Epoch 27/100\n",
      "159/159 [==============================] - 1s 4ms/step - loss: 0.2058 - accuracy: 0.9302 - val_loss: 0.1987 - val_accuracy: 0.9323\n",
      "Epoch 28/100\n",
      "159/159 [==============================] - 1s 4ms/step - loss: 0.2056 - accuracy: 0.9307 - val_loss: 0.1961 - val_accuracy: 0.9318\n",
      "Epoch 29/100\n",
      "159/159 [==============================] - 1s 4ms/step - loss: 0.2056 - accuracy: 0.9308 - val_loss: 0.1969 - val_accuracy: 0.9336\n",
      "Epoch 30/100\n",
      "159/159 [==============================] - 1s 4ms/step - loss: 0.2057 - accuracy: 0.9305 - val_loss: 0.1960 - val_accuracy: 0.9324\n",
      "Epoch 31/100\n",
      "159/159 [==============================] - 1s 4ms/step - loss: 0.2054 - accuracy: 0.9307 - val_loss: 0.1955 - val_accuracy: 0.9352\n",
      "Epoch 32/100\n",
      "159/159 [==============================] - 1s 4ms/step - loss: 0.2058 - accuracy: 0.9305 - val_loss: 0.1961 - val_accuracy: 0.9323\n",
      "Epoch 33/100\n",
      "159/159 [==============================] - 1s 4ms/step - loss: 0.2055 - accuracy: 0.9305 - val_loss: 0.1980 - val_accuracy: 0.9321\n",
      "Epoch 34/100\n",
      "159/159 [==============================] - 1s 4ms/step - loss: 0.2055 - accuracy: 0.9311 - val_loss: 0.1977 - val_accuracy: 0.9303\n",
      "Epoch 35/100\n",
      "159/159 [==============================] - 1s 4ms/step - loss: 0.2053 - accuracy: 0.9306 - val_loss: 0.1962 - val_accuracy: 0.9323\n",
      "Epoch 36/100\n",
      "159/159 [==============================] - 1s 4ms/step - loss: 0.2053 - accuracy: 0.9308 - val_loss: 0.1959 - val_accuracy: 0.9324\n",
      "Epoch 37/100\n",
      "159/159 [==============================] - 1s 4ms/step - loss: 0.2054 - accuracy: 0.9308 - val_loss: 0.1960 - val_accuracy: 0.9325\n",
      "Epoch 38/100\n",
      "159/159 [==============================] - 1s 4ms/step - loss: 0.2053 - accuracy: 0.9307 - val_loss: 0.1967 - val_accuracy: 0.9334\n",
      "Epoch 39/100\n",
      "159/159 [==============================] - 1s 4ms/step - loss: 0.2051 - accuracy: 0.9310 - val_loss: 0.1986 - val_accuracy: 0.9320\n",
      "Epoch 40/100\n",
      "159/159 [==============================] - 1s 4ms/step - loss: 0.2056 - accuracy: 0.9309 - val_loss: 0.1963 - val_accuracy: 0.9336\n",
      "Epoch 41/100\n",
      "159/159 [==============================] - 1s 4ms/step - loss: 0.2048 - accuracy: 0.9310 - val_loss: 0.1962 - val_accuracy: 0.9330\n",
      "Epoch 42/100\n",
      "159/159 [==============================] - 1s 4ms/step - loss: 0.2061 - accuracy: 0.9299 - val_loss: 0.1963 - val_accuracy: 0.9327\n",
      "Epoch 43/100\n",
      "159/159 [==============================] - 1s 4ms/step - loss: 0.2055 - accuracy: 0.9308 - val_loss: 0.1959 - val_accuracy: 0.9333\n",
      "Epoch 44/100\n",
      "159/159 [==============================] - 1s 4ms/step - loss: 0.2050 - accuracy: 0.9311 - val_loss: 0.1963 - val_accuracy: 0.9317\n",
      "Epoch 45/100\n",
      "159/159 [==============================] - 1s 4ms/step - loss: 0.2049 - accuracy: 0.9308 - val_loss: 0.1958 - val_accuracy: 0.9325\n",
      "Epoch 46/100\n",
      "159/159 [==============================] - 1s 4ms/step - loss: 0.2053 - accuracy: 0.9311 - val_loss: 0.1961 - val_accuracy: 0.9331\n",
      "Epoch 47/100\n",
      "159/159 [==============================] - 1s 4ms/step - loss: 0.2049 - accuracy: 0.9305 - val_loss: 0.1960 - val_accuracy: 0.9330\n",
      "Epoch 48/100\n",
      "159/159 [==============================] - 1s 4ms/step - loss: 0.2053 - accuracy: 0.9311 - val_loss: 0.1959 - val_accuracy: 0.9340\n",
      "Epoch 49/100\n",
      "159/159 [==============================] - 1s 4ms/step - loss: 0.2051 - accuracy: 0.9313 - val_loss: 0.1960 - val_accuracy: 0.9321\n",
      "Epoch 50/100\n",
      "159/159 [==============================] - 1s 4ms/step - loss: 0.2057 - accuracy: 0.9307 - val_loss: 0.1970 - val_accuracy: 0.9323\n",
      "Epoch 51/100\n",
      "159/159 [==============================] - 1s 4ms/step - loss: 0.2052 - accuracy: 0.9307 - val_loss: 0.1968 - val_accuracy: 0.9318\n",
      "0.19552809566420906\n"
     ]
    }
   ],
   "source": [
    "model = Sequential()\n",
    "model.add(Dense(256,activation='relu',input_shape=(tr_x.shape[1],)))\n",
    "model.add(Dropout(0.2))\n",
    "model.add(Dense(256,activation='relu'))\n",
    "model.add(Dropout(0.2))\n",
    "model.add(Dense(1,activation = 'sigmoid'))\n",
    "\n",
    "model.compile(loss = 'binary_crossentropy',\n",
    "             optimizer ='adam', metrics=['accuracy'])\n",
    "\n",
    "batch_size = 128\n",
    "epochs = 100\n",
    "early_stopping = EarlyStopping(monitor = 'val_loss', patience = 20, restore_best_weights=True)\n",
    "\n",
    "\n",
    "history  = model.fit(tr_x,tr_y,\n",
    "                    batch_size=batch_size, epochs=epochs,\n",
    "                    verbose=1,validation_data=(va_x,va_y),\n",
    "                    callbacks = [early_stopping])\n",
    "\n",
    "va_pred = model.predict(va_x)\n",
    "score = log_loss(va_y,va_pred, eps=1e-7)\n",
    "print(score)"
   ]
  },
  {
   "cell_type": "code",
   "execution_count": 30,
   "metadata": {},
   "outputs": [
    {
     "data": {
      "image/png": "[encoded data removed]",
      "text/plain": [
       "<Figure size 432x288 with 1 Axes>"
      ]
     },
     "metadata": {
      "needs_background": "light"
     },
     "output_type": "display_data"
    }
   ],
   "source": [
    "fig = plt.figure()\n",
    "\n",
    "fpr,tpr,thresholds = roc_curve(va_y,val_pred)\n",
    "auc_score = roc_auc_score(va_y,va_pred)\n",
    "\n",
    "plt.plot(fpr,tpr)\n",
    "plt.xlabel('False Positive Rate')\n",
    "plt.ylabel('True Positive Rate')\n",
    "plt.title(f'ROC curve/AUC Score : {auc_score}')\n",
    "\n",
    "plt.grid(True)"
   ]
  },
  {
   "cell_type": "code",
   "execution_count": 36,
   "metadata": {
    "scrolled": true
   },
   "outputs": [
    {
     "name": "stdout",
     "output_type": "stream",
     "text": [
      "Epoch 1/300\n",
      "159/159 [==============================] - 1s 5ms/step - loss: 0.4135 - accuracy: 0.9009 - val_loss: 0.2432 - val_accuracy: 0.9321\n",
      "Epoch 2/300\n",
      "159/159 [==============================] - 1s 4ms/step - loss: 0.2292 - accuracy: 0.9255 - val_loss: 0.2022 - val_accuracy: 0.9333\n",
      "Epoch 3/300\n",
      "159/159 [==============================] - 1s 4ms/step - loss: 0.2139 - accuracy: 0.9278 - val_loss: 0.1994 - val_accuracy: 0.9317\n",
      "Epoch 4/300\n",
      "159/159 [==============================] - 1s 6ms/step - loss: 0.2123 - accuracy: 0.9288 - val_loss: 0.1988 - val_accuracy: 0.9320\n",
      "Epoch 5/300\n",
      "159/159 [==============================] - 1s 5ms/step - loss: 0.2124 - accuracy: 0.9286 - val_loss: 0.1993 - val_accuracy: 0.9318\n",
      "Epoch 6/300\n",
      "159/159 [==============================] - 1s 4ms/step - loss: 0.2123 - accuracy: 0.9289 - val_loss: 0.1988 - val_accuracy: 0.9315\n",
      "Epoch 7/300\n",
      "159/159 [==============================] - 1s 6ms/step - loss: 0.2118 - accuracy: 0.9279 - val_loss: 0.1987 - val_accuracy: 0.9314\n",
      "Epoch 8/300\n",
      "159/159 [==============================] - 1s 6ms/step - loss: 0.2112 - accuracy: 0.9296 - val_loss: 0.1987 - val_accuracy: 0.9315\n",
      "Epoch 9/300\n",
      "159/159 [==============================] - 1s 5ms/step - loss: 0.2114 - accuracy: 0.9287 - val_loss: 0.1982 - val_accuracy: 0.9314\n",
      "Epoch 10/300\n",
      "159/159 [==============================] - 1s 5ms/step - loss: 0.2108 - accuracy: 0.9300 - val_loss: 0.1988 - val_accuracy: 0.9317\n",
      "Epoch 11/300\n",
      "159/159 [==============================] - 1s 5ms/step - loss: 0.2104 - accuracy: 0.9279 - val_loss: 0.1982 - val_accuracy: 0.9314\n",
      "Epoch 12/300\n",
      "159/159 [==============================] - 1s 5ms/step - loss: 0.2112 - accuracy: 0.9294 - val_loss: 0.1981 - val_accuracy: 0.9317\n",
      "Epoch 13/300\n",
      "159/159 [==============================] - 1s 5ms/step - loss: 0.2103 - accuracy: 0.9291 - val_loss: 0.1981 - val_accuracy: 0.9317\n",
      "Epoch 14/300\n",
      "159/159 [==============================] - 1s 5ms/step - loss: 0.2104 - accuracy: 0.9297 - val_loss: 0.1980 - val_accuracy: 0.9315\n",
      "Epoch 15/300\n",
      "159/159 [==============================] - 1s 5ms/step - loss: 0.2097 - accuracy: 0.9295 - val_loss: 0.1980 - val_accuracy: 0.9315\n",
      "Epoch 16/300\n",
      "159/159 [==============================] - 1s 5ms/step - loss: 0.2091 - accuracy: 0.9303 - val_loss: 0.1982 - val_accuracy: 0.9315\n",
      "Epoch 17/300\n",
      "159/159 [==============================] - 1s 4ms/step - loss: 0.2098 - accuracy: 0.9311 - val_loss: 0.1981 - val_accuracy: 0.9317\n",
      "Epoch 18/300\n",
      "159/159 [==============================] - 1s 5ms/step - loss: 0.2096 - accuracy: 0.9297 - val_loss: 0.1979 - val_accuracy: 0.9320\n",
      "Epoch 19/300\n",
      "159/159 [==============================] - 1s 4ms/step - loss: 0.2093 - accuracy: 0.9293 - val_loss: 0.1979 - val_accuracy: 0.9320\n",
      "Epoch 20/300\n",
      "159/159 [==============================] - 1s 5ms/step - loss: 0.2095 - accuracy: 0.9298 - val_loss: 0.1978 - val_accuracy: 0.9321\n",
      "Epoch 21/300\n",
      "159/159 [==============================] - 1s 4ms/step - loss: 0.2099 - accuracy: 0.9300 - val_loss: 0.1977 - val_accuracy: 0.9320\n",
      "Epoch 22/300\n",
      "159/159 [==============================] - 1s 5ms/step - loss: 0.2093 - accuracy: 0.9293 - val_loss: 0.1976 - val_accuracy: 0.9323\n",
      "Epoch 23/300\n",
      "159/159 [==============================] - 1s 5ms/step - loss: 0.2096 - accuracy: 0.9296 - val_loss: 0.1975 - val_accuracy: 0.9334\n",
      "Epoch 24/300\n",
      "159/159 [==============================] - 1s 4ms/step - loss: 0.2098 - accuracy: 0.9293 - val_loss: 0.1975 - val_accuracy: 0.9331\n",
      "Epoch 25/300\n",
      "159/159 [==============================] - 1s 4ms/step - loss: 0.2093 - accuracy: 0.9298 - val_loss: 0.1973 - val_accuracy: 0.9330\n",
      "Epoch 26/300\n",
      "159/159 [==============================] - 1s 4ms/step - loss: 0.2089 - accuracy: 0.9297 - val_loss: 0.1975 - val_accuracy: 0.9333\n",
      "Epoch 27/300\n",
      "159/159 [==============================] - 1s 4ms/step - loss: 0.2087 - accuracy: 0.9295 - val_loss: 0.1976 - val_accuracy: 0.9325\n",
      "Epoch 28/300\n",
      "159/159 [==============================] - 1s 4ms/step - loss: 0.2100 - accuracy: 0.9284 - val_loss: 0.1974 - val_accuracy: 0.9331\n",
      "Epoch 29/300\n",
      "159/159 [==============================] - 1s 5ms/step - loss: 0.2090 - accuracy: 0.9300 - val_loss: 0.1973 - val_accuracy: 0.9328\n",
      "Epoch 30/300\n",
      "159/159 [==============================] - 1s 4ms/step - loss: 0.2097 - accuracy: 0.9289 - val_loss: 0.1974 - val_accuracy: 0.9327\n",
      "Epoch 31/300\n",
      "159/159 [==============================] - 1s 5ms/step - loss: 0.2091 - accuracy: 0.9296 - val_loss: 0.1973 - val_accuracy: 0.9328\n",
      "Epoch 32/300\n",
      "159/159 [==============================] - 1s 5ms/step - loss: 0.2084 - accuracy: 0.9300 - val_loss: 0.1973 - val_accuracy: 0.9327\n",
      "Epoch 33/300\n",
      "159/159 [==============================] - 1s 4ms/step - loss: 0.2088 - accuracy: 0.9294 - val_loss: 0.1972 - val_accuracy: 0.9327\n",
      "Epoch 34/300\n",
      "159/159 [==============================] - 1s 5ms/step - loss: 0.2079 - accuracy: 0.9308 - val_loss: 0.1972 - val_accuracy: 0.9331\n",
      "Epoch 35/300\n",
      "159/159 [==============================] - 1s 5ms/step - loss: 0.2081 - accuracy: 0.9293 - val_loss: 0.1972 - val_accuracy: 0.9330\n",
      "Epoch 36/300\n",
      "159/159 [==============================] - 1s 4ms/step - loss: 0.2090 - accuracy: 0.9303 - val_loss: 0.1973 - val_accuracy: 0.9330\n",
      "Epoch 37/300\n",
      "159/159 [==============================] - 1s 5ms/step - loss: 0.2084 - accuracy: 0.9300 - val_loss: 0.1973 - val_accuracy: 0.9328\n",
      "Epoch 38/300\n",
      "159/159 [==============================] - 1s 5ms/step - loss: 0.2091 - accuracy: 0.9296 - val_loss: 0.1973 - val_accuracy: 0.9331\n",
      "Epoch 39/300\n",
      "159/159 [==============================] - 1s 5ms/step - loss: 0.2092 - accuracy: 0.9293 - val_loss: 0.1973 - val_accuracy: 0.9330\n",
      "Epoch 40/300\n",
      "159/159 [==============================] - 1s 4ms/step - loss: 0.2080 - accuracy: 0.9299 - val_loss: 0.1972 - val_accuracy: 0.9334\n",
      "Epoch 41/300\n",
      "159/159 [==============================] - 1s 5ms/step - loss: 0.2087 - accuracy: 0.9297 - val_loss: 0.1972 - val_accuracy: 0.9330\n",
      "Epoch 42/300\n",
      "159/159 [==============================] - 1s 5ms/step - loss: 0.2080 - accuracy: 0.9307 - val_loss: 0.1972 - val_accuracy: 0.9328\n",
      "Epoch 43/300\n",
      "159/159 [==============================] - 1s 5ms/step - loss: 0.2086 - accuracy: 0.9303 - val_loss: 0.1971 - val_accuracy: 0.9334\n",
      "Epoch 44/300\n",
      "159/159 [==============================] - 1s 5ms/step - loss: 0.2086 - accuracy: 0.9294 - val_loss: 0.1972 - val_accuracy: 0.9333\n",
      "Epoch 45/300\n",
      "159/159 [==============================] - 1s 5ms/step - loss: 0.2083 - accuracy: 0.9296 - val_loss: 0.1971 - val_accuracy: 0.9333\n",
      "Epoch 46/300\n",
      "159/159 [==============================] - 1s 4ms/step - loss: 0.2085 - accuracy: 0.9299 - val_loss: 0.1972 - val_accuracy: 0.9333\n",
      "Epoch 47/300\n",
      "159/159 [==============================] - 1s 5ms/step - loss: 0.2086 - accuracy: 0.9301 - val_loss: 0.1972 - val_accuracy: 0.9334\n",
      "Epoch 48/300\n",
      "159/159 [==============================] - 1s 5ms/step - loss: 0.2086 - accuracy: 0.9299 - val_loss: 0.1971 - val_accuracy: 0.9333\n",
      "Epoch 49/300\n",
      "159/159 [==============================] - 1s 5ms/step - loss: 0.2075 - accuracy: 0.9305 - val_loss: 0.1970 - val_accuracy: 0.9334\n",
      "Epoch 50/300\n",
      "159/159 [==============================] - 1s 5ms/step - loss: 0.2078 - accuracy: 0.9301 - val_loss: 0.1971 - val_accuracy: 0.9334\n",
      "Epoch 51/300\n",
      "159/159 [==============================] - 1s 5ms/step - loss: 0.2089 - accuracy: 0.9291 - val_loss: 0.1970 - val_accuracy: 0.9334\n",
      "Epoch 52/300\n",
      "159/159 [==============================] - 1s 4ms/step - loss: 0.2083 - accuracy: 0.9304 - val_loss: 0.1970 - val_accuracy: 0.9334\n",
      "Epoch 53/300\n",
      "159/159 [==============================] - 1s 4ms/step - loss: 0.2084 - accuracy: 0.9293 - val_loss: 0.1970 - val_accuracy: 0.9334\n",
      "Epoch 54/300\n",
      "159/159 [==============================] - 1s 5ms/step - loss: 0.2080 - accuracy: 0.9300 - val_loss: 0.1970 - val_accuracy: 0.9336\n",
      "Epoch 55/300\n",
      "159/159 [==============================] - 1s 5ms/step - loss: 0.2079 - accuracy: 0.9306 - val_loss: 0.1970 - val_accuracy: 0.9337\n",
      "Epoch 56/300\n",
      "159/159 [==============================] - 1s 5ms/step - loss: 0.2079 - accuracy: 0.9295 - val_loss: 0.1969 - val_accuracy: 0.9337\n",
      "Epoch 57/300\n",
      "159/159 [==============================] - 1s 4ms/step - loss: 0.2083 - accuracy: 0.9300 - val_loss: 0.1970 - val_accuracy: 0.9336\n"
     ]
    },
    {
     "name": "stdout",
     "output_type": "stream",
     "text": [
      "Epoch 58/300\n",
      "159/159 [==============================] - 1s 4ms/step - loss: 0.2076 - accuracy: 0.9301 - val_loss: 0.1969 - val_accuracy: 0.9336\n",
      "Epoch 59/300\n",
      "159/159 [==============================] - 1s 5ms/step - loss: 0.2072 - accuracy: 0.9306 - val_loss: 0.1969 - val_accuracy: 0.9336\n",
      "Epoch 60/300\n",
      "159/159 [==============================] - 1s 4ms/step - loss: 0.2078 - accuracy: 0.9299 - val_loss: 0.1969 - val_accuracy: 0.9336\n",
      "Epoch 61/300\n",
      "159/159 [==============================] - 1s 4ms/step - loss: 0.2078 - accuracy: 0.9306 - val_loss: 0.1970 - val_accuracy: 0.9334\n",
      "Epoch 62/300\n",
      "159/159 [==============================] - 1s 4ms/step - loss: 0.2075 - accuracy: 0.9300 - val_loss: 0.1969 - val_accuracy: 0.9336\n",
      "Epoch 63/300\n",
      "159/159 [==============================] - 1s 4ms/step - loss: 0.2083 - accuracy: 0.9301 - val_loss: 0.1970 - val_accuracy: 0.9337\n",
      "Epoch 64/300\n",
      "159/159 [==============================] - 1s 4ms/step - loss: 0.2076 - accuracy: 0.9307 - val_loss: 0.1969 - val_accuracy: 0.9337\n",
      "Epoch 65/300\n",
      "159/159 [==============================] - 1s 4ms/step - loss: 0.2078 - accuracy: 0.9299 - val_loss: 0.1969 - val_accuracy: 0.9337\n",
      "Epoch 66/300\n",
      "159/159 [==============================] - 1s 4ms/step - loss: 0.2078 - accuracy: 0.9302 - val_loss: 0.1969 - val_accuracy: 0.9340\n",
      "Epoch 67/300\n",
      "159/159 [==============================] - 1s 5ms/step - loss: 0.2081 - accuracy: 0.9292 - val_loss: 0.1969 - val_accuracy: 0.9339\n",
      "Epoch 68/300\n",
      "159/159 [==============================] - 1s 4ms/step - loss: 0.2074 - accuracy: 0.9305 - val_loss: 0.1969 - val_accuracy: 0.9339\n",
      "Epoch 69/300\n",
      "159/159 [==============================] - 1s 5ms/step - loss: 0.2082 - accuracy: 0.9301 - val_loss: 0.1969 - val_accuracy: 0.9334\n",
      "Epoch 70/300\n",
      "159/159 [==============================] - 1s 4ms/step - loss: 0.2082 - accuracy: 0.9300 - val_loss: 0.1969 - val_accuracy: 0.9337\n",
      "Epoch 71/300\n",
      "159/159 [==============================] - 1s 4ms/step - loss: 0.2079 - accuracy: 0.9306 - val_loss: 0.1969 - val_accuracy: 0.9337\n",
      "Epoch 72/300\n",
      "159/159 [==============================] - 1s 4ms/step - loss: 0.2081 - accuracy: 0.9307 - val_loss: 0.1968 - val_accuracy: 0.9337\n",
      "Epoch 73/300\n",
      "159/159 [==============================] - 1s 5ms/step - loss: 0.2076 - accuracy: 0.9302 - val_loss: 0.1968 - val_accuracy: 0.9336\n",
      "Epoch 74/300\n",
      "159/159 [==============================] - 1s 5ms/step - loss: 0.2079 - accuracy: 0.9306 - val_loss: 0.1968 - val_accuracy: 0.9336\n",
      "Epoch 75/300\n",
      "159/159 [==============================] - 1s 4ms/step - loss: 0.2082 - accuracy: 0.9302 - val_loss: 0.1968 - val_accuracy: 0.9340\n",
      "Epoch 76/300\n",
      "159/159 [==============================] - 1s 5ms/step - loss: 0.2075 - accuracy: 0.9312 - val_loss: 0.1968 - val_accuracy: 0.9339\n",
      "Epoch 77/300\n",
      "159/159 [==============================] - 1s 4ms/step - loss: 0.2070 - accuracy: 0.9302 - val_loss: 0.1968 - val_accuracy: 0.9337\n",
      "Epoch 78/300\n",
      "159/159 [==============================] - 1s 4ms/step - loss: 0.2080 - accuracy: 0.9308 - val_loss: 0.1968 - val_accuracy: 0.9334\n",
      "Epoch 79/300\n",
      "159/159 [==============================] - 1s 4ms/step - loss: 0.2086 - accuracy: 0.9299 - val_loss: 0.1968 - val_accuracy: 0.9337\n",
      "Epoch 80/300\n",
      "159/159 [==============================] - 1s 4ms/step - loss: 0.2081 - accuracy: 0.9302 - val_loss: 0.1967 - val_accuracy: 0.9339\n",
      "Epoch 81/300\n",
      "159/159 [==============================] - 1s 5ms/step - loss: 0.2079 - accuracy: 0.9301 - val_loss: 0.1968 - val_accuracy: 0.9336\n",
      "Epoch 82/300\n",
      "159/159 [==============================] - 1s 4ms/step - loss: 0.2077 - accuracy: 0.9305 - val_loss: 0.1968 - val_accuracy: 0.9336\n",
      "Epoch 83/300\n",
      "159/159 [==============================] - 1s 4ms/step - loss: 0.2075 - accuracy: 0.9298 - val_loss: 0.1967 - val_accuracy: 0.9343\n",
      "Epoch 84/300\n",
      "159/159 [==============================] - 1s 4ms/step - loss: 0.2077 - accuracy: 0.9304 - val_loss: 0.1968 - val_accuracy: 0.9334\n",
      "Epoch 85/300\n",
      "159/159 [==============================] - 1s 4ms/step - loss: 0.2080 - accuracy: 0.9304 - val_loss: 0.1968 - val_accuracy: 0.9337\n",
      "Epoch 86/300\n",
      "159/159 [==============================] - 1s 5ms/step - loss: 0.2083 - accuracy: 0.9299 - val_loss: 0.1968 - val_accuracy: 0.9342\n",
      "Epoch 87/300\n",
      "159/159 [==============================] - 1s 4ms/step - loss: 0.2071 - accuracy: 0.9301 - val_loss: 0.1968 - val_accuracy: 0.9340\n",
      "Epoch 88/300\n",
      "159/159 [==============================] - 1s 4ms/step - loss: 0.2081 - accuracy: 0.9301 - val_loss: 0.1967 - val_accuracy: 0.9337\n",
      "Epoch 89/300\n",
      "159/159 [==============================] - 1s 4ms/step - loss: 0.2077 - accuracy: 0.9303 - val_loss: 0.1967 - val_accuracy: 0.9339\n",
      "Epoch 90/300\n",
      "159/159 [==============================] - 1s 5ms/step - loss: 0.2074 - accuracy: 0.9300 - val_loss: 0.1967 - val_accuracy: 0.9340\n",
      "Epoch 91/300\n",
      "159/159 [==============================] - 1s 4ms/step - loss: 0.2070 - accuracy: 0.9305 - val_loss: 0.1967 - val_accuracy: 0.9337\n",
      "Epoch 92/300\n",
      "159/159 [==============================] - 1s 4ms/step - loss: 0.2072 - accuracy: 0.9306 - val_loss: 0.1967 - val_accuracy: 0.9340\n",
      "Epoch 93/300\n",
      "159/159 [==============================] - 1s 5ms/step - loss: 0.2068 - accuracy: 0.9304 - val_loss: 0.1967 - val_accuracy: 0.9340\n",
      "Epoch 94/300\n",
      "159/159 [==============================] - 1s 4ms/step - loss: 0.2071 - accuracy: 0.9298 - val_loss: 0.1967 - val_accuracy: 0.9337\n",
      "Epoch 95/300\n",
      "159/159 [==============================] - 1s 5ms/step - loss: 0.2080 - accuracy: 0.9299 - val_loss: 0.1966 - val_accuracy: 0.9340\n",
      "Epoch 96/300\n",
      "159/159 [==============================] - 1s 5ms/step - loss: 0.2071 - accuracy: 0.9302 - val_loss: 0.1966 - val_accuracy: 0.9339\n",
      "Epoch 97/300\n",
      "159/159 [==============================] - 1s 4ms/step - loss: 0.2075 - accuracy: 0.9311 - val_loss: 0.1966 - val_accuracy: 0.9339\n",
      "Epoch 98/300\n",
      "159/159 [==============================] - 1s 4ms/step - loss: 0.2071 - accuracy: 0.9305 - val_loss: 0.1966 - val_accuracy: 0.9339\n",
      "Epoch 99/300\n",
      "159/159 [==============================] - 1s 5ms/step - loss: 0.2074 - accuracy: 0.9300 - val_loss: 0.1966 - val_accuracy: 0.9337\n",
      "Epoch 100/300\n",
      "159/159 [==============================] - 1s 5ms/step - loss: 0.2074 - accuracy: 0.9311 - val_loss: 0.1966 - val_accuracy: 0.9337\n",
      "Epoch 101/300\n",
      "159/159 [==============================] - 1s 4ms/step - loss: 0.2075 - accuracy: 0.9295 - val_loss: 0.1966 - val_accuracy: 0.9337\n",
      "Epoch 102/300\n",
      "159/159 [==============================] - 1s 4ms/step - loss: 0.2077 - accuracy: 0.9301 - val_loss: 0.1966 - val_accuracy: 0.9340\n",
      "Epoch 103/300\n",
      "159/159 [==============================] - 1s 5ms/step - loss: 0.2078 - accuracy: 0.9304 - val_loss: 0.1966 - val_accuracy: 0.9340\n",
      "Epoch 104/300\n",
      "159/159 [==============================] - 1s 6ms/step - loss: 0.2078 - accuracy: 0.9299 - val_loss: 0.1966 - val_accuracy: 0.9337\n",
      "Epoch 105/300\n",
      "159/159 [==============================] - 1s 5ms/step - loss: 0.2081 - accuracy: 0.9293 - val_loss: 0.1966 - val_accuracy: 0.9342\n",
      "Epoch 106/300\n",
      "159/159 [==============================] - 1s 5ms/step - loss: 0.2073 - accuracy: 0.9308 - val_loss: 0.1965 - val_accuracy: 0.9339\n",
      "Epoch 107/300\n",
      "159/159 [==============================] - 1s 4ms/step - loss: 0.2077 - accuracy: 0.9291 - val_loss: 0.1966 - val_accuracy: 0.9339\n",
      "Epoch 108/300\n",
      "159/159 [==============================] - 1s 5ms/step - loss: 0.2072 - accuracy: 0.9298 - val_loss: 0.1966 - val_accuracy: 0.9337\n",
      "Epoch 109/300\n",
      "159/159 [==============================] - 1s 5ms/step - loss: 0.2077 - accuracy: 0.9307 - val_loss: 0.1965 - val_accuracy: 0.9339\n",
      "Epoch 110/300\n",
      "159/159 [==============================] - 1s 5ms/step - loss: 0.2070 - accuracy: 0.9299 - val_loss: 0.1965 - val_accuracy: 0.9339\n",
      "Epoch 111/300\n",
      "159/159 [==============================] - 1s 5ms/step - loss: 0.2076 - accuracy: 0.9302 - val_loss: 0.1965 - val_accuracy: 0.9336\n",
      "Epoch 112/300\n",
      "159/159 [==============================] - 1s 5ms/step - loss: 0.2071 - accuracy: 0.9297 - val_loss: 0.1965 - val_accuracy: 0.9337\n",
      "Epoch 113/300\n",
      "159/159 [==============================] - 1s 4ms/step - loss: 0.2068 - accuracy: 0.9306 - val_loss: 0.1965 - val_accuracy: 0.9342\n",
      "Epoch 114/300\n",
      "159/159 [==============================] - 1s 5ms/step - loss: 0.2075 - accuracy: 0.9303 - val_loss: 0.1965 - val_accuracy: 0.9340\n"
     ]
    },
    {
     "name": "stdout",
     "output_type": "stream",
     "text": [
      "Epoch 115/300\n",
      "159/159 [==============================] - 1s 6ms/step - loss: 0.2074 - accuracy: 0.9309 - val_loss: 0.1965 - val_accuracy: 0.9339\n",
      "Epoch 116/300\n",
      "159/159 [==============================] - 2s 10ms/step - loss: 0.2078 - accuracy: 0.9304 - val_loss: 0.1964 - val_accuracy: 0.9336\n",
      "Epoch 117/300\n",
      "159/159 [==============================] - 1s 8ms/step - loss: 0.2064 - accuracy: 0.9304 - val_loss: 0.1964 - val_accuracy: 0.9339\n",
      "Epoch 118/300\n",
      "159/159 [==============================] - 1s 6ms/step - loss: 0.2069 - accuracy: 0.9305 - val_loss: 0.1964 - val_accuracy: 0.9337\n",
      "Epoch 119/300\n",
      "159/159 [==============================] - 1s 5ms/step - loss: 0.2077 - accuracy: 0.9304 - val_loss: 0.1964 - val_accuracy: 0.9339\n",
      "Epoch 120/300\n",
      "159/159 [==============================] - 1s 6ms/step - loss: 0.2070 - accuracy: 0.9297 - val_loss: 0.1964 - val_accuracy: 0.9340\n",
      "Epoch 121/300\n",
      "159/159 [==============================] - 1s 5ms/step - loss: 0.2065 - accuracy: 0.9301 - val_loss: 0.1964 - val_accuracy: 0.9340\n",
      "Epoch 122/300\n",
      "159/159 [==============================] - 1s 5ms/step - loss: 0.2073 - accuracy: 0.9300 - val_loss: 0.1965 - val_accuracy: 0.9343\n",
      "Epoch 123/300\n",
      "159/159 [==============================] - 1s 5ms/step - loss: 0.2071 - accuracy: 0.9302 - val_loss: 0.1965 - val_accuracy: 0.9340\n",
      "Epoch 124/300\n",
      "159/159 [==============================] - 1s 5ms/step - loss: 0.2072 - accuracy: 0.9302 - val_loss: 0.1965 - val_accuracy: 0.9340\n",
      "Epoch 125/300\n",
      "159/159 [==============================] - 1s 5ms/step - loss: 0.2072 - accuracy: 0.9301 - val_loss: 0.1965 - val_accuracy: 0.9339\n",
      "Epoch 126/300\n",
      "159/159 [==============================] - 1s 6ms/step - loss: 0.2069 - accuracy: 0.9301 - val_loss: 0.1964 - val_accuracy: 0.9340\n",
      "Epoch 127/300\n",
      "159/159 [==============================] - 1s 5ms/step - loss: 0.2068 - accuracy: 0.9298 - val_loss: 0.1965 - val_accuracy: 0.9337\n",
      "Epoch 128/300\n",
      "159/159 [==============================] - 1s 5ms/step - loss: 0.2069 - accuracy: 0.9298 - val_loss: 0.1964 - val_accuracy: 0.9339\n",
      "Epoch 129/300\n",
      "159/159 [==============================] - 1s 5ms/step - loss: 0.2067 - accuracy: 0.9308 - val_loss: 0.1965 - val_accuracy: 0.9339\n",
      "Epoch 130/300\n",
      "159/159 [==============================] - 1s 6ms/step - loss: 0.2072 - accuracy: 0.9301 - val_loss: 0.1965 - val_accuracy: 0.9342\n",
      "Epoch 131/300\n",
      "159/159 [==============================] - 1s 5ms/step - loss: 0.2074 - accuracy: 0.9292 - val_loss: 0.1965 - val_accuracy: 0.9340\n",
      "Epoch 132/300\n",
      "159/159 [==============================] - 1s 5ms/step - loss: 0.2076 - accuracy: 0.9301 - val_loss: 0.1964 - val_accuracy: 0.9342\n",
      "Epoch 133/300\n",
      "159/159 [==============================] - 1s 5ms/step - loss: 0.2076 - accuracy: 0.9297 - val_loss: 0.1964 - val_accuracy: 0.9340\n",
      "Epoch 134/300\n",
      "159/159 [==============================] - 1s 4ms/step - loss: 0.2073 - accuracy: 0.9301 - val_loss: 0.1964 - val_accuracy: 0.9340\n",
      "Epoch 135/300\n",
      "159/159 [==============================] - 1s 5ms/step - loss: 0.2070 - accuracy: 0.9301 - val_loss: 0.1965 - val_accuracy: 0.9343\n",
      "Epoch 136/300\n",
      "159/159 [==============================] - 1s 5ms/step - loss: 0.2074 - accuracy: 0.9304 - val_loss: 0.1965 - val_accuracy: 0.9339\n",
      "Epoch 137/300\n",
      "159/159 [==============================] - 1s 5ms/step - loss: 0.2074 - accuracy: 0.9301 - val_loss: 0.1965 - val_accuracy: 0.9345\n",
      "0.196412308861285\n"
     ]
    }
   ],
   "source": [
    "kf = KFold(n_splits=4, shuffle=True, random_state=71)\n",
    "tr_idx, va_idx = list(kf.split(train))[0]\n",
    "tr_x, va_x = train.iloc[tr_idx], train.iloc[va_idx]\n",
    "tr_y, va_y = train_y.iloc[tr_idx], train_y.iloc[va_idx]\n",
    "\n",
    "scaler = StandardScaler()\n",
    "tr_x = scaler.fit_transform(tr_x)\n",
    "va_x = scaler.fit_transform(va_x)\n",
    "\n",
    "model = Sequential()\n",
    "model.add(Dropout(0.05, input_shape=(tr_x.shape[1],)))\n",
    "model.add(Dense(96,activation=PReLU()))\n",
    "model.add(Dropout(0.1))\n",
    "model.add(Dense(96,activation=PReLU()))\n",
    "model.add(Dropout(0.1))\n",
    "model.add(Dense(96,activation=PReLU()))\n",
    "model.add(Dropout(0.1))\n",
    "model.add(Dense(1,activation = 'sigmoid'))\n",
    "\n",
    "model.compile(loss = 'binary_crossentropy',\n",
    "             optimizer = SGD(lr=0.0016590360920686548, decay=1e-6, momentum=0.9, nesterov=True),\n",
    "              metrics=['accuracy'])\n",
    "\n",
    "batch_size = 128\n",
    "epochs = 300\n",
    "early_stopping = EarlyStopping(monitor = 'val_loss', patience = 20, restore_best_weights=True)\n",
    "\n",
    "\n",
    "history  = model.fit(tr_x,tr_y,\n",
    "                    batch_size=batch_size, epochs=epochs,\n",
    "                    verbose=1,validation_data=(va_x,va_y),\n",
    "                    callbacks = early_stopping)\n",
    "\n",
    "va_pred = model.predict(va_x)\n",
    "score = log_loss(va_y,va_pred)\n",
    "print(score)"
   ]
  },
  {
   "cell_type": "code",
   "execution_count": 38,
   "metadata": {},
   "outputs": [
    {
     "data": {
      "image/png": "[encoded data removed]",
      "text/plain": [
       "<Figure size 432x288 with 1 Axes>"
      ]
     },
     "metadata": {
      "needs_background": "light"
     },
     "output_type": "display_data"
    }
   ],
   "source": [
    "fig = plt.figure()\n",
    "\n",
    "fpr,tpr,thresholds = roc_curve(va_y,val_pred)\n",
    "auc_score = roc_auc_score(va_y,va_pred)\n",
    "\n",
    "plt.plot(fpr,tpr)\n",
    "plt.xlabel('False Positive Rate')\n",
    "plt.ylabel('True Positive Rate')\n",
    "plt.title(f'ROC curve/AUC Score : {auc_score}')\n",
    "\n",
    "plt.grid(True)"
   ]
  },
  {
   "cell_type": "code",
   "execution_count": null,
   "metadata": {},
   "outputs": [],
   "source": []
  }
 ],
 "metadata": {
  "kernelspec": {
   "display_name": "Python 3.7.1 64-bit",
   "language": "python",
   "name": "python37164bit745322e800af484d9e7663a15d4e0767"
  },
  "language_info": {
   "codemirror_mode": {
    "name": "ipython",
    "version": 3
   },
   "file_extension": ".py",
   "mimetype": "text/x-python",
   "name": "python",
   "nbconvert_exporter": "python",
   "pygments_lexer": "ipython3",
   "version": "3.7.1"
  }
 },
 "nbformat": 4,
 "nbformat_minor": 4
}
