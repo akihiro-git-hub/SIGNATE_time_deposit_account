{
 "cells": [
  {
   "cell_type": "code",
   "execution_count": 129,
   "metadata": {},
   "outputs": [],
   "source": [
    "import numpy as np\n",
    "import pandas as pd\n",
    "import matplotlib.pyplot as plt\n",
    "from matplotlib import gridspec\n",
    "import seaborn as sns\n",
    "import plotly.graph_objects as go\n",
    "import plotly.express as px\n",
    "from sklearn.model_selection import KFold\n",
    "from sklearn.metrics import log_loss, accuracy_score\n",
    "from sklearn.metrics import roc_auc_score, roc_curve\n",
    "from sklearn.preprocessing import LabelEncoder\n",
    "import xgboost as xgb\n",
    "from scipy.stats import zscore"
   ]
  },
  {
   "cell_type": "markdown",
   "metadata": {},
   "source": [
    "# xgboost"
   ]
  },
  {
   "cell_type": "code",
   "execution_count": 130,
   "metadata": {},
   "outputs": [],
   "source": [
    "train = pd.read_csv('C:\\\\Users\\\\odoru\\\\SIGNATE_time_deposit_account\\\\train.csv')\n",
    "test = pd.read_csv('C:\\\\Users\\\\odoru\\\\SIGNATE_time_deposit_account\\\\test.csv')\n",
    "submit = pd.read_csv('C:\\\\Users\\\\odoru\\\\SIGNATE_time_deposit_account\\\\head_submit_sample.csv')"
   ]
  },
  {
   "cell_type": "code",
   "execution_count": 131,
   "metadata": {},
   "outputs": [],
   "source": [
    "# jobのunknownの処理\n",
    "test.replace({'job': {'unknown':'blue-collar'}}, inplace=True)"
   ]
  },
  {
   "cell_type": "code",
   "execution_count": 132,
   "metadata": {},
   "outputs": [],
   "source": [
    "#score列の作成\n",
    "train['score'] = np.zeros(train.shape[0])\n",
    "\n",
    "\n",
    "#個人ローン\n",
    "#学習データ\n",
    "loan_none = train.loc[train['loan'] == 'no']\n",
    "index = loan_none.index.values\n",
    "index = list(index)\n",
    "\n",
    "for i in index:\n",
    "    train.iloc[i,18] = 1\n",
    "    \n",
    "\n",
    "\n",
    "#住宅ローン\n",
    "housing_none = train.loc[train['housing'] == 'no']\n",
    "index = housing_none.index.values\n",
    "index = list(index)\n",
    "\n",
    "score_values = housing_none['score'].values\n",
    "score_values = score_values + 1\n",
    "score_values = list(score_values)\n",
    "\n",
    "for i in score_values:\n",
    "    train.loc[train['housing']=='no','score'] = i\n",
    "\n",
    "\n",
    "\n",
    "#債務不履行\n",
    "default = train.loc[train['default'] == 'yes']\n",
    "\n",
    "\n",
    "score_values = default['score'].values\n",
    "score_values = score_values - 3\n",
    "score_values = list(score_values)\n",
    "\n",
    "for i in score_values:\n",
    "    train.loc[train['default']=='yes','score'] = i\n",
    "\n",
    "\n",
    "\n",
    "\n",
    "\n",
    "#経営者\n",
    "management = train.loc[train['job'] == 'management']\n",
    "\n",
    "\n",
    "score_values = management['score'].values\n",
    "score_values = score_values + 1\n",
    "score_values = list(score_values)\n",
    "\n",
    "for i in score_values:\n",
    "    train.loc[train['job']=='management','score'] = i\n",
    "    \n",
    "\n",
    "\n",
    "#管理者\n",
    "admin = train.loc[train['job'] == 'admin.']\n",
    "\n",
    "\n",
    "score_values = admin['score'].values\n",
    "score_values = score_values + 1\n",
    "score_values = list(score_values)\n",
    "\n",
    "for i in score_values:\n",
    "    train.loc[train['job']=='admin.','score'] = i\n",
    "    \n",
    "\n",
    "\n",
    "\n",
    "#学生\n",
    "student = train.loc[train['job'] == 'student']\n",
    "\n",
    "\n",
    "score_values = student['score'].values\n",
    "score_values = score_values + 1\n",
    "score_values = list(score_values)\n",
    "\n",
    "for i in score_values:\n",
    "    train.loc[train['job']=='student','score'] = i\n",
    "    \n",
    "\n",
    "\n",
    "\n",
    "\n",
    "#失業者\n",
    "unemployed = train.loc[train['job'] == 'unemployed']\n",
    "\n",
    "\n",
    "score_values = unemployed['score'].values\n",
    "score_values = score_values + 1\n",
    "score_values = list(score_values)\n",
    "\n",
    "for i in score_values:\n",
    "    train.loc[train['job']=='unemployed','score'] = i\n",
    "    \n",
    "train.loc[train['job'] == 'unemployed']\n",
    "\n",
    "\n",
    "\n",
    "\n",
    "#定年退職者\n",
    "retired = train.loc[train['job'] == 'retired']\n",
    "\n",
    "\n",
    "score_values = retired['score'].values\n",
    "score_values = score_values + 1\n",
    "score_values = list(score_values)\n",
    "\n",
    "for i in score_values:\n",
    "    train.loc[train['job']=='retired','score'] = i\n",
    "    "
   ]
  },
  {
   "cell_type": "code",
   "execution_count": 133,
   "metadata": {},
   "outputs": [],
   "source": [
    "#テストデータ\n",
    "#score列の作成\n",
    "test['score'] = np.zeros(test.shape[0])\n",
    "\n",
    "#個人ローン\n",
    "loan_none = test.loc[test['loan'] == 'no']\n",
    "index = loan_none.index.values\n",
    "index = list(index)\n",
    "\n",
    "for i in index:\n",
    "    test.iloc[i,17] = 1\n",
    "\n",
    "\n",
    "\n",
    "#住宅ローン\n",
    "housing_none = test.loc[test['housing'] == 'no']\n",
    "\n",
    "score_values = housing_none['score'].values\n",
    "score_values = score_values + 1\n",
    "score_values = list(score_values)\n",
    "\n",
    "for i in score_values:\n",
    "    test.loc[test['housing']=='no','score'] = i\n",
    "\n",
    "\n",
    "\n",
    "#債務不履行\n",
    "default = test.loc[test['default'] == 'yes']\n",
    "\n",
    "\n",
    "score_values = default['score'].values\n",
    "score_values = score_values - 3\n",
    "score_values = list(score_values)\n",
    "\n",
    "for i in score_values:\n",
    "    test.loc[test['default']=='yes','score'] = i\n",
    "\n",
    "\n",
    "\n",
    "\n",
    "\n",
    "#経営者\n",
    "management = test.loc[test['job'] == 'management']\n",
    "\n",
    "\n",
    "score_values = management['score'].values\n",
    "score_values = score_values + 1\n",
    "score_values = list(score_values)\n",
    "\n",
    "for i in score_values:\n",
    "    test.loc[test['job']=='management','score'] = i\n",
    "    \n",
    "\n",
    "\n",
    "#管理者\n",
    "admin = test.loc[test['job'] == 'admin.']\n",
    "\n",
    "\n",
    "score_values = admin['score'].values\n",
    "score_values = score_values + 1\n",
    "score_values = list(score_values)\n",
    "\n",
    "for i in score_values:\n",
    "    test.loc[test['job']=='admin.','score'] = i\n",
    "    \n",
    "\n",
    "\n",
    "\n",
    "#学生\n",
    "student = test.loc[test['job'] == 'student']\n",
    "\n",
    "\n",
    "score_values = student['score'].values\n",
    "score_values = score_values + 1\n",
    "score_values = list(score_values)\n",
    "\n",
    "for i in score_values:\n",
    "    test.loc[test['job']=='student','score'] = i\n",
    "    \n",
    "\n",
    "\n",
    "\n",
    "\n",
    "#失業者\n",
    "unemployed = test.loc[test['job'] == 'unemployed']\n",
    "\n",
    "\n",
    "score_values = unemployed['score'].values\n",
    "score_values = score_values + 1\n",
    "score_values = list(score_values)\n",
    "\n",
    "for i in score_values:\n",
    "    test.loc[test['job']=='unemployed','score'] = i\n",
    "    \n",
    "\n",
    "\n",
    "\n",
    "#定年退職者\n",
    "retired = test.loc[test['job'] == 'retired']\n",
    "\n",
    "\n",
    "score_values = retired['score'].values\n",
    "score_values = score_values + 1\n",
    "score_values = list(score_values)\n",
    "\n",
    "for i in score_values:\n",
    "    test.loc[test['job']=='retired','score'] = i"
   ]
  },
  {
   "cell_type": "code",
   "execution_count": 134,
   "metadata": {},
   "outputs": [],
   "source": [
    "cat_cols = ['job','marital','education','default','housing','loan','contact','month']\n",
    "#LabelEncording\n",
    "for c in cat_cols:\n",
    "    le = LabelEncoder()\n",
    "    le.fit(train[c])\n",
    "    train[c] = le.transform(train[c])\n",
    "    test[c] = le.transform(test[c])"
   ]
  },
  {
   "cell_type": "markdown",
   "metadata": {},
   "source": [
    "# poutcomeのunknownの作成"
   ]
  },
  {
   "cell_type": "code",
   "execution_count": 135,
   "metadata": {},
   "outputs": [],
   "source": [
    "#unknownとunknownでない奴の分割\n",
    "un_df =  train.loc[train['poutcome'] == 'unknown']\n",
    "df = train.loc[train['poutcome'] != 'unknown']"
   ]
  },
  {
   "cell_type": "code",
   "execution_count": 136,
   "metadata": {},
   "outputs": [
    {
     "name": "stderr",
     "output_type": "stream",
     "text": [
      "C:\\Users\\odoru\\AppData\\Local\\Programs\\Python\\Python37\\lib\\site-packages\\pandas\\core\\frame.py:3997: SettingWithCopyWarning: \n",
      "A value is trying to be set on a copy of a slice from a DataFrame\n",
      "\n",
      "See the caveats in the documentation: https://pandas.pydata.org/pandas-docs/stable/user_guide/indexing.html#returning-a-view-versus-a-copy\n",
      "  errors=errors,\n"
     ]
    }
   ],
   "source": [
    "un_df.drop(['poutcome','y'], axis = 1, inplace =True)"
   ]
  },
  {
   "cell_type": "code",
   "execution_count": 137,
   "metadata": {},
   "outputs": [],
   "source": [
    "df.drop(['y'], axis = 1, inplace =True)"
   ]
  },
  {
   "cell_type": "code",
   "execution_count": 138,
   "metadata": {},
   "outputs": [],
   "source": [
    "un_df =  train.loc[train['poutcome'] == 'unknown']\n",
    "df = train.loc[train['poutcome'] != 'unknown']\n",
    "\n",
    "un_df.drop(['poutcome','y'], axis = 1, inplace =True)\n",
    "df = df.drop(['y'], axis = 1)\n",
    "\n",
    "#df_poutcome = pd.get_dummies(df['poutcome'])\n",
    "#df = df.drop(['poutcome'], axis = 1)\n",
    "\n",
    "#df = pd.concat([df,df_poutcome], axis=1)"
   ]
  },
  {
   "cell_type": "code",
   "execution_count": 139,
   "metadata": {},
   "outputs": [
    {
     "data": {
      "text/plain": [
       "failure    2717\n",
       "other       826\n",
       "success     458\n",
       "Name: poutcome, dtype: int64"
      ]
     },
     "execution_count": 139,
     "metadata": {},
     "output_type": "execute_result"
    }
   ],
   "source": [
    "df.poutcome.value_counts()"
   ]
  },
  {
   "cell_type": "code",
   "execution_count": 140,
   "metadata": {},
   "outputs": [],
   "source": [
    "#カラム一つのやつ\n",
    "\n",
    "\n",
    "le = LabelEncoder()\n",
    "le.fit(df['poutcome'])\n",
    "df['poutcome'] = le.transform(df['poutcome'])\n",
    "df_x = df.iloc[:,1:16]\n",
    "df_x['score'] = df['score']\n",
    "df_y = df['poutcome']\n",
    "df_test_x = un_df.drop(['id'] ,axis = 1)"
   ]
  },
  {
   "cell_type": "code",
   "execution_count": 141,
   "metadata": {},
   "outputs": [
    {
     "data": {
      "text/plain": [
       "0    2717\n",
       "1     826\n",
       "2     458\n",
       "Name: poutcome, dtype: int64"
      ]
     },
     "execution_count": 141,
     "metadata": {},
     "output_type": "execute_result"
    }
   ],
   "source": [
    "df.poutcome.value_counts()"
   ]
  },
  {
   "cell_type": "markdown",
   "metadata": {},
   "source": [
    "# トレーニングデータのunknownの予測"
   ]
  },
  {
   "cell_type": "markdown",
   "metadata": {},
   "source": [
    "# カラムを分けるやつは学習データ数が少ないため精度が全くでないため不採用"
   ]
  },
  {
   "cell_type": "code",
   "execution_count": 142,
   "metadata": {
    "scrolled": true
   },
   "outputs": [],
   "source": [
    "#カラムを分けるやつ\n",
    "\n",
    "\n",
    "#df_x = df.iloc[:,1:17]\n",
    "#df_y_f = df.loc[:,['failure']]\n",
    "#df_y_o = df.loc[:,['other']]\n",
    "#df_y_s = df.loc[:,['success']]\n",
    "#df_test_x = un_df.drop(['id'] ,axis = 1)\n",
    "\n",
    "#hold out 法\n",
    "#kf = KFold(n_splits=4, shuffle=True, random_state=71)\n",
    "#tr_idx, va_idx = list(kf.split(df_x))[0]\n",
    "#tr_x,va_x = df_x.iloc[tr_idx], df_x.iloc[va_idx]\n",
    "#tr_y,va_y = df_y_s.iloc[tr_idx], df_y_s.iloc[va_idx] \n",
    "\n",
    "#d_train = xgb.DMatrix(tr_x, label=tr_y)\n",
    "#d_valid = xgb.DMatrix(va_x, label=va_y)\n",
    "\n",
    "#params = {'objective':'binary:logistic','silent':1, 'random_state':71, 'eta':0.1}\n",
    "\n",
    "#num_round = 500\n",
    "\n",
    "#watchilist = [(d_train,'train'),(d_valid,'eval')]\n",
    "\n",
    "#model = xgb.train(params,d_train, num_round, evals = watchilist, early_stopping_rounds=20 )\n",
    "\n",
    "#val_pred = model.predict(d_valid, ntree_limit = model.best_ntree_limit)\n",
    "\n",
    "#score = log_loss(va_y,val_pred)\n",
    "#print(score)"
   ]
  },
  {
   "cell_type": "code",
   "execution_count": 143,
   "metadata": {},
   "outputs": [],
   "source": [
    "#a = np.where(val_pred< 0.7, 1,0 )\n",
    "#print(a)\n",
    "#accuracy = accuracy_score(va_y, a)\n",
    "#print(accuracy)"
   ]
  },
  {
   "cell_type": "code",
   "execution_count": 144,
   "metadata": {
    "scrolled": true
   },
   "outputs": [
    {
     "name": "stdout",
     "output_type": "stream",
     "text": [
      "[19:12:22] WARNING: C:\\Users\\Administrator\\workspace\\xgboost-win64_release_1.1.0\\src\\learner.cc:480: \n",
      "Parameters: { silent } might not be used.\n",
      "\n",
      "  This may not be accurate due to some parameters are only used in language bindings but\n",
      "  passed down to XGBoost core.  Or some parameters are not used but slip through this\n",
      "  verification. Please open an issue if you find above cases.\n",
      "\n",
      "\n",
      "[0]\ttrain-merror:0.25100\teval-merror:0.29371\n",
      "Multiple eval metrics have been passed: 'eval-merror' will be used for early stopping.\n",
      "\n",
      "Will train until eval-merror hasn't improved in 20 rounds.\n",
      "[1]\ttrain-merror:0.25233\teval-merror:0.29371\n",
      "[2]\ttrain-merror:0.24833\teval-merror:0.29171\n",
      "[3]\ttrain-merror:0.24600\teval-merror:0.28871\n",
      "[4]\ttrain-merror:0.24533\teval-merror:0.29570\n",
      "[5]\ttrain-merror:0.24200\teval-merror:0.29071\n",
      "[6]\ttrain-merror:0.23500\teval-merror:0.28871\n",
      "[7]\ttrain-merror:0.23300\teval-merror:0.28372\n",
      "[8]\ttrain-merror:0.22700\teval-merror:0.28372\n",
      "[9]\ttrain-merror:0.22767\teval-merror:0.27872\n",
      "[10]\ttrain-merror:0.22600\teval-merror:0.28072\n",
      "[11]\ttrain-merror:0.22133\teval-merror:0.27572\n",
      "[12]\ttrain-merror:0.21967\teval-merror:0.27472\n",
      "[13]\ttrain-merror:0.21933\teval-merror:0.27373\n",
      "[14]\ttrain-merror:0.21600\teval-merror:0.27073\n",
      "[15]\ttrain-merror:0.21333\teval-merror:0.27273\n",
      "[16]\ttrain-merror:0.20967\teval-merror:0.26973\n",
      "[17]\ttrain-merror:0.21000\teval-merror:0.26773\n",
      "[18]\ttrain-merror:0.20533\teval-merror:0.27273\n",
      "[19]\ttrain-merror:0.20300\teval-merror:0.27373\n",
      "[20]\ttrain-merror:0.20133\teval-merror:0.27273\n",
      "[21]\ttrain-merror:0.20100\teval-merror:0.26973\n",
      "[22]\ttrain-merror:0.19900\teval-merror:0.26873\n",
      "[23]\ttrain-merror:0.19733\teval-merror:0.27273\n",
      "[24]\ttrain-merror:0.19633\teval-merror:0.26973\n",
      "[25]\ttrain-merror:0.19400\teval-merror:0.26973\n",
      "[26]\ttrain-merror:0.19200\teval-merror:0.27273\n",
      "[27]\ttrain-merror:0.19000\teval-merror:0.27373\n",
      "[28]\ttrain-merror:0.18833\teval-merror:0.27073\n",
      "[29]\ttrain-merror:0.18767\teval-merror:0.27073\n",
      "[30]\ttrain-merror:0.18633\teval-merror:0.27073\n",
      "[31]\ttrain-merror:0.18267\teval-merror:0.26973\n",
      "[32]\ttrain-merror:0.18133\teval-merror:0.26973\n",
      "[33]\ttrain-merror:0.17933\teval-merror:0.27373\n",
      "[34]\ttrain-merror:0.17900\teval-merror:0.27672\n",
      "[35]\ttrain-merror:0.17767\teval-merror:0.27472\n",
      "[36]\ttrain-merror:0.17700\teval-merror:0.27572\n",
      "[37]\ttrain-merror:0.17633\teval-merror:0.27572\n",
      "Stopping. Best iteration:\n",
      "[17]\ttrain-merror:0.21000\teval-merror:0.26773\n",
      "\n",
      "0.7322677322677322\n"
     ]
    }
   ],
   "source": [
    "#hold out 法\n",
    "kf = KFold(n_splits=4, shuffle=True, random_state=71)\n",
    "tr_idx, va_idx = list(kf.split(df_x))[0]\n",
    "tr_x,va_x = df_x.iloc[tr_idx], df_x.iloc[va_idx]\n",
    "tr_y,va_y = df_y.iloc[tr_idx], df_y.iloc[va_idx] \n",
    "\n",
    "\n",
    "d_train = xgb.DMatrix(tr_x, label=tr_y)\n",
    "d_valid = xgb.DMatrix(va_x, label=va_y)\n",
    "\n",
    "params = {'objective':'multi:softmax','num_class' : 3 ,'silent':1, 'random_state':71, 'eta':0.1}\n",
    "\n",
    "num_round = 500\n",
    "\n",
    "watchilist = [(d_train,'train'),(d_valid,'eval')]\n",
    "\n",
    "model = xgb.train(params,d_train, num_round, evals = watchilist, early_stopping_rounds=20 )\n",
    "\n",
    "val_pred = model.predict(d_valid, ntree_limit = model.best_ntree_limit)\n",
    "\n",
    "accuracy = accuracy_score(va_y, val_pred)\n",
    "print(accuracy)"
   ]
  },
  {
   "cell_type": "markdown",
   "metadata": {},
   "source": [
    "# unknownが入っているトレーニングデータの作成"
   ]
  },
  {
   "cell_type": "code",
   "execution_count": 145,
   "metadata": {},
   "outputs": [],
   "source": [
    "d_test = xgb.DMatrix(df_test_x)\n",
    "\n",
    "test_pred = model.predict(d_test, ntree_limit = model.best_ntree_limit)"
   ]
  },
  {
   "cell_type": "code",
   "execution_count": 146,
   "metadata": {},
   "outputs": [],
   "source": [
    "# トレーニングデータの完成\n",
    "df_test_x['poutcome'] = test_pred\n",
    "\n",
    "df_concat_train = pd.concat([df_x, df_y], axis = 1)\n",
    "df_concat_train = pd.concat([df_concat_train, df_test_x], axis = 0)\n",
    "df_concat_train = df_concat_train.sort_index()"
   ]
  },
  {
   "cell_type": "code",
   "execution_count": 147,
   "metadata": {},
   "outputs": [],
   "source": [
    "a = pd.get_dummies(df_concat_train['poutcome'])"
   ]
  },
  {
   "cell_type": "code",
   "execution_count": 148,
   "metadata": {},
   "outputs": [
    {
     "data": {
      "text/html": [
       "<div>\n",
       "<style scoped>\n",
       "    .dataframe tbody tr th:only-of-type {\n",
       "        vertical-align: middle;\n",
       "    }\n",
       "\n",
       "    .dataframe tbody tr th {\n",
       "        vertical-align: top;\n",
       "    }\n",
       "\n",
       "    .dataframe thead th {\n",
       "        text-align: right;\n",
       "    }\n",
       "</style>\n",
       "<table border=\"1\" class=\"dataframe\">\n",
       "  <thead>\n",
       "    <tr style=\"text-align: right;\">\n",
       "      <th></th>\n",
       "      <th>failure</th>\n",
       "      <th>other</th>\n",
       "      <th>success</th>\n",
       "    </tr>\n",
       "  </thead>\n",
       "  <tbody>\n",
       "    <tr>\n",
       "      <th>0</th>\n",
       "      <td>0</td>\n",
       "      <td>1</td>\n",
       "      <td>0</td>\n",
       "    </tr>\n",
       "    <tr>\n",
       "      <th>1</th>\n",
       "      <td>1</td>\n",
       "      <td>0</td>\n",
       "      <td>0</td>\n",
       "    </tr>\n",
       "    <tr>\n",
       "      <th>2</th>\n",
       "      <td>1</td>\n",
       "      <td>0</td>\n",
       "      <td>0</td>\n",
       "    </tr>\n",
       "    <tr>\n",
       "      <th>3</th>\n",
       "      <td>1</td>\n",
       "      <td>0</td>\n",
       "      <td>0</td>\n",
       "    </tr>\n",
       "    <tr>\n",
       "      <th>4</th>\n",
       "      <td>1</td>\n",
       "      <td>0</td>\n",
       "      <td>0</td>\n",
       "    </tr>\n",
       "    <tr>\n",
       "      <th>...</th>\n",
       "      <td>...</td>\n",
       "      <td>...</td>\n",
       "      <td>...</td>\n",
       "    </tr>\n",
       "    <tr>\n",
       "      <th>27095</th>\n",
       "      <td>1</td>\n",
       "      <td>0</td>\n",
       "      <td>0</td>\n",
       "    </tr>\n",
       "    <tr>\n",
       "      <th>27096</th>\n",
       "      <td>1</td>\n",
       "      <td>0</td>\n",
       "      <td>0</td>\n",
       "    </tr>\n",
       "    <tr>\n",
       "      <th>27097</th>\n",
       "      <td>0</td>\n",
       "      <td>1</td>\n",
       "      <td>0</td>\n",
       "    </tr>\n",
       "    <tr>\n",
       "      <th>27098</th>\n",
       "      <td>1</td>\n",
       "      <td>0</td>\n",
       "      <td>0</td>\n",
       "    </tr>\n",
       "    <tr>\n",
       "      <th>27099</th>\n",
       "      <td>1</td>\n",
       "      <td>0</td>\n",
       "      <td>0</td>\n",
       "    </tr>\n",
       "  </tbody>\n",
       "</table>\n",
       "<p>27100 rows × 3 columns</p>\n",
       "</div>"
      ],
      "text/plain": [
       "       failure  other  success\n",
       "0            0      1        0\n",
       "1            1      0        0\n",
       "2            1      0        0\n",
       "3            1      0        0\n",
       "4            1      0        0\n",
       "...        ...    ...      ...\n",
       "27095        1      0        0\n",
       "27096        1      0        0\n",
       "27097        0      1        0\n",
       "27098        1      0        0\n",
       "27099        1      0        0\n",
       "\n",
       "[27100 rows x 3 columns]"
      ]
     },
     "execution_count": 148,
     "metadata": {},
     "output_type": "execute_result"
    }
   ],
   "source": [
    "a.columns = ['failure','other','success']\n",
    "a"
   ]
  },
  {
   "cell_type": "code",
   "execution_count": 151,
   "metadata": {},
   "outputs": [],
   "source": [
    "a.to_csv('xgboost_poutcome.csv',index=False)"
   ]
  },
  {
   "cell_type": "markdown",
   "metadata": {},
   "source": [
    "# unknownが入っているテストデータの作成"
   ]
  },
  {
   "cell_type": "code",
   "execution_count": 89,
   "metadata": {},
   "outputs": [],
   "source": [
    "test_x = test.drop(['poutcome','id'],axis=1)\n",
    "d_test = xgb.DMatrix(test_x)\n",
    "test_pred = model.predict(d_test, ntree_limit = model.best_ntree_limit)\n",
    "test_x['poutcome'] = test_pred"
   ]
  },
  {
   "cell_type": "markdown",
   "metadata": {},
   "source": [
    "# unknownが入ったデータでのyの予測"
   ]
  },
  {
   "cell_type": "code",
   "execution_count": 90,
   "metadata": {},
   "outputs": [],
   "source": [
    "train_x = df_concat_train\n",
    "train_y = train['y']\n",
    "test = test_x"
   ]
  },
  {
   "cell_type": "code",
   "execution_count": 91,
   "metadata": {
    "scrolled": true
   },
   "outputs": [
    {
     "name": "stdout",
     "output_type": "stream",
     "text": [
      "[11:09:24] WARNING: C:\\Users\\Administrator\\workspace\\xgboost-win64_release_1.1.0\\src\\learner.cc:480: \n",
      "Parameters: { silent } might not be used.\n",
      "\n",
      "  This may not be accurate due to some parameters are only used in language bindings but\n",
      "  passed down to XGBoost core.  Or some parameters are not used but slip through this\n",
      "  verification. Please open an issue if you find above cases.\n",
      "\n",
      "\n",
      "[0]\ttrain-error:0.06809\teval-error:0.06937\n",
      "Multiple eval metrics have been passed: 'eval-error' will be used for early stopping.\n",
      "\n",
      "Will train until eval-error hasn't improved in 20 rounds.\n",
      "[1]\ttrain-error:0.06731\teval-error:0.06849\n",
      "[2]\ttrain-error:0.06667\teval-error:0.06834\n",
      "[3]\ttrain-error:0.06677\teval-error:0.06819\n",
      "[4]\ttrain-error:0.06637\teval-error:0.06731\n",
      "[5]\ttrain-error:0.06667\teval-error:0.06775\n",
      "[6]\ttrain-error:0.06637\teval-error:0.06686\n",
      "[7]\ttrain-error:0.06667\teval-error:0.06731\n",
      "[8]\ttrain-error:0.06657\teval-error:0.06745\n",
      "[9]\ttrain-error:0.06657\teval-error:0.06716\n",
      "[10]\ttrain-error:0.06681\teval-error:0.06760\n",
      "[11]\ttrain-error:0.06642\teval-error:0.06745\n",
      "[12]\ttrain-error:0.06652\teval-error:0.06775\n",
      "[13]\ttrain-error:0.06647\teval-error:0.06775\n",
      "[14]\ttrain-error:0.06632\teval-error:0.06731\n",
      "[15]\ttrain-error:0.06622\teval-error:0.06701\n",
      "[16]\ttrain-error:0.06632\teval-error:0.06716\n",
      "[17]\ttrain-error:0.06662\teval-error:0.06716\n",
      "[18]\ttrain-error:0.06642\teval-error:0.06701\n",
      "[19]\ttrain-error:0.06657\teval-error:0.06701\n",
      "[20]\ttrain-error:0.06662\teval-error:0.06686\n",
      "[21]\ttrain-error:0.06637\teval-error:0.06657\n",
      "[22]\ttrain-error:0.06632\teval-error:0.06657\n",
      "[23]\ttrain-error:0.06637\teval-error:0.06657\n",
      "[24]\ttrain-error:0.06632\teval-error:0.06686\n",
      "[25]\ttrain-error:0.06622\teval-error:0.06701\n",
      "[26]\ttrain-error:0.06593\teval-error:0.06672\n",
      "[27]\ttrain-error:0.06598\teval-error:0.06672\n",
      "[28]\ttrain-error:0.06578\teval-error:0.06672\n",
      "[29]\ttrain-error:0.06573\teval-error:0.06716\n",
      "[30]\ttrain-error:0.06568\teval-error:0.06716\n",
      "[31]\ttrain-error:0.06558\teval-error:0.06701\n",
      "[32]\ttrain-error:0.06549\teval-error:0.06716\n",
      "[33]\ttrain-error:0.06534\teval-error:0.06731\n",
      "[34]\ttrain-error:0.06514\teval-error:0.06701\n",
      "[35]\ttrain-error:0.06519\teval-error:0.06686\n",
      "[36]\ttrain-error:0.06524\teval-error:0.06642\n",
      "[37]\ttrain-error:0.06524\teval-error:0.06642\n",
      "[38]\ttrain-error:0.06519\teval-error:0.06657\n",
      "[39]\ttrain-error:0.06504\teval-error:0.06657\n",
      "[40]\ttrain-error:0.06499\teval-error:0.06672\n",
      "[41]\ttrain-error:0.06470\teval-error:0.06657\n",
      "[42]\ttrain-error:0.06465\teval-error:0.06627\n",
      "[43]\ttrain-error:0.06445\teval-error:0.06642\n",
      "[44]\ttrain-error:0.06460\teval-error:0.06627\n",
      "[45]\ttrain-error:0.06440\teval-error:0.06613\n",
      "[46]\ttrain-error:0.06426\teval-error:0.06598\n",
      "[47]\ttrain-error:0.06406\teval-error:0.06598\n",
      "[48]\ttrain-error:0.06376\teval-error:0.06598\n",
      "[49]\ttrain-error:0.06352\teval-error:0.06583\n",
      "[50]\ttrain-error:0.06342\teval-error:0.06598\n",
      "[51]\ttrain-error:0.06317\teval-error:0.06598\n",
      "[52]\ttrain-error:0.06298\teval-error:0.06583\n",
      "[53]\ttrain-error:0.06308\teval-error:0.06583\n",
      "[54]\ttrain-error:0.06303\teval-error:0.06568\n",
      "[55]\ttrain-error:0.06317\teval-error:0.06568\n",
      "[56]\ttrain-error:0.06317\teval-error:0.06539\n",
      "[57]\ttrain-error:0.06298\teval-error:0.06539\n",
      "[58]\ttrain-error:0.06288\teval-error:0.06524\n",
      "[59]\ttrain-error:0.06288\teval-error:0.06524\n",
      "[60]\ttrain-error:0.06273\teval-error:0.06524\n",
      "[61]\ttrain-error:0.06278\teval-error:0.06524\n",
      "[62]\ttrain-error:0.06268\teval-error:0.06524\n",
      "[63]\ttrain-error:0.06243\teval-error:0.06568\n",
      "[64]\ttrain-error:0.06239\teval-error:0.06568\n",
      "[65]\ttrain-error:0.06204\teval-error:0.06553\n",
      "[66]\ttrain-error:0.06209\teval-error:0.06524\n",
      "[67]\ttrain-error:0.06204\teval-error:0.06524\n",
      "[68]\ttrain-error:0.06199\teval-error:0.06568\n",
      "[69]\ttrain-error:0.06184\teval-error:0.06568\n",
      "[70]\ttrain-error:0.06165\teval-error:0.06509\n",
      "[71]\ttrain-error:0.06135\teval-error:0.06495\n",
      "[72]\ttrain-error:0.06125\teval-error:0.06524\n",
      "[73]\ttrain-error:0.06145\teval-error:0.06524\n",
      "[74]\ttrain-error:0.06130\teval-error:0.06509\n",
      "[75]\ttrain-error:0.06081\teval-error:0.06539\n",
      "[76]\ttrain-error:0.06071\teval-error:0.06539\n",
      "[77]\ttrain-error:0.06037\teval-error:0.06524\n",
      "[78]\ttrain-error:0.06037\teval-error:0.06509\n",
      "[79]\ttrain-error:0.06032\teval-error:0.06539\n",
      "[80]\ttrain-error:0.06017\teval-error:0.06539\n",
      "[81]\ttrain-error:0.05993\teval-error:0.06509\n",
      "[82]\ttrain-error:0.05998\teval-error:0.06509\n",
      "[83]\ttrain-error:0.05973\teval-error:0.06539\n",
      "[84]\ttrain-error:0.05948\teval-error:0.06539\n",
      "[85]\ttrain-error:0.05934\teval-error:0.06553\n",
      "[86]\ttrain-error:0.05929\teval-error:0.06539\n",
      "[87]\ttrain-error:0.05929\teval-error:0.06524\n",
      "[88]\ttrain-error:0.05894\teval-error:0.06539\n",
      "[89]\ttrain-error:0.05894\teval-error:0.06524\n",
      "[90]\ttrain-error:0.05870\teval-error:0.06568\n",
      "[91]\ttrain-error:0.05855\teval-error:0.06553\n",
      "Stopping. Best iteration:\n",
      "[71]\ttrain-error:0.06135\teval-error:0.06495\n",
      "\n",
      "0.20402589435819743\n"
     ]
    }
   ],
   "source": [
    "#hold out 法\n",
    "kf = KFold(n_splits=4, shuffle=True, random_state=71)\n",
    "tr_idx, va_idx = list(kf.split(train_x))[0]\n",
    "tr_x,va_x = train_x.iloc[tr_idx], train_x.iloc[va_idx]\n",
    "tr_y,va_y = train_y.iloc[tr_idx], train_y.iloc[va_idx] \n",
    "\n",
    "\n",
    "d_train = xgb.DMatrix(tr_x, label=tr_y)\n",
    "d_valid = xgb.DMatrix(va_x, label=va_y)\n",
    "\n",
    "params = {'objective':'binary:logistic','silent':1, 'random_state':71, 'eta':0.1}\n",
    "\n",
    "num_round = 500\n",
    "\n",
    "watchilist = [(d_train,'train'),(d_valid,'eval')]\n",
    "\n",
    "model = xgb.train(params,d_train, num_round, evals = watchilist, early_stopping_rounds=20 )\n",
    "\n",
    "val_pred = model.predict(d_valid, ntree_limit = model.best_ntree_limit)\n",
    "\n",
    "score = log_loss(va_y,val_pred)\n",
    "print(score)"
   ]
  },
  {
   "cell_type": "code",
   "execution_count": 92,
   "metadata": {},
   "outputs": [
    {
     "data": {
      "image/png": "[encoded data removed]",
      "text/plain": [
       "<Figure size 432x288 with 1 Axes>"
      ]
     },
     "metadata": {
      "needs_background": "light"
     },
     "output_type": "display_data"
    }
   ],
   "source": [
    "fig = plt.figure()\n",
    "\n",
    "fpr,tpr,thresholds = roc_curve(va_y,val_pred)\n",
    "auc_score = roc_auc_score(va_y,val_pred)\n",
    "\n",
    "plt.plot(fpr,tpr)\n",
    "plt.xlabel('False Positive Rate')\n",
    "plt.ylabel('True Positive Rate')\n",
    "plt.title(f'ROC curve/AUC Score : {auc_score}')\n",
    "\n",
    "plt.grid(True)"
   ]
  },
  {
   "cell_type": "code",
   "execution_count": 22,
   "metadata": {},
   "outputs": [
    {
     "name": "stdout",
     "output_type": "stream",
     "text": [
      "xgboost immportance\n",
      "[('poutcome', 2992.931366090501), ('housing', 2241.219695170499), ('month', 2562.036436179735), ('duration', 2575.0864239738), ('age', 1759.2593878218001)]\n"
     ]
    }
   ],
   "source": [
    "# 重要度の上位を出力する\n",
    "fscore = model.get_score(importance_type ='total_gain')\n",
    "fscore = sorted([ (k, v ) for k, v in fscore.items()], key = lambda tpl: [1], reverse=True)\n",
    "print('xgboost immportance')\n",
    "print(fscore[:5])"
   ]
  },
  {
   "cell_type": "code",
   "execution_count": 23,
   "metadata": {},
   "outputs": [],
   "source": [
    "#データのｙを求める\n",
    "d_test = xgb.DMatrix(test_x)\n",
    "\n",
    "\n",
    "test_pred = model.predict(d_test, ntree_limit=model.best_ntree_limit)"
   ]
  },
  {
   "cell_type": "code",
   "execution_count": null,
   "metadata": {},
   "outputs": [],
   "source": [
    "# 出力用のデータの作成\n",
    "id = test['id']\n",
    "test_pred = pd.Series(test_pred)\n",
    "pred = test_pred\n",
    "\n",
    "submit = pd.concat([id,pred], axis=1)\n",
    "submit.columns = ['id', 'y']\n",
    "submit"
   ]
  },
  {
   "cell_type": "code",
   "execution_count": null,
   "metadata": {},
   "outputs": [],
   "source": [
    "# 提出用\n",
    "submit.to_csv('xgboost.csv',index=False,header=False)"
   ]
  },
  {
   "cell_type": "code",
   "execution_count": null,
   "metadata": {},
   "outputs": [],
   "source": [
    "#アンサンブル用\n",
    "submit.to_csv('xgboost.csv',index = False)"
   ]
  }
 ],
 "metadata": {
  "kernelspec": {
   "display_name": "Python 3.7.1 64-bit",
   "language": "python",
   "name": "python37164bit745322e800af484d9e7663a15d4e0767"
  },
  "language_info": {
   "codemirror_mode": {
    "name": "ipython",
    "version": 3
   },
   "file_extension": ".py",
   "mimetype": "text/x-python",
   "name": "python",
   "nbconvert_exporter": "python",
   "pygments_lexer": "ipython3",
   "version": "3.7.1"
  }
 },
 "nbformat": 4,
 "nbformat_minor": 4
}
